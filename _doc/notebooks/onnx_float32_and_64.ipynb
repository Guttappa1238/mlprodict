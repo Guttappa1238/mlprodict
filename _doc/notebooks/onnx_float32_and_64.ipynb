{
  "cells": [
    {
      "cell_type": "markdown",
      "metadata": {},
      "source": [
        "# ONNX graph, single or double floats\n",
        "\n",
        "The notebook shows discrepencies obtained by using double floats instead of single float in two cases. The second one involves [GaussianProcessRegressor](https://scikit-learn.org/stable/modules/generated/sklearn.gaussian_process.GaussianProcessRegressor.html)."
      ]
    },
    {
      "cell_type": "code",
      "execution_count": 1,
      "metadata": {},
      "outputs": [
        {
          "data": {
            "text/html": [
              "<div id=\"my_id_menu_nb\">run previous cell, wait for 2 seconds</div>\n",
              "<script>\n",
              "function repeat_indent_string(n){\n",
              "    var a = \"\" ;\n",
              "    for ( ; n > 0 ; --n)\n",
              "        a += \"    \";\n",
              "    return a;\n",
              "}\n",
              "// look up into all sections and builds an automated menu //\n",
              "var update_menu_string = function(begin, lfirst, llast, sformat, send, keep_item, begin_format, end_format) {\n",
              "    var anchors = document.getElementsByClassName(\"section\");\n",
              "    if (anchors.length == 0) {\n",
              "        anchors = document.getElementsByClassName(\"text_cell_render rendered_html\");\n",
              "    }\n",
              "    var i,t;\n",
              "    var text_menu = begin;\n",
              "    var text_memo = \"<pre>\\nlength:\" + anchors.length + \"\\n\";\n",
              "    var ind = \"\";\n",
              "    var memo_level = 1;\n",
              "    var href;\n",
              "    var tags = [];\n",
              "    var main_item = 0;\n",
              "    var format_open = 0;\n",
              "    for (i = 0; i <= llast; i++)\n",
              "        tags.push(\"h\" + i);\n",
              "\n",
              "    for (i = 0; i < anchors.length; i++) {\n",
              "        text_memo += \"**\" + anchors[i].id + \"--\\n\";\n",
              "\n",
              "        var child = null;\n",
              "        for(t = 0; t < tags.length; t++) {\n",
              "            var r = anchors[i].getElementsByTagName(tags[t]);\n",
              "            if (r.length > 0) {\n",
              "child = r[0];\n",
              "break;\n",
              "            }\n",
              "        }\n",
              "        if (child == null) {\n",
              "            text_memo += \"null\\n\";\n",
              "            continue;\n",
              "        }\n",
              "        if (anchors[i].hasAttribute(\"id\")) {\n",
              "            // when converted in RST\n",
              "            href = anchors[i].id;\n",
              "            text_memo += \"#1-\" + href;\n",
              "            // passer \u00e0 child suivant (le chercher)\n",
              "        }\n",
              "        else if (child.hasAttribute(\"id\")) {\n",
              "            // in a notebook\n",
              "            href = child.id;\n",
              "            text_memo += \"#2-\" + href;\n",
              "        }\n",
              "        else {\n",
              "            text_memo += \"#3-\" + \"*\" + \"\\n\";\n",
              "            continue;\n",
              "        }\n",
              "        var title = child.textContent;\n",
              "        var level = parseInt(child.tagName.substring(1,2));\n",
              "\n",
              "        text_memo += \"--\" + level + \"?\" + lfirst + \"--\" + title + \"\\n\";\n",
              "\n",
              "        if ((level < lfirst) || (level > llast)) {\n",
              "            continue ;\n",
              "        }\n",
              "        if (title.endsWith('\u00b6')) {\n",
              "            title = title.substring(0,title.length-1).replace(\"<\", \"&lt;\")\n",
              "         .replace(\">\", \"&gt;\").replace(\"&\", \"&amp;\");\n",
              "        }\n",
              "        if (title.length == 0) {\n",
              "            continue;\n",
              "        }\n",
              "\n",
              "        while (level < memo_level) {\n",
              "            text_menu += end_format + \"</ul>\\n\";\n",
              "            format_open -= 1;\n",
              "            memo_level -= 1;\n",
              "        }\n",
              "        if (level == lfirst) {\n",
              "            main_item += 1;\n",
              "        }\n",
              "        if (keep_item != -1 && main_item != keep_item + 1) {\n",
              "            // alert(main_item + \" - \" + level + \" - \" + keep_item);\n",
              "            continue;\n",
              "        }\n",
              "        while (level > memo_level) {\n",
              "            text_menu += \"<ul>\\n\";\n",
              "            memo_level += 1;\n",
              "        }\n",
              "        text_menu += repeat_indent_string(level-2);\n",
              "        text_menu += begin_format + sformat.replace(\"__HREF__\", href).replace(\"__TITLE__\", title);\n",
              "        format_open += 1;\n",
              "    }\n",
              "    while (1 < memo_level) {\n",
              "        text_menu += end_format + \"</ul>\\n\";\n",
              "        memo_level -= 1;\n",
              "        format_open -= 1;\n",
              "    }\n",
              "    text_menu += send;\n",
              "    //text_menu += \"\\n\" + text_memo;\n",
              "\n",
              "    while (format_open > 0) {\n",
              "        text_menu += end_format;\n",
              "        format_open -= 1;\n",
              "    }\n",
              "    return text_menu;\n",
              "};\n",
              "var update_menu = function() {\n",
              "    var sbegin = \"\";\n",
              "    var sformat = '<a href=\"#__HREF__\">__TITLE__</a>';\n",
              "    var send = \"\";\n",
              "    var begin_format = '<li>';\n",
              "    var end_format = '</li>';\n",
              "    var keep_item = -1;\n",
              "    var text_menu = update_menu_string(sbegin, 2, 4, sformat, send, keep_item,\n",
              "       begin_format, end_format);\n",
              "    var menu = document.getElementById(\"my_id_menu_nb\");\n",
              "    menu.innerHTML=text_menu;\n",
              "};\n",
              "window.setTimeout(update_menu,2000);\n",
              "            </script>"
            ],
            "text/plain": [
              "<IPython.core.display.HTML object>"
            ]
          },
          "execution_count": 2,
          "metadata": {},
          "output_type": "execute_result"
        }
      ],
      "source": [
        "from jyquickhelper import add_notebook_menu\n",
        "add_notebook_menu()"
      ]
    },
    {
      "cell_type": "markdown",
      "metadata": {},
      "source": [
        "## Simple case of a linear regression\n",
        "\n",
        "A linear regression is simply a matrix multiplication followed by an addition: $Y=AX+B$. Let's train one with [scikit-learn](https://scikit-learn.org/stable/)."
      ]
    },
    {
      "cell_type": "code",
      "execution_count": 2,
      "metadata": {},
      "outputs": [
        {
          "data": {
            "text/plain": [
              "LinearRegression(copy_X=True, fit_intercept=True, n_jobs=None, normalize=False)"
            ]
          },
          "execution_count": 3,
          "metadata": {},
          "output_type": "execute_result"
        }
      ],
      "source": [
        "from sklearn.linear_model import LinearRegression\n",
        "from sklearn.datasets import load_boston\n",
        "from sklearn.model_selection import train_test_split\n",
        "data = load_boston()\n",
        "X, y = data.data, data.target\n",
        "X_train, X_test, y_train, y_test = train_test_split(X, y)\n",
        "clr = LinearRegression()\n",
        "clr.fit(X_train, y_train)"
      ]
    },
    {
      "cell_type": "code",
      "execution_count": 3,
      "metadata": {},
      "outputs": [
        {
          "data": {
            "text/plain": [
              "0.77265840833068"
            ]
          },
          "execution_count": 4,
          "metadata": {},
          "output_type": "execute_result"
        }
      ],
      "source": [
        "clr.score(X_test, y_test)"
      ]
    },
    {
      "cell_type": "code",
      "execution_count": 4,
      "metadata": {},
      "outputs": [
        {
          "data": {
            "text/plain": [
              "array([-1.15252395e-01,  4.88204037e-02, -8.41963443e-03,  2.59331874e+00,\n",
              "       -2.06335208e+01,  4.04718591e+00, -2.11526920e-03, -1.65794672e+00,\n",
              "        2.84796430e-01, -9.98951697e-03, -9.90364341e-01,  1.03828254e-02,\n",
              "       -4.68964825e-01])"
            ]
          },
          "execution_count": 5,
          "metadata": {},
          "output_type": "execute_result"
        }
      ],
      "source": [
        "clr.coef_"
      ]
    },
    {
      "cell_type": "code",
      "execution_count": 5,
      "metadata": {},
      "outputs": [
        {
          "data": {
            "text/plain": [
              "36.835989825553355"
            ]
          },
          "execution_count": 6,
          "metadata": {},
          "output_type": "execute_result"
        }
      ],
      "source": [
        "clr.intercept_"
      ]
    },
    {
      "cell_type": "markdown",
      "metadata": {},
      "source": [
        "Let's predict with *scikit-learn* and *python*."
      ]
    },
    {
      "cell_type": "code",
      "execution_count": 6,
      "metadata": {},
      "outputs": [
        {
          "data": {
            "text/plain": [
              "array([23.62794378, 21.20532332, 27.58860225, 18.6063024 , 15.93082815])"
            ]
          },
          "execution_count": 7,
          "metadata": {},
          "output_type": "execute_result"
        }
      ],
      "source": [
        "ypred = clr.predict(X_test)\n",
        "ypred[:5]"
      ]
    },
    {
      "cell_type": "code",
      "execution_count": 7,
      "metadata": {},
      "outputs": [
        {
          "data": {
            "text/plain": [
              "array([23.62794378, 21.20532332, 27.58860225, 18.6063024 , 15.93082815])"
            ]
          },
          "execution_count": 8,
          "metadata": {},
          "output_type": "execute_result"
        }
      ],
      "source": [
        "py_pred = X_test @ clr.coef_ + clr.intercept_\n",
        "py_pred[:5]"
      ]
    },
    {
      "cell_type": "code",
      "execution_count": 8,
      "metadata": {},
      "outputs": [
        {
          "data": {
            "text/plain": [
              "(dtype('float64'), dtype('float64'))"
            ]
          },
          "execution_count": 9,
          "metadata": {},
          "output_type": "execute_result"
        }
      ],
      "source": [
        "clr.coef_.dtype, clr.intercept_.dtype"
      ]
    },
    {
      "cell_type": "markdown",
      "metadata": {},
      "source": [
        "## With ONNX\n",
        "\n",
        "With *ONNX*, we would write this operation as follows... We still need to convert everything into single floats = float32."
      ]
    },
    {
      "cell_type": "code",
      "execution_count": 9,
      "metadata": {},
      "outputs": [],
      "source": [
        "%load_ext mlprodict"
      ]
    },
    {
      "cell_type": "code",
      "execution_count": 10,
      "metadata": {},
      "outputs": [
        {
          "data": {
            "text/html": [
              "<div id=\"Mdcee47589f1649d9865d6bae4570a8b9-cont\"><div id=\"Mdcee47589f1649d9865d6bae4570a8b9\" style=\"width:100%;height:100%;\"></div></div>\n",
              "<script>\n",
              "\n",
              "require(['http://www.xavierdupre.fr/js/vizjs/viz.js'], function() { var svgGraph = Viz(\"digraph{\\n  ranksep=0.25;\\n  orientation=portrait;\\n  nodesep=0.05;\\n\\n  X [shape=box color=red label=\\\"X\\nfloat((0, 13))\\\" fontsize=10];\\n\\n  Y [shape=box color=green label=\\\"Y\\nfloat((0,))\\\" fontsize=10];\\n\\n  Ma_MatMulcst [shape=box label=\\\"Ma_MatMulcst\\nfloat32((13,))\\n[-1.15252398e-01  4.88204025e-02 -8.41963477e-03  ...\\\" fontsize=10];\\n  Ad_Addcst [shape=box label=\\\"Ad_Addcst\\nfloat32((1,))\\n[36.83599]\\\" fontsize=10];\\n\\n  Ma_Y0 [shape=box label=\\\"Ma_Y0\\\" fontsize=10];\\n  Ma_MatMul [shape=box style=\\\"filled,rounded\\\" color=orange label=\\\"MatMul\\n(Ma_MatMul)\\\" fontsize=10];\\n  X -> Ma_MatMul;\\n  Ma_MatMulcst -> Ma_MatMul;\\n  Ma_MatMul -> Ma_Y0;\\n\\n  Ad_Add [shape=box style=\\\"filled,rounded\\\" color=orange label=\\\"Add\\n(Ad_Add)\\\" fontsize=10];\\n  Ma_Y0 -> Ad_Add;\\n  Ad_Addcst -> Ad_Add;\\n  Ad_Add -> Y;\\n}\");\n",
              "document.getElementById('Mdcee47589f1649d9865d6bae4570a8b9').innerHTML = svgGraph; });\n",
              "\n",
              "</script>"
            ],
            "text/plain": [
              "<jyquickhelper.jspy.render_nb_js_dot.RenderJsDot at 0x2c04cbd7e48>"
            ]
          },
          "execution_count": 11,
          "metadata": {},
          "output_type": "execute_result"
        }
      ],
      "source": [
        "from skl2onnx.algebra.onnx_ops import OnnxMatMul, OnnxAdd\n",
        "import numpy\n",
        "\n",
        "onnx_fct = OnnxAdd(OnnxMatMul('X', clr.coef_.astype(numpy.float32)),\n",
        "                   numpy.array([clr.intercept_]),\n",
        "                   output_names=['Y'])\n",
        "onnx_model32 = onnx_fct.to_onnx({'X': X_test.astype(numpy.float32)},\n",
        "                              dtype=numpy.float32)\n",
        "\n",
        "# add -l 1 if nothing shows up\n",
        "%onnxview onnx_model32"
      ]
    },
    {
      "cell_type": "markdown",
      "metadata": {},
      "source": [
        "The next line uses a python runtime to compute the prediction."
      ]
    },
    {
      "cell_type": "code",
      "execution_count": 11,
      "metadata": {},
      "outputs": [
        {
          "data": {
            "text/plain": [
              "array([23.627945, 21.205326, 27.588604, 18.606304, 15.930832],\n",
              "      dtype=float32)"
            ]
          },
          "execution_count": 12,
          "metadata": {},
          "output_type": "execute_result"
        }
      ],
      "source": [
        "from mlprodict.onnxrt import OnnxInference\n",
        "oinf = OnnxInference(onnx_model32)\n",
        "ort_pred = oinf.run({'X': X_test.astype(numpy.float32)})['Y']\n",
        "ort_pred[:5]"
      ]
    },
    {
      "cell_type": "markdown",
      "metadata": {},
      "source": [
        "And here is the same with [onnxruntime](https://github.com/microsoft/onnxruntime)..."
      ]
    },
    {
      "cell_type": "code",
      "execution_count": 12,
      "metadata": {},
      "outputs": [
        {
          "data": {
            "text/plain": [
              "array([23.627945, 21.205326, 27.588604, 18.606304, 15.930832],\n",
              "      dtype=float32)"
            ]
          },
          "execution_count": 13,
          "metadata": {},
          "output_type": "execute_result"
        }
      ],
      "source": [
        "oinf = OnnxInference(onnx_model32, runtime=\"onnxruntime1\")\n",
        "ort_pred = oinf.run({'X': X_test.astype(numpy.float32)})['Y']\n",
        "ort_pred[:5]"
      ]
    },
    {
      "cell_type": "markdown",
      "metadata": {},
      "source": [
        "## With double instead of single float\n",
        "\n",
        "[ONNX](https://onnx.ai/) was originally designed for deep learning which usually uses floats but it does not mean cannot be used. Every number is converted into double floats."
      ]
    },
    {
      "cell_type": "code",
      "execution_count": 13,
      "metadata": {},
      "outputs": [],
      "source": [
        "onnx_fct = OnnxAdd(OnnxMatMul('X', clr.coef_.astype(numpy.float64)),\n",
        "                   numpy.array([clr.intercept_]),\n",
        "                   output_names=['Y'])\n",
        "onnx_model64 = onnx_fct.to_onnx({'X': X_test.astype(numpy.float64)},\n",
        "                              dtype=numpy.float64)"
      ]
    },
    {
      "cell_type": "markdown",
      "metadata": {},
      "source": [
        "And now the *python* runtime..."
      ]
    },
    {
      "cell_type": "code",
      "execution_count": 14,
      "metadata": {},
      "outputs": [
        {
          "data": {
            "text/plain": [
              "array([23.62794378, 21.20532332, 27.58860225, 18.6063024 , 15.93082815])"
            ]
          },
          "execution_count": 15,
          "metadata": {},
          "output_type": "execute_result"
        }
      ],
      "source": [
        "oinf = OnnxInference(onnx_model64)\n",
        "ort_pred = oinf.run({'X': X_test})['Y']\n",
        "ort_pred[:5]"
      ]
    },
    {
      "cell_type": "markdown",
      "metadata": {},
      "source": [
        "And the *onnxruntime* version of it, not fully supportive of double yet..."
      ]
    },
    {
      "cell_type": "code",
      "execution_count": 15,
      "metadata": {},
      "outputs": [],
      "source": [
        "try:\n",
        "    oinf = OnnxInference(onnx_model64, runtime=\"onnxruntime1\")\n",
        "    ort_pred = oinf.run({'X': X_test.astype(numpy.float64)})['Y']\n",
        "    ort_pred[:5]\n",
        "except RuntimeError as e:\n",
        "    print(e)"
      ]
    },
    {
      "cell_type": "markdown",
      "metadata": {},
      "source": [
        "## And now the GaussianProcessRegressor\n",
        "\n",
        "This shows a case"
      ]
    },
    {
      "cell_type": "code",
      "execution_count": 16,
      "metadata": {},
      "outputs": [
        {
          "data": {
            "text/plain": [
              "GaussianProcessRegressor(alpha=10, copy_X_train=True,\n",
              "                         kernel=DotProduct(sigma_0=1), n_restarts_optimizer=0,\n",
              "                         normalize_y=False, optimizer='fmin_l_bfgs_b',\n",
              "                         random_state=None)"
            ]
          },
          "execution_count": 17,
          "metadata": {},
          "output_type": "execute_result"
        }
      ],
      "source": [
        "from sklearn.gaussian_process import GaussianProcessRegressor\n",
        "from sklearn.gaussian_process.kernels import DotProduct\n",
        "gau = GaussianProcessRegressor(alpha=10, kernel=DotProduct())\n",
        "gau.fit(X_train, y_train)"
      ]
    },
    {
      "cell_type": "code",
      "execution_count": 17,
      "metadata": {},
      "outputs": [
        {
          "data": {
            "text/plain": [
              "array([24.375  , 20.625  , 28.5    , 18.3125 , 18.15625, 15.5    ,\n",
              "       40.40625, 21.0625 , 17.5    , 16.25   , 18.625  , 23.5    ,\n",
              "       20.875  , 16.8125 , 18.75   , 25.375  , 21.84375, 27.75   ,\n",
              "       14.75   , 31.65625, 20.40625, 21.9375 , 26.5    , 13.53125,\n",
              "       34.15625], dtype=float32)"
            ]
          },
          "execution_count": 18,
          "metadata": {},
          "output_type": "execute_result"
        }
      ],
      "source": [
        "from mlprodict.onnx_conv import to_onnx\n",
        "onnxgau32 = to_onnx(gau, X_train.astype(numpy.float32), dtype=numpy.float32)\n",
        "oinf32 = OnnxInference(onnxgau32, runtime=\"python\")\n",
        "ort_pred32 = oinf32.run({'X': X_test.astype(numpy.float32)})['GPmean']\n",
        "numpy.squeeze(ort_pred32)[:25]"
      ]
    },
    {
      "cell_type": "code",
      "execution_count": 18,
      "metadata": {},
      "outputs": [
        {
          "data": {
            "text/plain": [
              "array([24.68275083, 20.17216288, 28.4280004 , 18.16998445, 18.26424628,\n",
              "       16.07043206, 40.59617799, 20.4861235 , 17.96905057, 16.24325372,\n",
              "       19.01950901, 23.65422543, 20.54061589, 16.83765505, 18.85620332,\n",
              "       25.66149306, 21.4924616 , 27.50628927, 14.67275618, 31.56870577,\n",
              "       20.16713281, 21.42304151, 26.96992261, 13.81531227, 34.04079153])"
            ]
          },
          "execution_count": 19,
          "metadata": {},
          "output_type": "execute_result"
        }
      ],
      "source": [
        "onnxgau64 = to_onnx(gau, X_train.astype(numpy.float64), dtype=numpy.float64)\n",
        "oinf64 = OnnxInference(onnxgau64, runtime=\"python\")\n",
        "ort_pred64 = oinf64.run({'X': X_test.astype(numpy.float64)})['GPmean']\n",
        "numpy.squeeze(ort_pred64)[:25]"
      ]
    },
    {
      "cell_type": "markdown",
      "metadata": {},
      "source": [
        "The differences between the predictions for single floats and double floats..."
      ]
    },
    {
      "cell_type": "code",
      "execution_count": 19,
      "metadata": {},
      "outputs": [
        {
          "data": {
            "text/plain": [
              "array([0.47186822, 0.51445849, 0.52629847, 0.5763765 , 0.70492867])"
            ]
          },
          "execution_count": 20,
          "metadata": {},
          "output_type": "execute_result"
        }
      ],
      "source": [
        "numpy.sort(numpy.sort(numpy.squeeze(ort_pred32 - ort_pred64)))[-5:]"
      ]
    },
    {
      "cell_type": "markdown",
      "metadata": {},
      "source": [
        "Who's right or wrong... The differences between the predictions with the original model..."
      ]
    },
    {
      "cell_type": "code",
      "execution_count": 20,
      "metadata": {},
      "outputs": [],
      "source": [
        "pred = gau.predict(X_test.astype(numpy.float64))"
      ]
    },
    {
      "cell_type": "code",
      "execution_count": 21,
      "metadata": {},
      "outputs": [
        {
          "data": {
            "text/plain": [
              "array([0.47186822, 0.51445849, 0.52629847, 0.5763765 , 0.70492867])"
            ]
          },
          "execution_count": 22,
          "metadata": {},
          "output_type": "execute_result"
        }
      ],
      "source": [
        "numpy.sort(numpy.sort(numpy.squeeze(ort_pred32 - pred)))[-5:]"
      ]
    },
    {
      "cell_type": "code",
      "execution_count": 22,
      "metadata": {},
      "outputs": [
        {
          "data": {
            "text/plain": [
              "array([0., 0., 0., 0., 0.])"
            ]
          },
          "execution_count": 23,
          "metadata": {},
          "output_type": "execute_result"
        }
      ],
      "source": [
        "numpy.sort(numpy.sort(numpy.squeeze(ort_pred64 - pred)))[-5:]"
      ]
    },
    {
      "cell_type": "markdown",
      "metadata": {},
      "source": [
        "Double predictions clearly wins."
      ]
    },
    {
      "cell_type": "code",
      "execution_count": 23,
      "metadata": {},
      "outputs": [
        {
          "data": {
            "text/html": [
              "<div id=\"Md6d6f79f149e4869a5c902cd901836e4-cont\"><div id=\"Md6d6f79f149e4869a5c902cd901836e4\" style=\"width:100%;height:100%;\"></div></div>\n",
              "<script>\n",
              "\n",
              "require(['http://www.xavierdupre.fr/js/vizjs/viz.js'], function() { var svgGraph = Viz(\"digraph{\\n  ranksep=0.25;\\n  orientation=portrait;\\n  nodesep=0.05;\\n\\n  X [shape=box color=red label=\\\"X\\ndouble((0, 13))\\\" fontsize=10];\\n\\n  GPmean [shape=box color=green label=\\\"GPmean\\ndouble((0, 1))\\\" fontsize=10];\\n\\n  kgpd_MatMulcst [shape=box label=\\\"kgpd_MatMulcst\\nfloat64((13, 379))\\n[[2.98190e-01 1.10874e+01 8.22100e-02 ... 8.82900e...\\\" fontsize=10];\\n  kgpd_Addcst [shape=box label=\\\"kgpd_Addcst\\nfloat64((1,))\\n[705.79396344]\\\" fontsize=10];\\n  gpr_MatMulcst [shape=box label=\\\"gpr_MatMulcst\\nfloat64((379,))\\n[ 1.06765100e+00 -3.89747603e-01  4.00184291e-01 -...\\\" fontsize=10];\\n  gpr_Addcst [shape=box label=\\\"gpr_Addcst\\nfloat64((1, 1))\\n[[0.]]\\\" fontsize=10];\\n\\n  kgpd_Y0 [shape=box label=\\\"kgpd_Y0\\\" fontsize=10];\\n  kgpd_MatMul [shape=box style=\\\"filled,rounded\\\" color=orange label=\\\"MatMul\\n(kgpd_MatMul)\\\" fontsize=10];\\n  X -> kgpd_MatMul;\\n  kgpd_MatMulcst -> kgpd_MatMul;\\n  kgpd_MatMul -> kgpd_Y0;\\n\\n  kgpd_C0 [shape=box label=\\\"kgpd_C0\\\" fontsize=10];\\n  kgpd_Add [shape=box style=\\\"filled,rounded\\\" color=orange label=\\\"Add\\n(kgpd_Add)\\\" fontsize=10];\\n  kgpd_Y0 -> kgpd_Add;\\n  kgpd_Addcst -> kgpd_Add;\\n  kgpd_Add -> kgpd_C0;\\n\\n  kgpd_output0 [shape=box label=\\\"kgpd_output0\\\" fontsize=10];\\n  kgpd_Identity [shape=box style=\\\"filled,rounded\\\" color=orange label=\\\"Identity\\n(kgpd_Identity)\\\" fontsize=10];\\n  kgpd_C0 -> kgpd_Identity;\\n  kgpd_Identity -> kgpd_output0;\\n\\n  gpr_Y0 [shape=box label=\\\"gpr_Y0\\\" fontsize=10];\\n  gpr_MatMul [shape=box style=\\\"filled,rounded\\\" color=orange label=\\\"MatMul\\n(gpr_MatMul)\\\" fontsize=10];\\n  kgpd_output0 -> gpr_MatMul;\\n  gpr_MatMulcst -> gpr_MatMul;\\n  gpr_MatMul -> gpr_Y0;\\n\\n  gpr_Add [shape=box style=\\\"filled,rounded\\\" color=orange label=\\\"Add\\n(gpr_Add)\\\" fontsize=10];\\n  gpr_Y0 -> gpr_Add;\\n  gpr_Addcst -> gpr_Add;\\n  gpr_Add -> GPmean;\\n}\");\n",
              "document.getElementById('Md6d6f79f149e4869a5c902cd901836e4').innerHTML = svgGraph; });\n",
              "\n",
              "</script>"
            ],
            "text/plain": [
              "<jyquickhelper.jspy.render_nb_js_dot.RenderJsDot at 0x2c04cd1a828>"
            ]
          },
          "execution_count": 24,
          "metadata": {},
          "output_type": "execute_result"
        }
      ],
      "source": [
        "# add -l 1 if nothing shows up\n",
        "%onnxview onnxgau64"
      ]
    },
    {
      "cell_type": "markdown",
      "metadata": {},
      "source": [
        "## Saves...\n",
        "\n",
        "Let's keep track of it."
      ]
    },
    {
      "cell_type": "code",
      "execution_count": 24,
      "metadata": {},
      "outputs": [
        {
          "data": {
            "text/html": [
              "<a href='gpr_dot_product_boston_32.onnx' target='_blank'>gpr_dot_product_boston_32.onnx</a><br>"
            ],
            "text/plain": [
              "C:\\xavierdupre\\__home_\\GitHub\\mlprodict\\_doc\\notebooks\\gpr_dot_product_boston_32.onnx"
            ]
          },
          "execution_count": 25,
          "metadata": {},
          "output_type": "execute_result"
        }
      ],
      "source": [
        "with open(\"gpr_dot_product_boston_32.onnx\", \"wb\") as f:\n",
        "    f.write(onnxgau32.SerializePartialToString())\n",
        "from IPython.display import FileLink\n",
        "FileLink('gpr_dot_product_boston_32.onnx')"
      ]
    },
    {
      "cell_type": "code",
      "execution_count": 25,
      "metadata": {},
      "outputs": [
        {
          "data": {
            "text/html": [
              "<a href='gpr_dot_product_boston_64.onnx' target='_blank'>gpr_dot_product_boston_64.onnx</a><br>"
            ],
            "text/plain": [
              "C:\\xavierdupre\\__home_\\GitHub\\mlprodict\\_doc\\notebooks\\gpr_dot_product_boston_64.onnx"
            ]
          },
          "execution_count": 26,
          "metadata": {},
          "output_type": "execute_result"
        }
      ],
      "source": [
        "with open(\"gpr_dot_product_boston_64.onnx\", \"wb\") as f:\n",
        "    f.write(onnxgau64.SerializePartialToString())\n",
        "FileLink('gpr_dot_product_boston_64.onnx')"
      ]
    },
    {
      "cell_type": "markdown",
      "metadata": {},
      "source": [
        "## Side by side\n",
        "\n",
        "We may wonder where the discrepencies start. But for that, we need to do a side by side."
      ]
    },
    {
      "cell_type": "code",
      "execution_count": 26,
      "metadata": {},
      "outputs": [
        {
          "data": {
            "text/html": [
              "<div>\n",
              "<style scoped>\n",
              "    .dataframe tbody tr th:only-of-type {\n",
              "        vertical-align: middle;\n",
              "    }\n",
              "\n",
              "    .dataframe tbody tr th {\n",
              "        vertical-align: top;\n",
              "    }\n",
              "\n",
              "    .dataframe thead th {\n",
              "        text-align: right;\n",
              "    }\n",
              "</style>\n",
              "<table border=\"1\" class=\"dataframe\">\n",
              "  <thead>\n",
              "    <tr style=\"text-align: right;\">\n",
              "      <th></th>\n",
              "      <th>metric</th>\n",
              "      <th>step</th>\n",
              "      <th>v[0]</th>\n",
              "      <th>v[1]</th>\n",
              "      <th>cmp</th>\n",
              "      <th>name</th>\n",
              "      <th>value[0]</th>\n",
              "      <th>shape[0]</th>\n",
              "      <th>value[1]</th>\n",
              "      <th>shape[1]</th>\n",
              "    </tr>\n",
              "  </thead>\n",
              "  <tbody>\n",
              "    <tr>\n",
              "      <th>0</th>\n",
              "      <td>nb_results</td>\n",
              "      <td>-1</td>\n",
              "      <td>10</td>\n",
              "      <td>1.000000e+01</td>\n",
              "      <td>OK</td>\n",
              "      <td>NaN</td>\n",
              "      <td>NaN</td>\n",
              "      <td>NaN</td>\n",
              "      <td>NaN</td>\n",
              "      <td>NaN</td>\n",
              "    </tr>\n",
              "    <tr>\n",
              "      <th>1</th>\n",
              "      <td>abs-diff</td>\n",
              "      <td>0</td>\n",
              "      <td>0</td>\n",
              "      <td>4.893252e-08</td>\n",
              "      <td>OK</td>\n",
              "      <td>X</td>\n",
              "      <td>[[0.06263, 0.0, 11.93, 0.0, 0.573, 6.593, 69.1...</td>\n",
              "      <td>(127, 13)</td>\n",
              "      <td>[[0.06263, 0.0, 11.93, 0.0, 0.573, 6.593, 69.1...</td>\n",
              "      <td>(127, 13)</td>\n",
              "    </tr>\n",
              "    <tr>\n",
              "      <th>2</th>\n",
              "      <td>abs-diff</td>\n",
              "      <td>1</td>\n",
              "      <td>0</td>\n",
              "      <td>2.615161e-02</td>\n",
              "      <td>e&lt;0.1</td>\n",
              "      <td>GPmean</td>\n",
              "      <td>[[24.375, 20.625, 28.5, 18.3125, 18.15625, 15....</td>\n",
              "      <td>(1, 127)</td>\n",
              "      <td>[[24.682750829830184, 20.17216288333293, 28.42...</td>\n",
              "      <td>(1, 127)</td>\n",
              "    </tr>\n",
              "    <tr>\n",
              "      <th>3</th>\n",
              "      <td>abs-diff</td>\n",
              "      <td>2</td>\n",
              "      <td>0</td>\n",
              "      <td>5.553783e-08</td>\n",
              "      <td>OK</td>\n",
              "      <td>kgpd_MatMulcst</td>\n",
              "      <td>[[0.29819, 11.0874, 0.08221, 0.12802, 0.62356,...</td>\n",
              "      <td>(13, 379)</td>\n",
              "      <td>[[0.29819, 11.0874, 0.08221, 0.12802, 0.62356,...</td>\n",
              "      <td>(13, 379)</td>\n",
              "    </tr>\n",
              "    <tr>\n",
              "      <th>4</th>\n",
              "      <td>abs-diff</td>\n",
              "      <td>3</td>\n",
              "      <td>0</td>\n",
              "      <td>2.569000e-08</td>\n",
              "      <td>OK</td>\n",
              "      <td>kgpd_Addcst</td>\n",
              "      <td>[705.79395]</td>\n",
              "      <td>(1,)</td>\n",
              "      <td>[705.7939634443445]</td>\n",
              "      <td>(1,)</td>\n",
              "    </tr>\n",
              "    <tr>\n",
              "      <th>5</th>\n",
              "      <td>abs-diff</td>\n",
              "      <td>4</td>\n",
              "      <td>0</td>\n",
              "      <td>5.295014e-08</td>\n",
              "      <td>OK</td>\n",
              "      <td>gpr_MatMulcst</td>\n",
              "      <td>[1.067651, -0.3897476, 0.4001843, -0.28861365,...</td>\n",
              "      <td>(379,)</td>\n",
              "      <td>[1.0676510043582548, -0.3897476028987512, 0.40...</td>\n",
              "      <td>(379,)</td>\n",
              "    </tr>\n",
              "    <tr>\n",
              "      <th>6</th>\n",
              "      <td>abs-diff</td>\n",
              "      <td>5</td>\n",
              "      <td>0</td>\n",
              "      <td>0.000000e+00</td>\n",
              "      <td>OK</td>\n",
              "      <td>gpr_Addcst</td>\n",
              "      <td>[[0.0]]</td>\n",
              "      <td>(1, 1)</td>\n",
              "      <td>[[0.0]]</td>\n",
              "      <td>(1, 1)</td>\n",
              "    </tr>\n",
              "    <tr>\n",
              "      <th>7</th>\n",
              "      <td>abs-diff</td>\n",
              "      <td>6</td>\n",
              "      <td>0</td>\n",
              "      <td>2.003658e-07</td>\n",
              "      <td>OK</td>\n",
              "      <td>kgpd_Y0</td>\n",
              "      <td>[[234216.27, 315237.94, 243189.44, 267891.22, ...</td>\n",
              "      <td>(127, 379)</td>\n",
              "      <td>[[234216.25805194405, 315237.96387384634, 2431...</td>\n",
              "      <td>(127, 379)</td>\n",
              "    </tr>\n",
              "    <tr>\n",
              "      <th>8</th>\n",
              "      <td>abs-diff</td>\n",
              "      <td>7</td>\n",
              "      <td>0</td>\n",
              "      <td>2.003658e-07</td>\n",
              "      <td>OK</td>\n",
              "      <td>kgpd_C0</td>\n",
              "      <td>[[234216.27, 315237.94, 243189.44, 267891.22, ...</td>\n",
              "      <td>(127, 379)</td>\n",
              "      <td>[[234216.25805194405, 315237.96387384634, 2431...</td>\n",
              "      <td>(127, 379)</td>\n",
              "    </tr>\n",
              "    <tr>\n",
              "      <th>9</th>\n",
              "      <td>abs-diff</td>\n",
              "      <td>8</td>\n",
              "      <td>0</td>\n",
              "      <td>2.003658e-07</td>\n",
              "      <td>OK</td>\n",
              "      <td>kgpd_output0</td>\n",
              "      <td>[[234216.27, 315237.94, 243189.44, 267891.22, ...</td>\n",
              "      <td>(127, 379)</td>\n",
              "      <td>[[234216.25805194405, 315237.96387384634, 2431...</td>\n",
              "      <td>(127, 379)</td>\n",
              "    </tr>\n",
              "    <tr>\n",
              "      <th>10</th>\n",
              "      <td>abs-diff</td>\n",
              "      <td>9</td>\n",
              "      <td>0</td>\n",
              "      <td>2.615161e-02</td>\n",
              "      <td>e&lt;0.1</td>\n",
              "      <td>gpr_Y0</td>\n",
              "      <td>[24.375, 20.625, 28.5, 18.3125, 18.15625, 15.5...</td>\n",
              "      <td>(127,)</td>\n",
              "      <td>[24.682750829830184, 20.17216288333293, 28.428...</td>\n",
              "      <td>(127,)</td>\n",
              "    </tr>\n",
              "  </tbody>\n",
              "</table>\n",
              "</div>"
            ],
            "text/plain": [
              "        metric  step  v[0]          v[1]    cmp            name  \\\n",
              "0   nb_results    -1    10  1.000000e+01     OK             NaN   \n",
              "1     abs-diff     0     0  4.893252e-08     OK               X   \n",
              "2     abs-diff     1     0  2.615161e-02  e<0.1          GPmean   \n",
              "3     abs-diff     2     0  5.553783e-08     OK  kgpd_MatMulcst   \n",
              "4     abs-diff     3     0  2.569000e-08     OK     kgpd_Addcst   \n",
              "5     abs-diff     4     0  5.295014e-08     OK   gpr_MatMulcst   \n",
              "6     abs-diff     5     0  0.000000e+00     OK      gpr_Addcst   \n",
              "7     abs-diff     6     0  2.003658e-07     OK         kgpd_Y0   \n",
              "8     abs-diff     7     0  2.003658e-07     OK         kgpd_C0   \n",
              "9     abs-diff     8     0  2.003658e-07     OK    kgpd_output0   \n",
              "10    abs-diff     9     0  2.615161e-02  e<0.1          gpr_Y0   \n",
              "\n",
              "                                             value[0]    shape[0]  \\\n",
              "0                                                 NaN         NaN   \n",
              "1   [[0.06263, 0.0, 11.93, 0.0, 0.573, 6.593, 69.1...   (127, 13)   \n",
              "2   [[24.375, 20.625, 28.5, 18.3125, 18.15625, 15....    (1, 127)   \n",
              "3   [[0.29819, 11.0874, 0.08221, 0.12802, 0.62356,...   (13, 379)   \n",
              "4                                         [705.79395]        (1,)   \n",
              "5   [1.067651, -0.3897476, 0.4001843, -0.28861365,...      (379,)   \n",
              "6                                             [[0.0]]      (1, 1)   \n",
              "7   [[234216.27, 315237.94, 243189.44, 267891.22, ...  (127, 379)   \n",
              "8   [[234216.27, 315237.94, 243189.44, 267891.22, ...  (127, 379)   \n",
              "9   [[234216.27, 315237.94, 243189.44, 267891.22, ...  (127, 379)   \n",
              "10  [24.375, 20.625, 28.5, 18.3125, 18.15625, 15.5...      (127,)   \n",
              "\n",
              "                                             value[1]    shape[1]  \n",
              "0                                                 NaN         NaN  \n",
              "1   [[0.06263, 0.0, 11.93, 0.0, 0.573, 6.593, 69.1...   (127, 13)  \n",
              "2   [[24.682750829830184, 20.17216288333293, 28.42...    (1, 127)  \n",
              "3   [[0.29819, 11.0874, 0.08221, 0.12802, 0.62356,...   (13, 379)  \n",
              "4                                 [705.7939634443445]        (1,)  \n",
              "5   [1.0676510043582548, -0.3897476028987512, 0.40...      (379,)  \n",
              "6                                             [[0.0]]      (1, 1)  \n",
              "7   [[234216.25805194405, 315237.96387384634, 2431...  (127, 379)  \n",
              "8   [[234216.25805194405, 315237.96387384634, 2431...  (127, 379)  \n",
              "9   [[234216.25805194405, 315237.96387384634, 2431...  (127, 379)  \n",
              "10  [24.682750829830184, 20.17216288333293, 28.428...      (127,)  "
            ]
          },
          "execution_count": 27,
          "metadata": {},
          "output_type": "execute_result"
        }
      ],
      "source": [
        "from mlprodict.onnxrt.validate.side_by_side import side_by_side_by_values\n",
        "sbs = side_by_side_by_values([(oinf32, {'X': X_test.astype(numpy.float32)}),\n",
        "                              (oinf64, {'X': X_test.astype(numpy.float64)})])\n",
        "\n",
        "from pandas import DataFrame\n",
        "df = DataFrame(sbs)\n",
        "# dfd = df.drop(['value[0]', 'value[1]', 'value[2]'], axis=1).copy()\n",
        "df"
      ]
    },
    {
      "cell_type": "markdown",
      "metadata": {},
      "source": [
        "The differences really starts for output ``'O0'`` after the matrix multiplication. This matrix melts different number with very different order of magnitudes and that alone explains the discrepencies with doubles and floats on that particular model."
      ]
    },
    {
      "cell_type": "code",
      "execution_count": 27,
      "metadata": {},
      "outputs": [
        {
          "data": {
            "image/png": "[encoded data removed]",
            "text/plain": [
              "<Figure size 1008x288 with 1 Axes>"
            ]
          },
          "metadata": {
            "needs_background": "light"
          },
          "output_type": "display_data"
        }
      ],
      "source": [
        "%matplotlib inline\n",
        "ax = df[['name', 'v[1]']].iloc[1:].set_index('name').plot(kind='bar', figsize=(14,4), logy=True)\n",
        "ax.set_title(\"Relative differences for each output between float32 and float64\\nfor a GaussianProcessRegressor\");"
      ]
    },
    {
      "cell_type": "markdown",
      "metadata": {},
      "source": [
        "Before going further, let's check how sensitive the trained model is about converting double into floats."
      ]
    },
    {
      "cell_type": "code",
      "execution_count": 28,
      "metadata": {},
      "outputs": [
        {
          "data": {
            "text/plain": [
              "array([1.51888526e-06, 1.52538996e-06, 1.53196743e-06, 1.70313433e-06,\n",
              "       1.89113780e-06])"
            ]
          },
          "execution_count": 29,
          "metadata": {},
          "output_type": "execute_result"
        }
      ],
      "source": [
        "pg1 = gau.predict(X_test)\n",
        "pg2 = gau.predict(X_test.astype(numpy.float32).astype(numpy.float64))\n",
        "numpy.sort(numpy.sort(numpy.squeeze(pg1 - pg2)))[-5:]"
      ]
    },
    {
      "cell_type": "markdown",
      "metadata": {},
      "source": [
        "Having float or double inputs should not matter. We confirm that with the model converted into ONNX."
      ]
    },
    {
      "cell_type": "code",
      "execution_count": 29,
      "metadata": {},
      "outputs": [
        {
          "data": {
            "text/plain": [
              "array([1.51888526e-06, 1.52538996e-06, 1.53196743e-06, 1.70313433e-06,\n",
              "       1.89113780e-06])"
            ]
          },
          "execution_count": 30,
          "metadata": {},
          "output_type": "execute_result"
        }
      ],
      "source": [
        "p1 = oinf64.run({'X': X_test})['GPmean']\n",
        "p2 = oinf64.run({'X': X_test.astype(numpy.float32).astype(numpy.float64)})['GPmean']\n",
        "numpy.sort(numpy.sort(numpy.squeeze(p1 - p2)))[-5:]"
      ]
    },
    {
      "cell_type": "markdown",
      "metadata": {},
      "source": [
        "Last verification."
      ]
    },
    {
      "cell_type": "code",
      "execution_count": 30,
      "metadata": {},
      "outputs": [
        {
          "data": {
            "image/png": "[encoded data removed]",
            "text/plain": [
              "<Figure size 1008x288 with 1 Axes>"
            ]
          },
          "metadata": {
            "needs_background": "light"
          },
          "output_type": "display_data"
        }
      ],
      "source": [
        "sbs = side_by_side_by_values([(oinf64, {'X': X_test.astype(numpy.float32).astype(numpy.float64)}),\n",
        "                              (oinf64, {'X': X_test.astype(numpy.float64)})])\n",
        "df = DataFrame(sbs)\n",
        "ax = df[['name', 'v[1]']].iloc[1:].set_index('name').plot(kind='bar', figsize=(14,4), logy=True)\n",
        "ax.set_title(\"Relative differences for each output between float64 and float64 rounded to float32\"\n",
        "             \"\\nfor a GaussianProcessRegressor\");"
      ]
    },
    {
      "cell_type": "code",
      "execution_count": 31,
      "metadata": {},
      "outputs": [],
      "source": []
    }
  ],
  "metadata": {
    "kernelspec": {
      "display_name": "Python 3",
      "language": "python",
      "name": "python3"
    },
    "language_info": {
      "codemirror_mode": {
        "name": "ipython",
        "version": 3
      },
      "file_extension": ".py",
      "mimetype": "text/x-python",
      "name": "python",
      "nbconvert_exporter": "python",
      "pygments_lexer": "ipython3",
      "version": "3.7.2"
    }
  },
  "nbformat": 4,
  "nbformat_minor": 2
}