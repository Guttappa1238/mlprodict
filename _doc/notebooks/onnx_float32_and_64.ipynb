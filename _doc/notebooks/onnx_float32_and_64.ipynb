{
  "cells": [
    {
      "cell_type": "markdown",
      "metadata": {},
      "source": [
        "# ONNX graph, single or double floats\n",
        "\n",
        "The notebook shows discrepencies obtained by using double floats instead of single float in two cases. The second one involves [GaussianProcessRegressor](https://scikit-learn.org/stable/modules/generated/sklearn.gaussian_process.GaussianProcessRegressor.html)."
      ]
    },
    {
      "cell_type": "code",
      "execution_count": 1,
      "metadata": {},
      "outputs": [],
      "source": [
        "from jyquickhelper import add_notebook_menu\n",
        "add_notebook_menu()"
      ]
    },
    {
      "cell_type": "markdown",
      "metadata": {},
      "source": [
        "## Simple case of a linear regression\n",
        "\n",
        "A linear regression is simply a matrix multiplication followed by an addition: $Y=AX+B$. Let's train one with [scikit-learn](https://scikit-learn.org/stable/)."
      ]
    },
    {
      "cell_type": "code",
      "execution_count": 2,
      "metadata": {},
      "outputs": [
        {
          "data": {
            "text/plain": [
              "LinearRegression()"
            ]
          },
          "execution_count": 3,
          "metadata": {},
          "output_type": "execute_result"
        }
      ],
      "source": [
        "from sklearn.linear_model import LinearRegression\n",
        "from sklearn.datasets import load_boston\n",
        "from sklearn.model_selection import train_test_split\n",
        "data = load_boston()\n",
        "X, y = data.data, data.target\n",
        "X_train, X_test, y_train, y_test = train_test_split(X, y)\n",
        "clr = LinearRegression()\n",
        "clr.fit(X_train, y_train)"
      ]
    },
    {
      "cell_type": "code",
      "execution_count": 3,
      "metadata": {},
      "outputs": [
        {
          "data": {
            "text/plain": [
              "0.7188953853974145"
            ]
          },
          "execution_count": 4,
          "metadata": {},
          "output_type": "execute_result"
        }
      ],
      "source": [
        "clr.score(X_test, y_test)"
      ]
    },
    {
      "cell_type": "code",
      "execution_count": 4,
      "metadata": {},
      "outputs": [
        {
          "data": {
            "text/plain": [
              "array([-1.41404335e-01,  4.81102373e-02, -8.40548143e-04,  2.00042793e+00,\n",
              "       -1.80128739e+01,  4.06244143e+00, -2.31660654e-03, -1.50620416e+00,\n",
              "        3.42350977e-01, -1.39154224e-02, -9.29812974e-01,  9.52495986e-03,\n",
              "       -4.67914487e-01])"
            ]
          },
          "execution_count": 5,
          "metadata": {},
          "output_type": "execute_result"
        }
      ],
      "source": [
        "clr.coef_"
      ]
    },
    {
      "cell_type": "code",
      "execution_count": 5,
      "metadata": {},
      "outputs": [
        {
          "data": {
            "text/plain": [
              "34.58207029557392"
            ]
          },
          "execution_count": 6,
          "metadata": {},
          "output_type": "execute_result"
        }
      ],
      "source": [
        "clr.intercept_"
      ]
    },
    {
      "cell_type": "markdown",
      "metadata": {},
      "source": [
        "Let's predict with *scikit-learn* and *python*."
      ]
    },
    {
      "cell_type": "code",
      "execution_count": 6,
      "metadata": {},
      "outputs": [
        {
          "data": {
            "text/plain": [
              "array([34.62868904, 20.52633292, 27.48672629, 24.64851918, 21.98430679])"
            ]
          },
          "execution_count": 7,
          "metadata": {},
          "output_type": "execute_result"
        }
      ],
      "source": [
        "ypred = clr.predict(X_test)\n",
        "ypred[:5]"
      ]
    },
    {
      "cell_type": "code",
      "execution_count": 7,
      "metadata": {},
      "outputs": [
        {
          "data": {
            "text/plain": [
              "array([34.62868904, 20.52633292, 27.48672629, 24.64851918, 21.98430679])"
            ]
          },
          "execution_count": 8,
          "metadata": {},
          "output_type": "execute_result"
        }
      ],
      "source": [
        "py_pred = X_test @ clr.coef_ + clr.intercept_\n",
        "py_pred[:5]"
      ]
    },
    {
      "cell_type": "code",
      "execution_count": 8,
      "metadata": {},
      "outputs": [
        {
          "data": {
            "text/plain": [
              "(dtype('float64'), dtype('float64'))"
            ]
          },
          "execution_count": 9,
          "metadata": {},
          "output_type": "execute_result"
        }
      ],
      "source": [
        "clr.coef_.dtype, clr.intercept_.dtype"
      ]
    },
    {
      "cell_type": "markdown",
      "metadata": {},
      "source": [
        "## With ONNX\n",
        "\n",
        "With *ONNX*, we would write this operation as follows... We still need to convert everything into single floats = float32."
      ]
    },
    {
      "cell_type": "code",
      "execution_count": 9,
      "metadata": {},
      "outputs": [],
      "source": [
        "%load_ext mlprodict"
      ]
    },
    {
      "cell_type": "code",
      "execution_count": 10,
      "metadata": {
        "scrolled": false
      },
      "outputs": [
        {
          "data": {
            "text/html": [
              "<div id=\"Mb2a7eba4e9384f9ab3d9584f94a7b58e-cont\"><div id=\"Mb2a7eba4e9384f9ab3d9584f94a7b58e\" style=\"width:100%;height:100%;\"></div></div>\n",
              "<script>\n",
              "\n",
              "require(['http://www.xavierdupre.fr/js/vizjs/viz.js'], function() { var svgGraph = Viz(\"digraph{\\n  ranksep=0.25;\\n  nodesep=0.05;\\n  orientation=portrait;\\n\\n  X [shape=box color=red label=\\\"X\\nfloat((0, 13))\\\" fontsize=10];\\n\\n  Y [shape=box color=green label=\\\"Y\\nfloat((0,))\\\" fontsize=10];\\n\\n  Ma_MatMulcst [shape=box label=\\\"Ma_MatMulcst\\nfloat32((13,))\\n[-1.4140433e-01  4.8110235e-02 -8.4054813e-04  2.0...\\\" fontsize=10];\\n  Ad_Addcst [shape=box label=\\\"Ad_Addcst\\nfloat32((1,))\\n[34.58207]\\\" fontsize=10];\\n\\n  Ma_Y0 [shape=box label=\\\"Ma_Y0\\\" fontsize=10];\\n  Ma_MatMul [shape=box style=\\\"filled,rounded\\\" color=orange label=\\\"MatMul\\n(Ma_MatMul)\\\" fontsize=10];\\n  X -> Ma_MatMul;\\n  Ma_MatMulcst -> Ma_MatMul;\\n  Ma_MatMul -> Ma_Y0;\\n\\n  Ad_Add [shape=box style=\\\"filled,rounded\\\" color=orange label=\\\"Add\\n(Ad_Add)\\\" fontsize=10];\\n  Ma_Y0 -> Ad_Add;\\n  Ad_Addcst -> Ad_Add;\\n  Ad_Add -> Y;\\n}\");\n",
              "document.getElementById('Mb2a7eba4e9384f9ab3d9584f94a7b58e').innerHTML = svgGraph; });\n",
              "\n",
              "</script>"
            ],
            "text/plain": [
              "<jyquickhelper.jspy.render_nb_js_dot.RenderJsDot at 0x2906d80de48>"
            ]
          },
          "execution_count": 11,
          "metadata": {},
          "output_type": "execute_result"
        }
      ],
      "source": [
        "from skl2onnx.algebra.onnx_ops import OnnxMatMul, OnnxAdd\n",
        "import numpy\n",
        "\n",
        "onnx_fct = OnnxAdd(OnnxMatMul('X', clr.coef_.astype(numpy.float32), op_version=12),\n",
        "                   numpy.array([clr.intercept_], dtype=numpy.float32),\n",
        "                   output_names=['Y'], op_version=12)\n",
        "onnx_model32 = onnx_fct.to_onnx({'X': X_test.astype(numpy.float32)},\n",
        "                              dtype=numpy.float32)\n",
        "\n",
        "# add -l 1 if nothing shows up\n",
        "%onnxview onnx_model32"
      ]
    },
    {
      "cell_type": "markdown",
      "metadata": {},
      "source": [
        "The next line uses a python runtime to compute the prediction."
      ]
    },
    {
      "cell_type": "code",
      "execution_count": 11,
      "metadata": {},
      "outputs": [
        {
          "data": {
            "text/plain": [
              "array([34.628685, 20.526333, 27.486725, 24.648518, 21.984306],\n",
              "      dtype=float32)"
            ]
          },
          "execution_count": 12,
          "metadata": {},
          "output_type": "execute_result"
        }
      ],
      "source": [
        "from mlprodict.onnxrt import OnnxInference\n",
        "oinf = OnnxInference(onnx_model32)\n",
        "ort_pred = oinf.run({'X': X_test.astype(numpy.float32)})['Y']\n",
        "ort_pred[:5]"
      ]
    },
    {
      "cell_type": "markdown",
      "metadata": {},
      "source": [
        "And here is the same with [onnxruntime](https://github.com/microsoft/onnxruntime)..."
      ]
    },
    {
      "cell_type": "code",
      "execution_count": 12,
      "metadata": {},
      "outputs": [
        {
          "data": {
            "text/plain": [
              "array([34.628685, 20.526333, 27.486725, 24.648518, 21.984306],\n",
              "      dtype=float32)"
            ]
          },
          "execution_count": 13,
          "metadata": {},
          "output_type": "execute_result"
        }
      ],
      "source": [
        "from mlprodict.tools.asv_options_helper import get_ir_version_from_onnx\n",
        "# line needed when onnx is more recent than onnxruntime\n",
        "onnx_model32.ir_version = get_ir_version_from_onnx()\n",
        "oinf = OnnxInference(onnx_model32, runtime=\"onnxruntime1\")\n",
        "ort_pred = oinf.run({'X': X_test.astype(numpy.float32)})['Y']\n",
        "ort_pred[:5]"
      ]
    },
    {
      "cell_type": "markdown",
      "metadata": {},
      "source": [
        "## With double instead of single float\n",
        "\n",
        "[ONNX](https://onnx.ai/) was originally designed for deep learning which usually uses floats but it does not mean cannot be used. Every number is converted into double floats."
      ]
    },
    {
      "cell_type": "code",
      "execution_count": 13,
      "metadata": {},
      "outputs": [],
      "source": [
        "onnx_fct = OnnxAdd(OnnxMatMul('X', clr.coef_.astype(numpy.float64), op_version=12),\n",
        "                   numpy.array([clr.intercept_]),\n",
        "                   output_names=['Y'], op_version=12)\n",
        "onnx_model64 = onnx_fct.to_onnx({'X': X_test.astype(numpy.float64)},\n",
        "                              dtype=numpy.float64)"
      ]
    },
    {
      "cell_type": "markdown",
      "metadata": {},
      "source": [
        "And now the *python* runtime..."
      ]
    },
    {
      "cell_type": "code",
      "execution_count": 14,
      "metadata": {},
      "outputs": [
        {
          "data": {
            "text/plain": [
              "array([34.62868904, 20.52633292, 27.48672629, 24.64851918, 21.98430679])"
            ]
          },
          "execution_count": 15,
          "metadata": {},
          "output_type": "execute_result"
        }
      ],
      "source": [
        "oinf = OnnxInference(onnx_model64)\n",
        "ort_pred = oinf.run({'X': X_test})['Y']\n",
        "ort_pred[:5]"
      ]
    },
    {
      "cell_type": "markdown",
      "metadata": {},
      "source": [
        "And the *onnxruntime* version of it."
      ]
    },
    {
      "cell_type": "code",
      "execution_count": 15,
      "metadata": {},
      "outputs": [
        {
          "data": {
            "text/plain": [
              "array([34.62868904, 20.52633292, 27.48672629, 24.64851918, 21.98430679])"
            ]
          },
          "execution_count": 16,
          "metadata": {},
          "output_type": "execute_result"
        }
      ],
      "source": [
        "oinf = OnnxInference(onnx_model64, runtime=\"onnxruntime1\")\n",
        "ort_pred = oinf.run({'X': X_test.astype(numpy.float64)})['Y']\n",
        "ort_pred[:5]"
      ]
    },
    {
      "cell_type": "markdown",
      "metadata": {},
      "source": [
        "## And now the GaussianProcessRegressor\n",
        "\n",
        "This shows a case"
      ]
    },
    {
      "cell_type": "code",
      "execution_count": 16,
      "metadata": {},
      "outputs": [
        {
          "data": {
            "text/plain": [
              "GaussianProcessRegressor(alpha=10, kernel=DotProduct(sigma_0=1))"
            ]
          },
          "execution_count": 17,
          "metadata": {},
          "output_type": "execute_result"
        }
      ],
      "source": [
        "from sklearn.gaussian_process import GaussianProcessRegressor\n",
        "from sklearn.gaussian_process.kernels import DotProduct\n",
        "gau = GaussianProcessRegressor(alpha=10, kernel=DotProduct())\n",
        "gau.fit(X_train, y_train)"
      ]
    },
    {
      "cell_type": "code",
      "execution_count": 17,
      "metadata": {},
      "outputs": [
        {
          "data": {
            "text/plain": [
              "array([33.8125 , 20.28125, 27.84375, 24.375  , 21.     , 25.78125,\n",
              "        7.5625 , 37.5    , 32.4375 , 22.90625, 17.6875 , 32.71875,\n",
              "       20.3125 , 15.5    , 32.     , 36.25   , 23.0625 , 30.40625,\n",
              "       27.03125, 18.625  , 18.5    , 23.90625, 25.4375 , 13.5625 ,\n",
              "       15.5    ], dtype=float32)"
            ]
          },
          "execution_count": 18,
          "metadata": {},
          "output_type": "execute_result"
        }
      ],
      "source": [
        "from mlprodict.onnx_conv import to_onnx\n",
        "onnxgau32 = to_onnx(gau, X_train.astype(numpy.float32), dtype=numpy.float32)\n",
        "oinf32 = OnnxInference(onnxgau32, runtime=\"python\")\n",
        "ort_pred32 = oinf32.run({'X': X_test.astype(numpy.float32)})['GPmean']\n",
        "numpy.squeeze(ort_pred32)[:25]"
      ]
    },
    {
      "cell_type": "code",
      "execution_count": 18,
      "metadata": {},
      "outputs": [
        {
          "data": {
            "text/plain": [
              "array([33.70833856, 20.31447315, 27.82453337, 24.37788068, 20.93056882,\n",
              "       25.67478333,  6.98653965, 37.4769457 , 32.82301829, 23.20902979,\n",
              "       17.69656786, 33.38649241, 19.920409  , 15.59606776, 32.3195529 ,\n",
              "       36.54101361, 23.0629222 , 30.54514886, 26.84760276, 18.3227035 ,\n",
              "       18.78816161, 23.86972687, 25.46659466, 13.50325892, 15.65966059])"
            ]
          },
          "execution_count": 19,
          "metadata": {},
          "output_type": "execute_result"
        }
      ],
      "source": [
        "onnxgau64 = to_onnx(gau, X_train.astype(numpy.float64), dtype=numpy.float64)\n",
        "oinf64 = OnnxInference(onnxgau64, runtime=\"python\")\n",
        "ort_pred64 = oinf64.run({'X': X_test.astype(numpy.float64)})['GPmean']\n",
        "numpy.squeeze(ort_pred64)[:25]"
      ]
    },
    {
      "cell_type": "markdown",
      "metadata": {},
      "source": [
        "The differences between the predictions for single floats and double floats..."
      ]
    },
    {
      "cell_type": "code",
      "execution_count": 19,
      "metadata": {},
      "outputs": [
        {
          "data": {
            "text/plain": [
              "array([0.50253659, 0.52802859, 0.53248958, 0.57596035, 0.69707475])"
            ]
          },
          "execution_count": 20,
          "metadata": {},
          "output_type": "execute_result"
        }
      ],
      "source": [
        "numpy.sort(numpy.sort(numpy.squeeze(ort_pred32 - ort_pred64)))[-5:]"
      ]
    },
    {
      "cell_type": "markdown",
      "metadata": {},
      "source": [
        "Who's right or wrong... The differences between the predictions with the original model..."
      ]
    },
    {
      "cell_type": "code",
      "execution_count": 20,
      "metadata": {},
      "outputs": [],
      "source": [
        "pred = gau.predict(X_test.astype(numpy.float64))"
      ]
    },
    {
      "cell_type": "code",
      "execution_count": 21,
      "metadata": {},
      "outputs": [
        {
          "data": {
            "text/plain": [
              "array([0.50253659, 0.52802859, 0.53248958, 0.57596035, 0.69707475])"
            ]
          },
          "execution_count": 22,
          "metadata": {},
          "output_type": "execute_result"
        }
      ],
      "source": [
        "numpy.sort(numpy.sort(numpy.squeeze(ort_pred32 - pred)))[-5:]"
      ]
    },
    {
      "cell_type": "code",
      "execution_count": 22,
      "metadata": {},
      "outputs": [
        {
          "data": {
            "text/plain": [
              "array([0., 0., 0., 0., 0.])"
            ]
          },
          "execution_count": 23,
          "metadata": {},
          "output_type": "execute_result"
        }
      ],
      "source": [
        "numpy.sort(numpy.sort(numpy.squeeze(ort_pred64 - pred)))[-5:]"
      ]
    },
    {
      "cell_type": "markdown",
      "metadata": {},
      "source": [
        "Double predictions clearly wins."
      ]
    },
    {
      "cell_type": "code",
      "execution_count": 23,
      "metadata": {
        "scrolled": false
      },
      "outputs": [
        {
          "data": {
            "text/html": [
              "<div id=\"M0f3f30153be54491a78b189502c0f5a5-cont\"><div id=\"M0f3f30153be54491a78b189502c0f5a5\" style=\"width:100%;height:100%;\"></div></div>\n",
              "<script>\n",
              "\n",
              "require(['http://www.xavierdupre.fr/js/vizjs/viz.js'], function() { var svgGraph = Viz(\"digraph{\\n  ranksep=0.25;\\n  nodesep=0.05;\\n  orientation=portrait;\\n\\n  X [shape=box color=red label=\\\"X\\ndouble((0, 13))\\\" fontsize=10];\\n\\n  GPmean [shape=box color=green label=\\\"GPmean\\ndouble((0, 1))\\\" fontsize=10];\\n\\n  kgpd_MatMulcst [shape=box label=\\\"kgpd_MatMulcst\\nfloat64((13, 379))\\n[[1.07930e-01 6.37960e-01 7.36711e+00 ... 9.84900e...\\\" fontsize=10];\\n  kgpd_Addcst [shape=box label=\\\"kgpd_Addcst\\nfloat64((1,))\\n[728.54450074]\\\" fontsize=10];\\n  gpr_MatMulcst [shape=box label=\\\"gpr_MatMulcst\\nfloat64((379,))\\n[ 9.81885236e-02 -1.71219318e-01 -3.31982814e-01  ...\\\" fontsize=10];\\n  gpr_Addcst [shape=box label=\\\"gpr_Addcst\\nfloat64((1, 1))\\n[[0.]]\\\" fontsize=10];\\n\\n  kgpd_Y0 [shape=box label=\\\"kgpd_Y0\\\" fontsize=10];\\n  kgpd_MatMul [shape=box style=\\\"filled,rounded\\\" color=orange label=\\\"MatMul\\n(kgpd_MatMul)\\\" fontsize=10];\\n  X -> kgpd_MatMul;\\n  kgpd_MatMulcst -> kgpd_MatMul;\\n  kgpd_MatMul -> kgpd_Y0;\\n\\n  kgpd_C0 [shape=box label=\\\"kgpd_C0\\\" fontsize=10];\\n  kgpd_Add [shape=box style=\\\"filled,rounded\\\" color=orange label=\\\"Add\\n(kgpd_Add)\\\" fontsize=10];\\n  kgpd_Y0 -> kgpd_Add;\\n  kgpd_Addcst -> kgpd_Add;\\n  kgpd_Add -> kgpd_C0;\\n\\n  gpr_Y0 [shape=box label=\\\"gpr_Y0\\\" fontsize=10];\\n  gpr_MatMul [shape=box style=\\\"filled,rounded\\\" color=orange label=\\\"MatMul\\n(gpr_MatMul)\\\" fontsize=10];\\n  kgpd_C0 -> gpr_MatMul;\\n  gpr_MatMulcst -> gpr_MatMul;\\n  gpr_MatMul -> gpr_Y0;\\n\\n  gpr_Add [shape=box style=\\\"filled,rounded\\\" color=orange label=\\\"Add\\n(gpr_Add)\\\" fontsize=10];\\n  gpr_Y0 -> gpr_Add;\\n  gpr_Addcst -> gpr_Add;\\n  gpr_Add -> GPmean;\\n}\");\n",
              "document.getElementById('M0f3f30153be54491a78b189502c0f5a5').innerHTML = svgGraph; });\n",
              "\n",
              "</script>"
            ],
            "text/plain": [
              "<jyquickhelper.jspy.render_nb_js_dot.RenderJsDot at 0x2907148f198>"
            ]
          },
          "execution_count": 24,
          "metadata": {},
          "output_type": "execute_result"
        }
      ],
      "source": [
        "# add -l 1 if nothing shows up\n",
        "%onnxview onnxgau64"
      ]
    },
    {
      "cell_type": "markdown",
      "metadata": {},
      "source": [
        "## Saves...\n",
        "\n",
        "Let's keep track of it."
      ]
    },
    {
      "cell_type": "code",
      "execution_count": 24,
      "metadata": {},
      "outputs": [
        {
          "data": {
            "text/html": [
              "<a href='gpr_dot_product_boston_32.onnx' target='_blank'>gpr_dot_product_boston_32.onnx</a><br>"
            ],
            "text/plain": [
              "C:\\xavierdupre\\__home_\\GitHub\\mlprodict\\_doc\\notebooks\\gpr_dot_product_boston_32.onnx"
            ]
          },
          "execution_count": 25,
          "metadata": {},
          "output_type": "execute_result"
        }
      ],
      "source": [
        "with open(\"gpr_dot_product_boston_32.onnx\", \"wb\") as f:\n",
        "    f.write(onnxgau32.SerializePartialToString())\n",
        "from IPython.display import FileLink\n",
        "FileLink('gpr_dot_product_boston_32.onnx')"
      ]
    },
    {
      "cell_type": "code",
      "execution_count": 25,
      "metadata": {},
      "outputs": [
        {
          "data": {
            "text/html": [
              "<a href='gpr_dot_product_boston_64.onnx' target='_blank'>gpr_dot_product_boston_64.onnx</a><br>"
            ],
            "text/plain": [
              "C:\\xavierdupre\\__home_\\GitHub\\mlprodict\\_doc\\notebooks\\gpr_dot_product_boston_64.onnx"
            ]
          },
          "execution_count": 26,
          "metadata": {},
          "output_type": "execute_result"
        }
      ],
      "source": [
        "with open(\"gpr_dot_product_boston_64.onnx\", \"wb\") as f:\n",
        "    f.write(onnxgau64.SerializePartialToString())\n",
        "FileLink('gpr_dot_product_boston_64.onnx')"
      ]
    },
    {
      "cell_type": "markdown",
      "metadata": {},
      "source": [
        "## Side by side\n",
        "\n",
        "We may wonder where the discrepencies start. But for that, we need to do a side by side."
      ]
    },
    {
      "cell_type": "code",
      "execution_count": 26,
      "metadata": {},
      "outputs": [
        {
          "data": {
            "text/html": [
              "<div>\n",
              "<style scoped>\n",
              "    .dataframe tbody tr th:only-of-type {\n",
              "        vertical-align: middle;\n",
              "    }\n",
              "\n",
              "    .dataframe tbody tr th {\n",
              "        vertical-align: top;\n",
              "    }\n",
              "\n",
              "    .dataframe thead th {\n",
              "        text-align: right;\n",
              "    }\n",
              "</style>\n",
              "<table border=\"1\" class=\"dataframe\">\n",
              "  <thead>\n",
              "    <tr style=\"text-align: right;\">\n",
              "      <th></th>\n",
              "      <th>metric</th>\n",
              "      <th>step</th>\n",
              "      <th>v[0]</th>\n",
              "      <th>v[1]</th>\n",
              "      <th>cmp</th>\n",
              "      <th>name</th>\n",
              "      <th>value[0]</th>\n",
              "      <th>shape[0]</th>\n",
              "      <th>value[1]</th>\n",
              "      <th>shape[1]</th>\n",
              "    </tr>\n",
              "  </thead>\n",
              "  <tbody>\n",
              "    <tr>\n",
              "      <th>0</th>\n",
              "      <td>nb_results</td>\n",
              "      <td>-1</td>\n",
              "      <td>9</td>\n",
              "      <td>9.000000e+00</td>\n",
              "      <td>OK</td>\n",
              "      <td>NaN</td>\n",
              "      <td>NaN</td>\n",
              "      <td>NaN</td>\n",
              "      <td>NaN</td>\n",
              "      <td>NaN</td>\n",
              "    </tr>\n",
              "    <tr>\n",
              "      <th>1</th>\n",
              "      <td>abs-diff</td>\n",
              "      <td>0</td>\n",
              "      <td>0</td>\n",
              "      <td>4.971762e-08</td>\n",
              "      <td>OK</td>\n",
              "      <td>X</td>\n",
              "      <td>[[0.03768, 80.0, 1.52, 0.0, 0.404, 7.274, 38.3...</td>\n",
              "      <td>(127, 13)</td>\n",
              "      <td>[[0.03768, 80.0, 1.52, 0.0, 0.404, 7.274, 38.3...</td>\n",
              "      <td>(127, 13)</td>\n",
              "    </tr>\n",
              "    <tr>\n",
              "      <th>2</th>\n",
              "      <td>abs-diff</td>\n",
              "      <td>1</td>\n",
              "      <td>0</td>\n",
              "      <td>3.122782e-02</td>\n",
              "      <td>e&lt;0.1</td>\n",
              "      <td>GPmean</td>\n",
              "      <td>[[33.8125, 20.28125, 27.84375, 24.375, 21.0, 2...</td>\n",
              "      <td>(1, 127)</td>\n",
              "      <td>[[33.70833856490208, 20.314473151345737, 27.82...</td>\n",
              "      <td>(1, 127)</td>\n",
              "    </tr>\n",
              "    <tr>\n",
              "      <th>3</th>\n",
              "      <td>abs-diff</td>\n",
              "      <td>2</td>\n",
              "      <td>0</td>\n",
              "      <td>5.398157e-08</td>\n",
              "      <td>OK</td>\n",
              "      <td>kgpd_MatMulcst</td>\n",
              "      <td>[[0.10793, 0.63796, 7.36711, 0.1712, 0.03113, ...</td>\n",
              "      <td>(13, 379)</td>\n",
              "      <td>[[0.10793, 0.63796, 7.36711, 0.1712, 0.03113, ...</td>\n",
              "      <td>(13, 379)</td>\n",
              "    </tr>\n",
              "    <tr>\n",
              "      <th>4</th>\n",
              "      <td>abs-diff</td>\n",
              "      <td>3</td>\n",
              "      <td>0</td>\n",
              "      <td>8.383728e-09</td>\n",
              "      <td>OK</td>\n",
              "      <td>kgpd_Addcst</td>\n",
              "      <td>[728.5445]</td>\n",
              "      <td>(1,)</td>\n",
              "      <td>[728.5445007368253]</td>\n",
              "      <td>(1,)</td>\n",
              "    </tr>\n",
              "    <tr>\n",
              "      <th>5</th>\n",
              "      <td>abs-diff</td>\n",
              "      <td>4</td>\n",
              "      <td>0</td>\n",
              "      <td>5.604237e-08</td>\n",
              "      <td>OK</td>\n",
              "      <td>gpr_MatMulcst</td>\n",
              "      <td>[0.09818853, -0.17121932, -0.33198282, 0.27722...</td>\n",
              "      <td>(379,)</td>\n",
              "      <td>[0.09818852357881183, -0.1712193176426608, -0....</td>\n",
              "      <td>(379,)</td>\n",
              "    </tr>\n",
              "    <tr>\n",
              "      <th>6</th>\n",
              "      <td>abs-diff</td>\n",
              "      <td>5</td>\n",
              "      <td>0</td>\n",
              "      <td>0.000000e+00</td>\n",
              "      <td>OK</td>\n",
              "      <td>gpr_Addcst</td>\n",
              "      <td>[[0.0]]</td>\n",
              "      <td>(1, 1)</td>\n",
              "      <td>[[0.0]]</td>\n",
              "      <td>(1, 1)</td>\n",
              "    </tr>\n",
              "    <tr>\n",
              "      <th>7</th>\n",
              "      <td>abs-diff</td>\n",
              "      <td>6</td>\n",
              "      <td>0</td>\n",
              "      <td>1.920940e-07</td>\n",
              "      <td>OK</td>\n",
              "      <td>kgpd_Y0</td>\n",
              "      <td>[[283912.8, 254441.84, 261303.53, 286234.8, 27...</td>\n",
              "      <td>(127, 379)</td>\n",
              "      <td>[[283912.8332177392, 254441.82822216966, 26130...</td>\n",
              "      <td>(127, 379)</td>\n",
              "    </tr>\n",
              "    <tr>\n",
              "      <th>8</th>\n",
              "      <td>abs-diff</td>\n",
              "      <td>7</td>\n",
              "      <td>0</td>\n",
              "      <td>1.920940e-07</td>\n",
              "      <td>OK</td>\n",
              "      <td>kgpd_C0</td>\n",
              "      <td>[[283912.8, 254441.84, 261303.53, 286234.8, 27...</td>\n",
              "      <td>(127, 379)</td>\n",
              "      <td>[[283912.8332177392, 254441.82822216966, 26130...</td>\n",
              "      <td>(127, 379)</td>\n",
              "    </tr>\n",
              "    <tr>\n",
              "      <th>9</th>\n",
              "      <td>abs-diff</td>\n",
              "      <td>8</td>\n",
              "      <td>0</td>\n",
              "      <td>3.122782e-02</td>\n",
              "      <td>e&lt;0.1</td>\n",
              "      <td>gpr_Y0</td>\n",
              "      <td>[33.8125, 20.28125, 27.84375, 24.375, 21.0, 25...</td>\n",
              "      <td>(127,)</td>\n",
              "      <td>[33.70833856490208, 20.314473151345737, 27.824...</td>\n",
              "      <td>(127,)</td>\n",
              "    </tr>\n",
              "  </tbody>\n",
              "</table>\n",
              "</div>"
            ],
            "text/plain": [
              "       metric  step  v[0]          v[1]    cmp            name  \\\n",
              "0  nb_results    -1     9  9.000000e+00     OK             NaN   \n",
              "1    abs-diff     0     0  4.971762e-08     OK               X   \n",
              "2    abs-diff     1     0  3.122782e-02  e<0.1          GPmean   \n",
              "3    abs-diff     2     0  5.398157e-08     OK  kgpd_MatMulcst   \n",
              "4    abs-diff     3     0  8.383728e-09     OK     kgpd_Addcst   \n",
              "5    abs-diff     4     0  5.604237e-08     OK   gpr_MatMulcst   \n",
              "6    abs-diff     5     0  0.000000e+00     OK      gpr_Addcst   \n",
              "7    abs-diff     6     0  1.920940e-07     OK         kgpd_Y0   \n",
              "8    abs-diff     7     0  1.920940e-07     OK         kgpd_C0   \n",
              "9    abs-diff     8     0  3.122782e-02  e<0.1          gpr_Y0   \n",
              "\n",
              "                                            value[0]    shape[0]  \\\n",
              "0                                                NaN         NaN   \n",
              "1  [[0.03768, 80.0, 1.52, 0.0, 0.404, 7.274, 38.3...   (127, 13)   \n",
              "2  [[33.8125, 20.28125, 27.84375, 24.375, 21.0, 2...    (1, 127)   \n",
              "3  [[0.10793, 0.63796, 7.36711, 0.1712, 0.03113, ...   (13, 379)   \n",
              "4                                         [728.5445]        (1,)   \n",
              "5  [0.09818853, -0.17121932, -0.33198282, 0.27722...      (379,)   \n",
              "6                                            [[0.0]]      (1, 1)   \n",
              "7  [[283912.8, 254441.84, 261303.53, 286234.8, 27...  (127, 379)   \n",
              "8  [[283912.8, 254441.84, 261303.53, 286234.8, 27...  (127, 379)   \n",
              "9  [33.8125, 20.28125, 27.84375, 24.375, 21.0, 25...      (127,)   \n",
              "\n",
              "                                            value[1]    shape[1]  \n",
              "0                                                NaN         NaN  \n",
              "1  [[0.03768, 80.0, 1.52, 0.0, 0.404, 7.274, 38.3...   (127, 13)  \n",
              "2  [[33.70833856490208, 20.314473151345737, 27.82...    (1, 127)  \n",
              "3  [[0.10793, 0.63796, 7.36711, 0.1712, 0.03113, ...   (13, 379)  \n",
              "4                                [728.5445007368253]        (1,)  \n",
              "5  [0.09818852357881183, -0.1712193176426608, -0....      (379,)  \n",
              "6                                            [[0.0]]      (1, 1)  \n",
              "7  [[283912.8332177392, 254441.82822216966, 26130...  (127, 379)  \n",
              "8  [[283912.8332177392, 254441.82822216966, 26130...  (127, 379)  \n",
              "9  [33.70833856490208, 20.314473151345737, 27.824...      (127,)  "
            ]
          },
          "execution_count": 27,
          "metadata": {},
          "output_type": "execute_result"
        }
      ],
      "source": [
        "from mlprodict.onnxrt.validate.side_by_side import side_by_side_by_values\n",
        "sbs = side_by_side_by_values([(oinf32, {'X': X_test.astype(numpy.float32)}),\n",
        "                              (oinf64, {'X': X_test.astype(numpy.float64)})])\n",
        "\n",
        "from pandas import DataFrame\n",
        "df = DataFrame(sbs)\n",
        "# dfd = df.drop(['value[0]', 'value[1]', 'value[2]'], axis=1).copy()\n",
        "df"
      ]
    },
    {
      "cell_type": "markdown",
      "metadata": {},
      "source": [
        "The differences really starts for output ``'O0'`` after the matrix multiplication. This matrix melts different number with very different order of magnitudes and that alone explains the discrepencies with doubles and floats on that particular model."
      ]
    },
    {
      "cell_type": "code",
      "execution_count": 27,
      "metadata": {},
      "outputs": [
        {
          "data": {
            "image/png": "[encoded data removed]",
            "text/plain": [
              "<Figure size 1008x288 with 1 Axes>"
            ]
          },
          "metadata": {
            "needs_background": "light"
          },
          "output_type": "display_data"
        }
      ],
      "source": [
        "%matplotlib inline\n",
        "ax = df[['name', 'v[1]']].iloc[1:].set_index('name').plot(kind='bar', figsize=(14,4), logy=True)\n",
        "ax.set_title(\"Relative differences for each output between float32 and float64\\nfor a GaussianProcessRegressor\");"
      ]
    },
    {
      "cell_type": "markdown",
      "metadata": {},
      "source": [
        "Before going further, let's check how sensitive the trained model is about converting double into floats."
      ]
    },
    {
      "cell_type": "code",
      "execution_count": 28,
      "metadata": {},
      "outputs": [
        {
          "data": {
            "text/plain": [
              "array([1.46322418e-06, 1.46380626e-06, 1.64349331e-06, 1.79524068e-06,\n",
              "       2.38663051e-06])"
            ]
          },
          "execution_count": 29,
          "metadata": {},
          "output_type": "execute_result"
        }
      ],
      "source": [
        "pg1 = gau.predict(X_test)\n",
        "pg2 = gau.predict(X_test.astype(numpy.float32).astype(numpy.float64))\n",
        "numpy.sort(numpy.sort(numpy.squeeze(pg1 - pg2)))[-5:]"
      ]
    },
    {
      "cell_type": "markdown",
      "metadata": {},
      "source": [
        "Having float or double inputs should not matter. We confirm that with the model converted into ONNX."
      ]
    },
    {
      "cell_type": "code",
      "execution_count": 29,
      "metadata": {},
      "outputs": [
        {
          "data": {
            "text/plain": [
              "array([1.46322418e-06, 1.46380626e-06, 1.64349331e-06, 1.79524068e-06,\n",
              "       2.38663051e-06])"
            ]
          },
          "execution_count": 30,
          "metadata": {},
          "output_type": "execute_result"
        }
      ],
      "source": [
        "p1 = oinf64.run({'X': X_test})['GPmean']\n",
        "p2 = oinf64.run({'X': X_test.astype(numpy.float32).astype(numpy.float64)})['GPmean']\n",
        "numpy.sort(numpy.sort(numpy.squeeze(p1 - p2)))[-5:]"
      ]
    },
    {
      "cell_type": "markdown",
      "metadata": {},
      "source": [
        "Last verification."
      ]
    },
    {
      "cell_type": "code",
      "execution_count": 30,
      "metadata": {},
      "outputs": [
        {
          "data": {
            "image/png": "[encoded data removed]",
            "text/plain": [
              "<Figure size 1008x288 with 1 Axes>"
            ]
          },
          "metadata": {
            "needs_background": "light"
          },
          "output_type": "display_data"
        }
      ],
      "source": [
        "sbs = side_by_side_by_values([(oinf64, {'X': X_test.astype(numpy.float32).astype(numpy.float64)}),\n",
        "                              (oinf64, {'X': X_test.astype(numpy.float64)})])\n",
        "df = DataFrame(sbs)\n",
        "ax = df[['name', 'v[1]']].iloc[1:].set_index('name').plot(kind='bar', figsize=(14,4), logy=True)\n",
        "ax.set_title(\"Relative differences for each output between float64 and float64 rounded to float32\"\n",
        "             \"\\nfor a GaussianProcessRegressor\");"
      ]
    },
    {
      "cell_type": "code",
      "execution_count": 31,
      "metadata": {},
      "outputs": [],
      "source": []
    }
  ],
  "metadata": {
    "kernelspec": {
      "display_name": "Python 3",
      "language": "python",
      "name": "python3"
    },
    "language_info": {
      "codemirror_mode": {
        "name": "ipython",
        "version": 3
      },
      "file_extension": ".py",
      "mimetype": "text/x-python",
      "name": "python",
      "nbconvert_exporter": "python",
      "pygments_lexer": "ipython3",
      "version": "3.7.2"
    }
  },
  "nbformat": 4,
  "nbformat_minor": 2
}