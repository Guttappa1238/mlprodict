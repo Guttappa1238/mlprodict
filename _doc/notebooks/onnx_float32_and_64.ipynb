{
  "cells": [
    {
      "cell_type": "markdown",
      "metadata": {},
      "source": [
        "# ONNX graph, single or double floats\n",
        "\n",
        "The notebook shows discrepencies obtained by using double floats instead of single float in two cases. The second one involves [GaussianProcessRegressor](https://scikit-learn.org/stable/modules/generated/sklearn.gaussian_process.GaussianProcessRegressor.html)."
      ]
    },
    {
      "cell_type": "code",
      "execution_count": 1,
      "metadata": {},
      "outputs": [
        {
          "data": {
            "text/html": [
              "<div id=\"my_id_menu_nb\">run previous cell, wait for 2 seconds</div>\n",
              "<script>\n",
              "function repeat_indent_string(n){\n",
              "    var a = \"\" ;\n",
              "    for ( ; n > 0 ; --n)\n",
              "        a += \"    \";\n",
              "    return a;\n",
              "}\n",
              "// look up into all sections and builds an automated menu //\n",
              "var update_menu_string = function(begin, lfirst, llast, sformat, send, keep_item, begin_format, end_format) {\n",
              "    var anchors = document.getElementsByClassName(\"section\");\n",
              "    if (anchors.length == 0) {\n",
              "        anchors = document.getElementsByClassName(\"text_cell_render rendered_html\");\n",
              "    }\n",
              "    var i,t;\n",
              "    var text_menu = begin;\n",
              "    var text_memo = \"<pre>\\nlength:\" + anchors.length + \"\\n\";\n",
              "    var ind = \"\";\n",
              "    var memo_level = 1;\n",
              "    var href;\n",
              "    var tags = [];\n",
              "    var main_item = 0;\n",
              "    var format_open = 0;\n",
              "    for (i = 0; i <= llast; i++)\n",
              "        tags.push(\"h\" + i);\n",
              "\n",
              "    for (i = 0; i < anchors.length; i++) {\n",
              "        text_memo += \"**\" + anchors[i].id + \"--\\n\";\n",
              "\n",
              "        var child = null;\n",
              "        for(t = 0; t < tags.length; t++) {\n",
              "            var r = anchors[i].getElementsByTagName(tags[t]);\n",
              "            if (r.length > 0) {\n",
              "child = r[0];\n",
              "break;\n",
              "            }\n",
              "        }\n",
              "        if (child == null) {\n",
              "            text_memo += \"null\\n\";\n",
              "            continue;\n",
              "        }\n",
              "        if (anchors[i].hasAttribute(\"id\")) {\n",
              "            // when converted in RST\n",
              "            href = anchors[i].id;\n",
              "            text_memo += \"#1-\" + href;\n",
              "            // passer \u00e0 child suivant (le chercher)\n",
              "        }\n",
              "        else if (child.hasAttribute(\"id\")) {\n",
              "            // in a notebook\n",
              "            href = child.id;\n",
              "            text_memo += \"#2-\" + href;\n",
              "        }\n",
              "        else {\n",
              "            text_memo += \"#3-\" + \"*\" + \"\\n\";\n",
              "            continue;\n",
              "        }\n",
              "        var title = child.textContent;\n",
              "        var level = parseInt(child.tagName.substring(1,2));\n",
              "\n",
              "        text_memo += \"--\" + level + \"?\" + lfirst + \"--\" + title + \"\\n\";\n",
              "\n",
              "        if ((level < lfirst) || (level > llast)) {\n",
              "            continue ;\n",
              "        }\n",
              "        if (title.endsWith('\u00b6')) {\n",
              "            title = title.substring(0,title.length-1).replace(\"<\", \"&lt;\")\n",
              "         .replace(\">\", \"&gt;\").replace(\"&\", \"&amp;\");\n",
              "        }\n",
              "        if (title.length == 0) {\n",
              "            continue;\n",
              "        }\n",
              "\n",
              "        while (level < memo_level) {\n",
              "            text_menu += end_format + \"</ul>\\n\";\n",
              "            format_open -= 1;\n",
              "            memo_level -= 1;\n",
              "        }\n",
              "        if (level == lfirst) {\n",
              "            main_item += 1;\n",
              "        }\n",
              "        if (keep_item != -1 && main_item != keep_item + 1) {\n",
              "            // alert(main_item + \" - \" + level + \" - \" + keep_item);\n",
              "            continue;\n",
              "        }\n",
              "        while (level > memo_level) {\n",
              "            text_menu += \"<ul>\\n\";\n",
              "            memo_level += 1;\n",
              "        }\n",
              "        text_menu += repeat_indent_string(level-2);\n",
              "        text_menu += begin_format + sformat.replace(\"__HREF__\", href).replace(\"__TITLE__\", title);\n",
              "        format_open += 1;\n",
              "    }\n",
              "    while (1 < memo_level) {\n",
              "        text_menu += end_format + \"</ul>\\n\";\n",
              "        memo_level -= 1;\n",
              "        format_open -= 1;\n",
              "    }\n",
              "    text_menu += send;\n",
              "    //text_menu += \"\\n\" + text_memo;\n",
              "\n",
              "    while (format_open > 0) {\n",
              "        text_menu += end_format;\n",
              "        format_open -= 1;\n",
              "    }\n",
              "    return text_menu;\n",
              "};\n",
              "var update_menu = function() {\n",
              "    var sbegin = \"\";\n",
              "    var sformat = '<a href=\"#__HREF__\">__TITLE__</a>';\n",
              "    var send = \"\";\n",
              "    var begin_format = '<li>';\n",
              "    var end_format = '</li>';\n",
              "    var keep_item = -1;\n",
              "    var text_menu = update_menu_string(sbegin, 2, 4, sformat, send, keep_item,\n",
              "       begin_format, end_format);\n",
              "    var menu = document.getElementById(\"my_id_menu_nb\");\n",
              "    menu.innerHTML=text_menu;\n",
              "};\n",
              "window.setTimeout(update_menu,2000);\n",
              "            </script>"
            ],
            "text/plain": [
              "<IPython.core.display.HTML object>"
            ]
          },
          "execution_count": 2,
          "metadata": {},
          "output_type": "execute_result"
        }
      ],
      "source": [
        "from jyquickhelper import add_notebook_menu\n",
        "add_notebook_menu()"
      ]
    },
    {
      "cell_type": "markdown",
      "metadata": {},
      "source": [
        "## Simple case of a linear regression\n",
        "\n",
        "A linear regression is simply a matrix multiplication followed by an addition: $Y=AX+B$. Let's train one with [scikit-learn](https://scikit-learn.org/stable/)."
      ]
    },
    {
      "cell_type": "code",
      "execution_count": 2,
      "metadata": {},
      "outputs": [
        {
          "data": {
            "text/plain": [
              "LinearRegression(copy_X=True, fit_intercept=True, n_jobs=None, normalize=False)"
            ]
          },
          "execution_count": 3,
          "metadata": {},
          "output_type": "execute_result"
        }
      ],
      "source": [
        "from sklearn.linear_model import LinearRegression\n",
        "from sklearn.datasets import load_boston\n",
        "from sklearn.model_selection import train_test_split\n",
        "data = load_boston()\n",
        "X, y = data.data, data.target\n",
        "X_train, X_test, y_train, y_test = train_test_split(X, y)\n",
        "clr = LinearRegression()\n",
        "clr.fit(X_train, y_train)"
      ]
    },
    {
      "cell_type": "code",
      "execution_count": 3,
      "metadata": {},
      "outputs": [
        {
          "data": {
            "text/plain": [
              "0.7836975180890742"
            ]
          },
          "execution_count": 4,
          "metadata": {},
          "output_type": "execute_result"
        }
      ],
      "source": [
        "clr.score(X_test, y_test)"
      ]
    },
    {
      "cell_type": "code",
      "execution_count": 4,
      "metadata": {},
      "outputs": [
        {
          "data": {
            "text/plain": [
              "array([-1.02626125e-01,  5.37157286e-02,  4.85401940e-04,  2.29933224e+00,\n",
              "       -1.55768235e+01,  2.95197696e+00,  1.27833099e-02, -1.50176256e+00,\n",
              "        3.86793001e-01, -1.46468258e-02, -9.10378501e-01,  9.96266806e-03,\n",
              "       -6.34832141e-01])"
            ]
          },
          "execution_count": 5,
          "metadata": {},
          "output_type": "execute_result"
        }
      ],
      "source": [
        "clr.coef_"
      ]
    },
    {
      "cell_type": "code",
      "execution_count": 5,
      "metadata": {},
      "outputs": [
        {
          "data": {
            "text/plain": [
              "40.84518080004733"
            ]
          },
          "execution_count": 6,
          "metadata": {},
          "output_type": "execute_result"
        }
      ],
      "source": [
        "clr.intercept_"
      ]
    },
    {
      "cell_type": "markdown",
      "metadata": {},
      "source": [
        "Let's predict with *scikit-learn* and *python*."
      ]
    },
    {
      "cell_type": "code",
      "execution_count": 6,
      "metadata": {},
      "outputs": [
        {
          "data": {
            "text/plain": [
              "array([34.02095272,  8.03158922, 22.99227105, 21.87550536,  9.38806914])"
            ]
          },
          "execution_count": 7,
          "metadata": {},
          "output_type": "execute_result"
        }
      ],
      "source": [
        "ypred = clr.predict(X_test)\n",
        "ypred[:5]"
      ]
    },
    {
      "cell_type": "code",
      "execution_count": 7,
      "metadata": {},
      "outputs": [
        {
          "data": {
            "text/plain": [
              "array([34.02095272,  8.03158922, 22.99227105, 21.87550536,  9.38806914])"
            ]
          },
          "execution_count": 8,
          "metadata": {},
          "output_type": "execute_result"
        }
      ],
      "source": [
        "py_pred = X_test @ clr.coef_ + clr.intercept_\n",
        "py_pred[:5]"
      ]
    },
    {
      "cell_type": "code",
      "execution_count": 8,
      "metadata": {},
      "outputs": [
        {
          "data": {
            "text/plain": [
              "(dtype('float64'), dtype('float64'))"
            ]
          },
          "execution_count": 9,
          "metadata": {},
          "output_type": "execute_result"
        }
      ],
      "source": [
        "clr.coef_.dtype, clr.intercept_.dtype"
      ]
    },
    {
      "cell_type": "markdown",
      "metadata": {},
      "source": [
        "## With ONNX\n",
        "\n",
        "With *ONNX*, we would write this operation as follows... We still need to convert everything into single floats = float32."
      ]
    },
    {
      "cell_type": "code",
      "execution_count": 9,
      "metadata": {},
      "outputs": [],
      "source": [
        "%load_ext mlprodict"
      ]
    },
    {
      "cell_type": "code",
      "execution_count": 10,
      "metadata": {},
      "outputs": [
        {
          "data": {
            "text/html": [
              "<div id=\"M8b0b2166a67e4e8dbb50bce246e2d25f-cont\"><div id=\"M8b0b2166a67e4e8dbb50bce246e2d25f\" style=\"width:100%;height:100%;\"></div></div>\n",
              "<script>\n",
              "\n",
              "require(['http://www.xavierdupre.fr/js/vizjs/viz.js'], function() { var svgGraph = Viz(\"digraph{\\n  nodesep=0.05;\\n  ranksep=0.25;\\n  orientation=portrait;\\n\\n  X [shape=box color=red label=\\\"X\\nfloat((127, 13))\\\" fontsize=10];\\n\\n  Y [shape=box color=green label=\\\"Y\\nfloat((127,))\\\" fontsize=10];\\n\\n  Ma_MatMulcst [shape=box label=\\\"Ma_MatMulcst\\nfloat32((13,))\\n[-1.0262612e-01  5.3715728e-02...\\\" fontsize=10];\\n  Ad_Addcst [shape=box label=\\\"Ad_Addcst\\nfloat32((1,))\\n[40.84518]\\\" fontsize=10];\\n\\n  Ma_O0 [shape=box label=\\\"Ma_O0\\\" fontsize=10];\\n  Ma_MatMul [shape=box style=\\\"filled,rounded\\\" color=orange label=\\\"MatMul\\n(Ma_MatMul)\\\" fontsize=10];\\n  X -> Ma_MatMul;\\n  Ma_MatMulcst -> Ma_MatMul;\\n  Ma_MatMul -> Ma_O0;\\n\\n  Ad_Add [shape=box style=\\\"filled,rounded\\\" color=orange label=\\\"Add\\n(Ad_Add)\\\" fontsize=10];\\n  Ma_O0 -> Ad_Add;\\n  Ad_Addcst -> Ad_Add;\\n  Ad_Add -> Y;\\n}\");\n",
              "document.getElementById('M8b0b2166a67e4e8dbb50bce246e2d25f').innerHTML = svgGraph; });\n",
              "\n",
              "</script>"
            ],
            "text/plain": [
              "<jyquickhelper.jspy.render_nb_js_dot.RenderJsDot at 0x2d1f3f9feb8>"
            ]
          },
          "execution_count": 11,
          "metadata": {},
          "output_type": "execute_result"
        }
      ],
      "source": [
        "from skl2onnx.algebra.onnx_ops import OnnxMatMul, OnnxAdd\n",
        "import numpy\n",
        "\n",
        "onnx_fct = OnnxAdd(OnnxMatMul('X', clr.coef_.astype(numpy.float32)),\n",
        "                   numpy.array([clr.intercept_]),\n",
        "                   output_names=['Y'])\n",
        "onnx_model32 = onnx_fct.to_onnx({'X': X_test.astype(numpy.float32)},\n",
        "                              dtype=numpy.float32)\n",
        "\n",
        "# add -l 1 if nothing shows up\n",
        "%onnxview onnx_model32"
      ]
    },
    {
      "cell_type": "markdown",
      "metadata": {},
      "source": [
        "The next line uses a python runtime to compute the prediction."
      ]
    },
    {
      "cell_type": "code",
      "execution_count": 11,
      "metadata": {},
      "outputs": [
        {
          "data": {
            "text/plain": [
              "array([34.020954 ,  8.0315895, 22.99227  , 21.875505 ,  9.388069 ],\n",
              "      dtype=float32)"
            ]
          },
          "execution_count": 12,
          "metadata": {},
          "output_type": "execute_result"
        }
      ],
      "source": [
        "from mlprodict.onnxrt import OnnxInference\n",
        "oinf = OnnxInference(onnx_model32)\n",
        "ort_pred = oinf.run({'X': X_test.astype(numpy.float32)})['Y']\n",
        "ort_pred[:5]"
      ]
    },
    {
      "cell_type": "markdown",
      "metadata": {},
      "source": [
        "And here is the same with [onnxruntime](https://github.com/microsoft/onnxruntime)..."
      ]
    },
    {
      "cell_type": "code",
      "execution_count": 12,
      "metadata": {},
      "outputs": [
        {
          "data": {
            "text/plain": [
              "array([34.020954 ,  8.0315895, 22.992271 , 21.875505 ,  9.388065 ],\n",
              "      dtype=float32)"
            ]
          },
          "execution_count": 13,
          "metadata": {},
          "output_type": "execute_result"
        }
      ],
      "source": [
        "oinf = OnnxInference(onnx_model32, runtime=\"onnxruntime1\")\n",
        "ort_pred = oinf.run({'X': X_test.astype(numpy.float32)})['Y']\n",
        "ort_pred[:5]"
      ]
    },
    {
      "cell_type": "markdown",
      "metadata": {},
      "source": [
        "## With double instead of single float\n",
        "\n",
        "[ONNX](https://onnx.ai/) was originally designed for deep learning which usually uses floats but it does not mean cannot be used. Every number is converted into double floats."
      ]
    },
    {
      "cell_type": "code",
      "execution_count": 13,
      "metadata": {},
      "outputs": [],
      "source": [
        "onnx_fct = OnnxAdd(OnnxMatMul('X', clr.coef_.astype(numpy.float64)),\n",
        "                   numpy.array([clr.intercept_]),\n",
        "                   output_names=['Y'])\n",
        "onnx_model64 = onnx_fct.to_onnx({'X': X_test.astype(numpy.float64)},\n",
        "                              dtype=numpy.float64)"
      ]
    },
    {
      "cell_type": "markdown",
      "metadata": {},
      "source": [
        "And now the *python* runtime..."
      ]
    },
    {
      "cell_type": "code",
      "execution_count": 14,
      "metadata": {},
      "outputs": [
        {
          "data": {
            "text/plain": [
              "array([34.02095272,  8.03158922, 22.99227105, 21.87550536,  9.38806914])"
            ]
          },
          "execution_count": 15,
          "metadata": {},
          "output_type": "execute_result"
        }
      ],
      "source": [
        "oinf = OnnxInference(onnx_model64)\n",
        "ort_pred = oinf.run({'X': X_test})['Y']\n",
        "ort_pred[:5]"
      ]
    },
    {
      "cell_type": "markdown",
      "metadata": {},
      "source": [
        "And the *onnxruntime* version of it, not fully supportive of double yet..."
      ]
    },
    {
      "cell_type": "code",
      "execution_count": 15,
      "metadata": {},
      "outputs": [
        {
          "name": "stdout",
          "output_type": "stream",
          "text": [
            "[ONNXRuntimeError] : 9 : NOT_IMPLEMENTED : Could not find an implementation for the node Ad_Add:Add(7)\n"
          ]
        }
      ],
      "source": [
        "try:\n",
        "    oinf = OnnxInference(onnx_model64, runtime=\"onnxruntime1\")\n",
        "    ort_pred = oinf.run({'X': X_test.astype(numpy.float64)})['Y']\n",
        "    ort_pred[:5]\n",
        "except RuntimeError as e:\n",
        "    print(e)"
      ]
    },
    {
      "cell_type": "markdown",
      "metadata": {},
      "source": [
        "## And now the GaussianProcessRegressor\n",
        "\n",
        "This shows a case"
      ]
    },
    {
      "cell_type": "code",
      "execution_count": 16,
      "metadata": {},
      "outputs": [
        {
          "data": {
            "text/plain": [
              "GaussianProcessRegressor(alpha=10, copy_X_train=True,\n",
              "                         kernel=DotProduct(sigma_0=1), n_restarts_optimizer=0,\n",
              "                         normalize_y=False, optimizer='fmin_l_bfgs_b',\n",
              "                         random_state=None)"
            ]
          },
          "execution_count": 17,
          "metadata": {},
          "output_type": "execute_result"
        }
      ],
      "source": [
        "from sklearn.gaussian_process import GaussianProcessRegressor\n",
        "from sklearn.gaussian_process.kernels import DotProduct\n",
        "gau = GaussianProcessRegressor(alpha=10, kernel=DotProduct())\n",
        "gau.fit(X_train, y_train)"
      ]
    },
    {
      "cell_type": "code",
      "execution_count": 17,
      "metadata": {},
      "outputs": [
        {
          "data": {
            "text/plain": [
              "array([33.125,  6.625, 23.5  , 22.625, 10.25 , 19.75 , 13.75 , 17.25 ,\n",
              "       31.   , 16.   , 25.625, 18.375, 33.625, 42.625, 35.75 , 21.   ,\n",
              "       19.   , 22.625, 24.75 , 15.   , 31.   ,  7.625, 13.5  ,  4.   ,\n",
              "       25.25 ], dtype=float32)"
            ]
          },
          "execution_count": 18,
          "metadata": {},
          "output_type": "execute_result"
        }
      ],
      "source": [
        "from mlprodict.onnxrt import to_onnx\n",
        "onnxgau32 = to_onnx(gau, X_train.astype(numpy.float32), dtype=numpy.float32)\n",
        "oinf32 = OnnxInference(onnxgau32, runtime=\"python\")\n",
        "ort_pred32 = oinf32.run({'X': X_test.astype(numpy.float32)})['GPmean']\n",
        "numpy.squeeze(ort_pred32)[:25]"
      ]
    },
    {
      "cell_type": "code",
      "execution_count": 18,
      "metadata": {},
      "outputs": [
        {
          "data": {
            "text/plain": [
              "array([33.16219135,  6.80583637, 23.8054958 , 23.02496476, 10.0123476 ,\n",
              "       19.74633171, 14.22049743, 17.50913404, 31.23975419, 15.5676655 ,\n",
              "       25.91874293, 19.14989035, 33.89588065, 43.37730604, 35.97438905,\n",
              "       21.04844868, 19.1410149 , 22.71168399, 25.04743772, 14.6211457 ,\n",
              "       31.13142217,  7.47344522, 14.59039259,  4.16909152, 24.71047251])"
            ]
          },
          "execution_count": 19,
          "metadata": {},
          "output_type": "execute_result"
        }
      ],
      "source": [
        "onnxgau64 = to_onnx(gau, X_train.astype(numpy.float64), dtype=numpy.float64)\n",
        "oinf64 = OnnxInference(onnxgau64, runtime=\"python\")\n",
        "ort_pred64 = oinf64.run({'X': X_test.astype(numpy.float64)})['GPmean']\n",
        "numpy.squeeze(ort_pred64)[:25]"
      ]
    },
    {
      "cell_type": "markdown",
      "metadata": {},
      "source": [
        "The differences between the predictions for single floats and double floats..."
      ]
    },
    {
      "cell_type": "code",
      "execution_count": 19,
      "metadata": {},
      "outputs": [
        {
          "data": {
            "text/plain": [
              "array([0.73869556, 0.7735361 , 0.8158365 , 0.90728579, 1.63133946])"
            ]
          },
          "execution_count": 20,
          "metadata": {},
          "output_type": "execute_result"
        }
      ],
      "source": [
        "numpy.sort(numpy.sort(numpy.squeeze(ort_pred32 - ort_pred64)))[-5:]"
      ]
    },
    {
      "cell_type": "markdown",
      "metadata": {},
      "source": [
        "Who's right or wrong... The differences between the predictions with the original model..."
      ]
    },
    {
      "cell_type": "code",
      "execution_count": 20,
      "metadata": {},
      "outputs": [],
      "source": [
        "pred = gau.predict(X_test.astype(numpy.float64))"
      ]
    },
    {
      "cell_type": "code",
      "execution_count": 21,
      "metadata": {},
      "outputs": [
        {
          "data": {
            "text/plain": [
              "array([0.73869556, 0.7735361 , 0.8158365 , 0.90728579, 1.63133946])"
            ]
          },
          "execution_count": 22,
          "metadata": {},
          "output_type": "execute_result"
        }
      ],
      "source": [
        "numpy.sort(numpy.sort(numpy.squeeze(ort_pred32 - pred)))[-5:]"
      ]
    },
    {
      "cell_type": "code",
      "execution_count": 22,
      "metadata": {},
      "outputs": [
        {
          "data": {
            "text/plain": [
              "array([0., 0., 0., 0., 0.])"
            ]
          },
          "execution_count": 23,
          "metadata": {},
          "output_type": "execute_result"
        }
      ],
      "source": [
        "numpy.sort(numpy.sort(numpy.squeeze(ort_pred64 - pred)))[-5:]"
      ]
    },
    {
      "cell_type": "markdown",
      "metadata": {},
      "source": [
        "Double predictions clearly wins."
      ]
    },
    {
      "cell_type": "code",
      "execution_count": 23,
      "metadata": {},
      "outputs": [
        {
          "data": {
            "text/html": [
              "<div id=\"M1c20a2ae95eb48c58d8ebc34dc0793da-cont\"><div id=\"M1c20a2ae95eb48c58d8ebc34dc0793da\" style=\"width:100%;height:100%;\"></div></div>\n",
              "<script>\n",
              "\n",
              "require(['http://www.xavierdupre.fr/js/vizjs/viz.js'], function() { var svgGraph = Viz(\"digraph{\\n  nodesep=0.05;\\n  ranksep=0.25;\\n  orientation=portrait;\\n\\n  X [shape=box color=red label=\\\"X\\ndouble((1, 13))\\\" fontsize=10];\\n\\n  GPmean [shape=box color=green label=\\\"GPmean\\nfloat((1, 1))\\\" fontsize=10];\\n\\n  kgpd_MatMulcst [shape=box label=\\\"kgpd_MatMulcst\\nfloat64((13, 379))\\n[[1.7120e-01 7.8960e-02 8.3080...\\\" fontsize=10];\\n  kgpd_Addcst [shape=box label=\\\"kgpd_Addcst\\nfloat64((1,))\\n[1073.54778074]\\\" fontsize=10];\\n  gpr_MatMulcst [shape=box label=\\\"gpr_MatMulcst\\nfloat64((379,))\\n[ 2.75920907e-01 -1.82627201e-...\\\" fontsize=10];\\n  gpr_Addcst [shape=box label=\\\"gpr_Addcst\\nfloat64((1, 1))\\n[[0.]]\\\" fontsize=10];\\n\\n  kgpd_O02 [shape=box label=\\\"kgpd_O02\\\" fontsize=10];\\n  kgpd_MatMul [shape=box style=\\\"filled,rounded\\\" color=orange label=\\\"MatMul\\n(kgpd_MatMul)\\\" fontsize=10];\\n  X -> kgpd_MatMul;\\n  kgpd_MatMulcst -> kgpd_MatMul;\\n  kgpd_MatMul -> kgpd_O02;\\n\\n  kgpd_O01 [shape=box label=\\\"kgpd_O01\\\" fontsize=10];\\n  kgpd_Add [shape=box style=\\\"filled,rounded\\\" color=orange label=\\\"Add\\n(kgpd_Add)\\\" fontsize=10];\\n  kgpd_O02 -> kgpd_Add;\\n  kgpd_Addcst -> kgpd_Add;\\n  kgpd_Add -> kgpd_O01;\\n\\n  kgpd_O0 [shape=box label=\\\"kgpd_O0\\\" fontsize=10];\\n  kgpd_Identity [shape=box style=\\\"filled,rounded\\\" color=orange label=\\\"Identity\\n(kgpd_Identity)\\\" fontsize=10];\\n  kgpd_O01 -> kgpd_Identity;\\n  kgpd_Identity -> kgpd_O0;\\n\\n  gpr_O0 [shape=box label=\\\"gpr_O0\\\" fontsize=10];\\n  gpr_MatMul [shape=box style=\\\"filled,rounded\\\" color=orange label=\\\"MatMul\\n(gpr_MatMul)\\\" fontsize=10];\\n  kgpd_O0 -> gpr_MatMul;\\n  gpr_MatMulcst -> gpr_MatMul;\\n  gpr_MatMul -> gpr_O0;\\n\\n  gpr_Add [shape=box style=\\\"filled,rounded\\\" color=orange label=\\\"Add\\n(gpr_Add)\\\" fontsize=10];\\n  gpr_O0 -> gpr_Add;\\n  gpr_Addcst -> gpr_Add;\\n  gpr_Add -> GPmean;\\n}\");\n",
              "document.getElementById('M1c20a2ae95eb48c58d8ebc34dc0793da').innerHTML = svgGraph; });\n",
              "\n",
              "</script>"
            ],
            "text/plain": [
              "<jyquickhelper.jspy.render_nb_js_dot.RenderJsDot at 0x2d1f41c25f8>"
            ]
          },
          "execution_count": 24,
          "metadata": {},
          "output_type": "execute_result"
        }
      ],
      "source": [
        "# add -l 1 if nothing shows up\n",
        "%onnxview onnxgau64"
      ]
    },
    {
      "cell_type": "markdown",
      "metadata": {},
      "source": [
        "## Saves...\n",
        "\n",
        "Let's keep track of it."
      ]
    },
    {
      "cell_type": "code",
      "execution_count": 24,
      "metadata": {},
      "outputs": [
        {
          "data": {
            "text/html": [
              "<a href='gpr_dot_product_boston_32.onnx' target='_blank'>gpr_dot_product_boston_32.onnx</a><br>"
            ],
            "text/plain": [
              "C:\\xavierdupre\\__home_\\GitHub\\mlprodict\\_doc\\notebooks\\gpr_dot_product_boston_32.onnx"
            ]
          },
          "execution_count": 25,
          "metadata": {},
          "output_type": "execute_result"
        }
      ],
      "source": [
        "with open(\"gpr_dot_product_boston_32.onnx\", \"wb\") as f:\n",
        "    f.write(onnxgau32.SerializePartialToString())\n",
        "from IPython.display import FileLink\n",
        "FileLink('gpr_dot_product_boston_32.onnx')"
      ]
    },
    {
      "cell_type": "code",
      "execution_count": 25,
      "metadata": {},
      "outputs": [
        {
          "data": {
            "text/html": [
              "<a href='gpr_dot_product_boston_64.onnx' target='_blank'>gpr_dot_product_boston_64.onnx</a><br>"
            ],
            "text/plain": [
              "C:\\xavierdupre\\__home_\\GitHub\\mlprodict\\_doc\\notebooks\\gpr_dot_product_boston_64.onnx"
            ]
          },
          "execution_count": 26,
          "metadata": {},
          "output_type": "execute_result"
        }
      ],
      "source": [
        "with open(\"gpr_dot_product_boston_64.onnx\", \"wb\") as f:\n",
        "    f.write(onnxgau64.SerializePartialToString())\n",
        "FileLink('gpr_dot_product_boston_64.onnx')"
      ]
    },
    {
      "cell_type": "markdown",
      "metadata": {},
      "source": [
        "## Side by side\n",
        "\n",
        "We may wonder where the discrepencies start. But for that, we need to do a side by side."
      ]
    },
    {
      "cell_type": "code",
      "execution_count": 26,
      "metadata": {},
      "outputs": [
        {
          "data": {
            "text/html": [
              "<div>\n",
              "<style scoped>\n",
              "    .dataframe tbody tr th:only-of-type {\n",
              "        vertical-align: middle;\n",
              "    }\n",
              "\n",
              "    .dataframe tbody tr th {\n",
              "        vertical-align: top;\n",
              "    }\n",
              "\n",
              "    .dataframe thead th {\n",
              "        text-align: right;\n",
              "    }\n",
              "</style>\n",
              "<table border=\"1\" class=\"dataframe\">\n",
              "  <thead>\n",
              "    <tr style=\"text-align: right;\">\n",
              "      <th></th>\n",
              "      <th>cmp</th>\n",
              "      <th>metric</th>\n",
              "      <th>name</th>\n",
              "      <th>shape[0]</th>\n",
              "      <th>shape[1]</th>\n",
              "      <th>step</th>\n",
              "      <th>v[0]</th>\n",
              "      <th>v[1]</th>\n",
              "      <th>value[0]</th>\n",
              "      <th>value[1]</th>\n",
              "    </tr>\n",
              "  </thead>\n",
              "  <tbody>\n",
              "    <tr>\n",
              "      <th>0</th>\n",
              "      <td>OK</td>\n",
              "      <td>nb_results</td>\n",
              "      <td>NaN</td>\n",
              "      <td>NaN</td>\n",
              "      <td>NaN</td>\n",
              "      <td>-1</td>\n",
              "      <td>10</td>\n",
              "      <td>1.000000e+01</td>\n",
              "      <td>NaN</td>\n",
              "      <td>NaN</td>\n",
              "    </tr>\n",
              "    <tr>\n",
              "      <th>1</th>\n",
              "      <td>OK</td>\n",
              "      <td>abs-diff</td>\n",
              "      <td>X</td>\n",
              "      <td>(127, 13)</td>\n",
              "      <td>(127, 13)</td>\n",
              "      <td>0</td>\n",
              "      <td>0</td>\n",
              "      <td>5.553783e-08</td>\n",
              "      <td>[[0.03768, 80.0, 1.52, 0.0, 0.404, 7.274, 38.3...</td>\n",
              "      <td>[[0.03768, 80.0, 1.52, 0.0, 0.404, 7.274, 38.3...</td>\n",
              "    </tr>\n",
              "    <tr>\n",
              "      <th>2</th>\n",
              "      <td>OK</td>\n",
              "      <td>abs-diff</td>\n",
              "      <td>kgpd_MatMulcst</td>\n",
              "      <td>(13, 379)</td>\n",
              "      <td>(13, 379)</td>\n",
              "      <td>1</td>\n",
              "      <td>0</td>\n",
              "      <td>5.647917e-08</td>\n",
              "      <td>[[0.1712, 0.07896, 0.08308, 0.04011, 0.21977, ...</td>\n",
              "      <td>[[0.1712, 0.07896, 0.08308, 0.04011, 0.21977, ...</td>\n",
              "    </tr>\n",
              "    <tr>\n",
              "      <th>3</th>\n",
              "      <td>OK</td>\n",
              "      <td>abs-diff</td>\n",
              "      <td>kgpd_Addcst</td>\n",
              "      <td>(1,)</td>\n",
              "      <td>(1,)</td>\n",
              "      <td>2</td>\n",
              "      <td>0</td>\n",
              "      <td>4.773335e-08</td>\n",
              "      <td>[1073.5477]</td>\n",
              "      <td>[1073.5477807362217]</td>\n",
              "    </tr>\n",
              "    <tr>\n",
              "      <th>4</th>\n",
              "      <td>OK</td>\n",
              "      <td>abs-diff</td>\n",
              "      <td>gpr_MatMulcst</td>\n",
              "      <td>(379,)</td>\n",
              "      <td>(379,)</td>\n",
              "      <td>3</td>\n",
              "      <td>0</td>\n",
              "      <td>5.481368e-08</td>\n",
              "      <td>[0.2759209, -0.01826272, 0.30508244, -0.164773...</td>\n",
              "      <td>[0.2759209068378013, -0.018262720128066828, 0....</td>\n",
              "    </tr>\n",
              "    <tr>\n",
              "      <th>5</th>\n",
              "      <td>OK</td>\n",
              "      <td>abs-diff</td>\n",
              "      <td>gpr_Addcst</td>\n",
              "      <td>(1, 1)</td>\n",
              "      <td>(1, 1)</td>\n",
              "      <td>4</td>\n",
              "      <td>0</td>\n",
              "      <td>0.000000e+00</td>\n",
              "      <td>[[0.0]]</td>\n",
              "      <td>[[0.0]]</td>\n",
              "    </tr>\n",
              "    <tr>\n",
              "      <th>6</th>\n",
              "      <td>OK</td>\n",
              "      <td>abs-diff</td>\n",
              "      <td>kgpd_O02</td>\n",
              "      <td>(127, 379)</td>\n",
              "      <td>(127, 379)</td>\n",
              "      <td>5</td>\n",
              "      <td>0</td>\n",
              "      <td>1.729052e-07</td>\n",
              "      <td>[[285506.28, 286446.3, 220675.92, 271909.88, 2...</td>\n",
              "      <td>[[285506.252193816, 286446.3127387128, 220675....</td>\n",
              "    </tr>\n",
              "    <tr>\n",
              "      <th>7</th>\n",
              "      <td>OK</td>\n",
              "      <td>abs-diff</td>\n",
              "      <td>kgpd_O01</td>\n",
              "      <td>(127, 379)</td>\n",
              "      <td>(127, 379)</td>\n",
              "      <td>6</td>\n",
              "      <td>0</td>\n",
              "      <td>2.197289e-07</td>\n",
              "      <td>[[286579.84, 287519.88, 221749.47, 272983.44, ...</td>\n",
              "      <td>[[286579.79997455224, 287519.86051944905, 2217...</td>\n",
              "    </tr>\n",
              "    <tr>\n",
              "      <th>8</th>\n",
              "      <td>OK</td>\n",
              "      <td>abs-diff</td>\n",
              "      <td>kgpd_O0</td>\n",
              "      <td>(127, 379)</td>\n",
              "      <td>(127, 379)</td>\n",
              "      <td>7</td>\n",
              "      <td>0</td>\n",
              "      <td>2.197289e-07</td>\n",
              "      <td>[[286579.84, 287519.88, 221749.47, 272983.44, ...</td>\n",
              "      <td>[[286579.79997455224, 287519.86051944905, 2217...</td>\n",
              "    </tr>\n",
              "    <tr>\n",
              "      <th>9</th>\n",
              "      <td>e&lt;0.1</td>\n",
              "      <td>abs-diff</td>\n",
              "      <td>gpr_O0</td>\n",
              "      <td>(127,)</td>\n",
              "      <td>(127,)</td>\n",
              "      <td>8</td>\n",
              "      <td>0</td>\n",
              "      <td>6.591271e-02</td>\n",
              "      <td>[33.125, 6.625, 23.5, 22.625, 10.25, 19.75, 13...</td>\n",
              "      <td>[33.162191349547356, 6.8058363744057715, 23.80...</td>\n",
              "    </tr>\n",
              "    <tr>\n",
              "      <th>10</th>\n",
              "      <td>e&lt;0.1</td>\n",
              "      <td>abs-diff</td>\n",
              "      <td>GPmean</td>\n",
              "      <td>(1, 127)</td>\n",
              "      <td>(1, 127)</td>\n",
              "      <td>9</td>\n",
              "      <td>0</td>\n",
              "      <td>6.591271e-02</td>\n",
              "      <td>[[33.125, 6.625, 23.5, 22.625, 10.25, 19.75, 1...</td>\n",
              "      <td>[[33.162191349547356, 6.8058363744057715, 23.8...</td>\n",
              "    </tr>\n",
              "  </tbody>\n",
              "</table>\n",
              "</div>"
            ],
            "text/plain": [
              "      cmp      metric            name    shape[0]    shape[1]  step  v[0]  \\\n",
              "0      OK  nb_results             NaN         NaN         NaN    -1    10   \n",
              "1      OK    abs-diff               X   (127, 13)   (127, 13)     0     0   \n",
              "2      OK    abs-diff  kgpd_MatMulcst   (13, 379)   (13, 379)     1     0   \n",
              "3      OK    abs-diff     kgpd_Addcst        (1,)        (1,)     2     0   \n",
              "4      OK    abs-diff   gpr_MatMulcst      (379,)      (379,)     3     0   \n",
              "5      OK    abs-diff      gpr_Addcst      (1, 1)      (1, 1)     4     0   \n",
              "6      OK    abs-diff        kgpd_O02  (127, 379)  (127, 379)     5     0   \n",
              "7      OK    abs-diff        kgpd_O01  (127, 379)  (127, 379)     6     0   \n",
              "8      OK    abs-diff         kgpd_O0  (127, 379)  (127, 379)     7     0   \n",
              "9   e<0.1    abs-diff          gpr_O0      (127,)      (127,)     8     0   \n",
              "10  e<0.1    abs-diff          GPmean    (1, 127)    (1, 127)     9     0   \n",
              "\n",
              "            v[1]                                           value[0]  \\\n",
              "0   1.000000e+01                                                NaN   \n",
              "1   5.553783e-08  [[0.03768, 80.0, 1.52, 0.0, 0.404, 7.274, 38.3...   \n",
              "2   5.647917e-08  [[0.1712, 0.07896, 0.08308, 0.04011, 0.21977, ...   \n",
              "3   4.773335e-08                                        [1073.5477]   \n",
              "4   5.481368e-08  [0.2759209, -0.01826272, 0.30508244, -0.164773...   \n",
              "5   0.000000e+00                                            [[0.0]]   \n",
              "6   1.729052e-07  [[285506.28, 286446.3, 220675.92, 271909.88, 2...   \n",
              "7   2.197289e-07  [[286579.84, 287519.88, 221749.47, 272983.44, ...   \n",
              "8   2.197289e-07  [[286579.84, 287519.88, 221749.47, 272983.44, ...   \n",
              "9   6.591271e-02  [33.125, 6.625, 23.5, 22.625, 10.25, 19.75, 13...   \n",
              "10  6.591271e-02  [[33.125, 6.625, 23.5, 22.625, 10.25, 19.75, 1...   \n",
              "\n",
              "                                             value[1]  \n",
              "0                                                 NaN  \n",
              "1   [[0.03768, 80.0, 1.52, 0.0, 0.404, 7.274, 38.3...  \n",
              "2   [[0.1712, 0.07896, 0.08308, 0.04011, 0.21977, ...  \n",
              "3                                [1073.5477807362217]  \n",
              "4   [0.2759209068378013, -0.018262720128066828, 0....  \n",
              "5                                             [[0.0]]  \n",
              "6   [[285506.252193816, 286446.3127387128, 220675....  \n",
              "7   [[286579.79997455224, 287519.86051944905, 2217...  \n",
              "8   [[286579.79997455224, 287519.86051944905, 2217...  \n",
              "9   [33.162191349547356, 6.8058363744057715, 23.80...  \n",
              "10  [[33.162191349547356, 6.8058363744057715, 23.8...  "
            ]
          },
          "execution_count": 27,
          "metadata": {},
          "output_type": "execute_result"
        }
      ],
      "source": [
        "from mlprodict.onnxrt.validate.side_by_side import side_by_side_by_values\n",
        "sbs = side_by_side_by_values([(oinf32, {'X': X_test.astype(numpy.float32)}),\n",
        "                              (oinf64, {'X': X_test.astype(numpy.float64)})])\n",
        "\n",
        "from pandas import DataFrame\n",
        "df = DataFrame(sbs)\n",
        "# dfd = df.drop(['value[0]', 'value[1]', 'value[2]'], axis=1).copy()\n",
        "df"
      ]
    },
    {
      "cell_type": "markdown",
      "metadata": {},
      "source": [
        "The differences really starts for output ``'O0'`` after the matrix multiplication. This matrix melts different number with very different order of magnitudes and that alone explains the discrepencies with doubles and floats on that particular model."
      ]
    },
    {
      "cell_type": "code",
      "execution_count": 27,
      "metadata": {},
      "outputs": [
        {
          "data": {
            "image/png": "[encoded data removed]",
            "text/plain": [
              "<Figure size 1008x288 with 1 Axes>"
            ]
          },
          "metadata": {
            "needs_background": "light"
          },
          "output_type": "display_data"
        }
      ],
      "source": [
        "%matplotlib inline\n",
        "ax = df[['name', 'v[1]']].iloc[1:].set_index('name').plot(kind='bar', figsize=(14,4), logy=True)\n",
        "ax.set_title(\"Relative differences for each output between float32 and float64\\nfor a GaussianProcessRegressor\");"
      ]
    },
    {
      "cell_type": "markdown",
      "metadata": {},
      "source": [
        "Before going further, let's check how sensitive the trained model is about converting double into floats."
      ]
    },
    {
      "cell_type": "code",
      "execution_count": 28,
      "metadata": {},
      "outputs": [
        {
          "data": {
            "text/plain": [
              "array([1.22073106e-06, 1.26985833e-06, 1.29081309e-06, 1.53481960e-06,\n",
              "       1.54972076e-06])"
            ]
          },
          "execution_count": 29,
          "metadata": {},
          "output_type": "execute_result"
        }
      ],
      "source": [
        "pg1 = gau.predict(X_test)\n",
        "pg2 = gau.predict(X_test.astype(numpy.float32).astype(numpy.float64))\n",
        "numpy.sort(numpy.sort(numpy.squeeze(pg1 - pg2)))[-5:]"
      ]
    },
    {
      "cell_type": "markdown",
      "metadata": {},
      "source": [
        "Having float or double inputs should not matter. We confirm that with the model converted into ONNX."
      ]
    },
    {
      "cell_type": "code",
      "execution_count": 29,
      "metadata": {},
      "outputs": [
        {
          "data": {
            "text/plain": [
              "array([1.22073106e-06, 1.26985833e-06, 1.29081309e-06, 1.53481960e-06,\n",
              "       1.54972076e-06])"
            ]
          },
          "execution_count": 30,
          "metadata": {},
          "output_type": "execute_result"
        }
      ],
      "source": [
        "p1 = oinf64.run({'X': X_test})['GPmean']\n",
        "p2 = oinf64.run({'X': X_test.astype(numpy.float32).astype(numpy.float64)})['GPmean']\n",
        "numpy.sort(numpy.sort(numpy.squeeze(p1 - p2)))[-5:]"
      ]
    },
    {
      "cell_type": "markdown",
      "metadata": {},
      "source": [
        "Last verification."
      ]
    },
    {
      "cell_type": "code",
      "execution_count": 30,
      "metadata": {},
      "outputs": [
        {
          "data": {
            "image/png": "[encoded data removed]",
            "text/plain": [
              "<Figure size 1008x288 with 1 Axes>"
            ]
          },
          "metadata": {
            "needs_background": "light"
          },
          "output_type": "display_data"
        }
      ],
      "source": [
        "sbs = side_by_side_by_values([(oinf64, {'X': X_test.astype(numpy.float32).astype(numpy.float64)}),\n",
        "                              (oinf64, {'X': X_test.astype(numpy.float64)})])\n",
        "df = DataFrame(sbs)\n",
        "ax = df[['name', 'v[1]']].iloc[1:].set_index('name').plot(kind='bar', figsize=(14,4), logy=True)\n",
        "ax.set_title(\"Relative differences for each output between float64 and float64 rounded to float32\"\n",
        "             \"\\nfor a GaussianProcessRegressor\");"
      ]
    },
    {
      "cell_type": "markdown",
      "metadata": {},
      "source": [
        "## Partial use of float64"
      ]
    },
    {
      "cell_type": "code",
      "execution_count": 31,
      "metadata": {},
      "outputs": [
        {
          "data": {
            "text/html": [
              "<div id=\"M4759a741de104ea1ac07ac636ca00e8a-cont\"><div id=\"M4759a741de104ea1ac07ac636ca00e8a\" style=\"width:100%;height:100%;\"></div></div>\n",
              "<script>\n",
              "\n",
              "require(['http://www.xavierdupre.fr/js/vizjs/viz.js'], function() { var svgGraph = Viz(\"digraph{\\n  nodesep=0.05;\\n  ranksep=0.25;\\n  orientation=portrait;\\n\\n  X [shape=box color=red label=\\\"X\\nfloat((1, 13))\\\" fontsize=10];\\n\\n  GPmean [shape=box color=green label=\\\"GPmean\\nfloat((1, 1))\\\" fontsize=10];\\n\\n  kgpd_MatMulcst [shape=box label=\\\"kgpd_MatMulcst\\nfloat64((13, 379))\\n[[1.71200007e-01 7.89600015e-0...\\\" fontsize=10];\\n  kgpd_Addcst [shape=box label=\\\"kgpd_Addcst\\nfloat32((1,))\\n[1073.5477]\\\" fontsize=10];\\n  gpr_MatMulcst [shape=box label=\\\"gpr_MatMulcst\\nfloat64((379,))\\n[ 2.75920907e-01 -1.82627201e-...\\\" fontsize=10];\\n  gpr_Addcst [shape=box label=\\\"gpr_Addcst\\nfloat32((1, 1))\\n[[0.]]\\\" fontsize=10];\\n\\n  kgpd_O04 [shape=box label=\\\"kgpd_O04\\\" fontsize=10];\\n  kgpd_Cast [shape=box style=\\\"filled,rounded\\\" color=orange label=\\\"Cast\\n(kgpd_Cast)\\nto=11\\\" fontsize=10];\\n  X -> kgpd_Cast;\\n  kgpd_Cast -> kgpd_O04;\\n\\n  kgpd_O03 [shape=box label=\\\"kgpd_O03\\\" fontsize=10];\\n  kgpd_MatMul [shape=box style=\\\"filled,rounded\\\" color=orange label=\\\"MatMul\\n(kgpd_MatMul)\\\" fontsize=10];\\n  kgpd_O04 -> kgpd_MatMul;\\n  kgpd_MatMulcst -> kgpd_MatMul;\\n  kgpd_MatMul -> kgpd_O03;\\n\\n  kgpd_O02 [shape=box label=\\\"kgpd_O02\\\" fontsize=10];\\n  kgpd_Cast1 [shape=box style=\\\"filled,rounded\\\" color=orange label=\\\"Cast\\n(kgpd_Cast1)\\nto=1\\\" fontsize=10];\\n  kgpd_O03 -> kgpd_Cast1;\\n  kgpd_Cast1 -> kgpd_O02;\\n\\n  kgpd_O01 [shape=box label=\\\"kgpd_O01\\\" fontsize=10];\\n  kgpd_Add [shape=box style=\\\"filled,rounded\\\" color=orange label=\\\"Add\\n(kgpd_Add)\\\" fontsize=10];\\n  kgpd_O02 -> kgpd_Add;\\n  kgpd_Addcst -> kgpd_Add;\\n  kgpd_Add -> kgpd_O01;\\n\\n  kgpd_O0 [shape=box label=\\\"kgpd_O0\\\" fontsize=10];\\n  kgpd_Identity [shape=box style=\\\"filled,rounded\\\" color=orange label=\\\"Identity\\n(kgpd_Identity)\\\" fontsize=10];\\n  kgpd_O01 -> kgpd_Identity;\\n  kgpd_Identity -> kgpd_O0;\\n\\n  gpr_O02 [shape=box label=\\\"gpr_O02\\\" fontsize=10];\\n  gpr_Cast [shape=box style=\\\"filled,rounded\\\" color=orange label=\\\"Cast\\n(gpr_Cast)\\nto=11\\\" fontsize=10];\\n  kgpd_O0 -> gpr_Cast;\\n  gpr_Cast -> gpr_O02;\\n\\n  gpr_O01 [shape=box label=\\\"gpr_O01\\\" fontsize=10];\\n  gpr_MatMul [shape=box style=\\\"filled,rounded\\\" color=orange label=\\\"MatMul\\n(gpr_MatMul)\\\" fontsize=10];\\n  gpr_O02 -> gpr_MatMul;\\n  gpr_MatMulcst -> gpr_MatMul;\\n  gpr_MatMul -> gpr_O01;\\n\\n  gpr_O0 [shape=box label=\\\"gpr_O0\\\" fontsize=10];\\n  gpr_Cast1 [shape=box style=\\\"filled,rounded\\\" color=orange label=\\\"Cast\\n(gpr_Cast1)\\nto=1\\\" fontsize=10];\\n  gpr_O01 -> gpr_Cast1;\\n  gpr_Cast1 -> gpr_O0;\\n\\n  gpr_Add [shape=box style=\\\"filled,rounded\\\" color=orange label=\\\"Add\\n(gpr_Add)\\\" fontsize=10];\\n  gpr_O0 -> gpr_Add;\\n  gpr_Addcst -> gpr_Add;\\n  gpr_Add -> GPmean;\\n}\");\n",
              "document.getElementById('M4759a741de104ea1ac07ac636ca00e8a').innerHTML = svgGraph; });\n",
              "\n",
              "</script>"
            ],
            "text/plain": [
              "<jyquickhelper.jspy.render_nb_js_dot.RenderJsDot at 0x2d1f4d96470>"
            ]
          },
          "execution_count": 32,
          "metadata": {},
          "output_type": "execute_result"
        }
      ],
      "source": [
        "onnxgau48 = to_onnx(gau, X_train.astype(numpy.float32), dtype=numpy.float32,\n",
        "                    options={GaussianProcessRegressor: {'float64': True}})\n",
        "%onnxview onnxgau48"
      ]
    },
    {
      "cell_type": "code",
      "execution_count": 32,
      "metadata": {},
      "outputs": [
        {
          "data": {
            "text/plain": [
              "array([0.16995945, 0.17210525, 0.20095541, 0.20111441, 0.24590116])"
            ]
          },
          "execution_count": 33,
          "metadata": {},
          "output_type": "execute_result"
        }
      ],
      "source": [
        "oinf48 = OnnxInference(onnxgau48, runtime=\"python\")\n",
        "ort_pred48 = oinf48.run({'X': X_test.astype(numpy.float32)})['GPmean']\n",
        "numpy.sort(numpy.sort(numpy.squeeze(ort_pred48 - ort_pred64)))[-5:]"
      ]
    },
    {
      "cell_type": "code",
      "execution_count": 33,
      "metadata": {},
      "outputs": [
        {
          "data": {
            "image/png": "[encoded data removed]",
            "text/plain": [
              "<Figure size 1008x288 with 1 Axes>"
            ]
          },
          "metadata": {
            "needs_background": "light"
          },
          "output_type": "display_data"
        }
      ],
      "source": [
        "sbs = side_by_side_by_values([(oinf48, {'X': X_test.astype(numpy.float32)}),\n",
        "                              (oinf64, {'X': X_test.astype(numpy.float64)})])\n",
        "df = DataFrame(sbs)\n",
        "ax = df[['name', 'v[1]']].iloc[1:].set_index('name').plot(kind='bar', figsize=(14,4), logy=True)\n",
        "ax.set_title(\"Relative differences for each output between float64 and float64 rounded to float32\"\n",
        "             \"\\nfor a GaussianProcessRegressor\");"
      ]
    },
    {
      "cell_type": "code",
      "execution_count": 34,
      "metadata": {},
      "outputs": [
        {
          "data": {
            "text/html": [
              "<div>\n",
              "<style scoped>\n",
              "    .dataframe tbody tr th:only-of-type {\n",
              "        vertical-align: middle;\n",
              "    }\n",
              "\n",
              "    .dataframe tbody tr th {\n",
              "        vertical-align: top;\n",
              "    }\n",
              "\n",
              "    .dataframe thead th {\n",
              "        text-align: right;\n",
              "    }\n",
              "</style>\n",
              "<table border=\"1\" class=\"dataframe\">\n",
              "  <thead>\n",
              "    <tr style=\"text-align: right;\">\n",
              "      <th></th>\n",
              "      <th>cmp</th>\n",
              "      <th>metric</th>\n",
              "      <th>name</th>\n",
              "      <th>names</th>\n",
              "      <th>shape[0]</th>\n",
              "      <th>shape[1]</th>\n",
              "      <th>step</th>\n",
              "      <th>v[0]</th>\n",
              "      <th>v[1]</th>\n",
              "      <th>value[0]</th>\n",
              "      <th>value[1]</th>\n",
              "    </tr>\n",
              "  </thead>\n",
              "  <tbody>\n",
              "    <tr>\n",
              "      <th>0</th>\n",
              "      <td>!=</td>\n",
              "      <td>nb_results</td>\n",
              "      <td>NaN</td>\n",
              "      <td>NaN</td>\n",
              "      <td>NaN</td>\n",
              "      <td>NaN</td>\n",
              "      <td>-1</td>\n",
              "      <td>14</td>\n",
              "      <td>1.000000e+01</td>\n",
              "      <td>NaN</td>\n",
              "      <td>NaN</td>\n",
              "    </tr>\n",
              "    <tr>\n",
              "      <th>1</th>\n",
              "      <td>OK</td>\n",
              "      <td>abs-diff</td>\n",
              "      <td>X</td>\n",
              "      <td>NaN</td>\n",
              "      <td>(127, 13)</td>\n",
              "      <td>(127, 13)</td>\n",
              "      <td>0</td>\n",
              "      <td>0</td>\n",
              "      <td>5.553783e-08</td>\n",
              "      <td>[[0.03768, 80.0, 1.52, 0.0, 0.404, 7.274, 38.3...</td>\n",
              "      <td>[[0.03768, 80.0, 1.52, 0.0, 0.404, 7.274, 38.3...</td>\n",
              "    </tr>\n",
              "    <tr>\n",
              "      <th>2</th>\n",
              "      <td>OK</td>\n",
              "      <td>abs-diff</td>\n",
              "      <td>kgpd_MatMulcst</td>\n",
              "      <td>NaN</td>\n",
              "      <td>(13, 379)</td>\n",
              "      <td>(13, 379)</td>\n",
              "      <td>1</td>\n",
              "      <td>0</td>\n",
              "      <td>5.647917e-08</td>\n",
              "      <td>[[0.1712000072002411, 0.07896000146865845, 0.0...</td>\n",
              "      <td>[[0.1712, 0.07896, 0.08308, 0.04011, 0.21977, ...</td>\n",
              "    </tr>\n",
              "    <tr>\n",
              "      <th>3</th>\n",
              "      <td>OK</td>\n",
              "      <td>abs-diff</td>\n",
              "      <td>kgpd_Addcst</td>\n",
              "      <td>NaN</td>\n",
              "      <td>(1,)</td>\n",
              "      <td>(1,)</td>\n",
              "      <td>2</td>\n",
              "      <td>0</td>\n",
              "      <td>4.773335e-08</td>\n",
              "      <td>[1073.5477]</td>\n",
              "      <td>[1073.5477807362217]</td>\n",
              "    </tr>\n",
              "    <tr>\n",
              "      <th>4</th>\n",
              "      <td>OK</td>\n",
              "      <td>abs-diff</td>\n",
              "      <td>gpr_MatMulcst</td>\n",
              "      <td>NaN</td>\n",
              "      <td>(379,)</td>\n",
              "      <td>(379,)</td>\n",
              "      <td>3</td>\n",
              "      <td>0</td>\n",
              "      <td>0.000000e+00</td>\n",
              "      <td>[0.2759209068378013, -0.018262720128066828, 0....</td>\n",
              "      <td>[0.2759209068378013, -0.018262720128066828, 0....</td>\n",
              "    </tr>\n",
              "    <tr>\n",
              "      <th>5</th>\n",
              "      <td>OK</td>\n",
              "      <td>abs-diff</td>\n",
              "      <td>gpr_Addcst</td>\n",
              "      <td>NaN</td>\n",
              "      <td>(1, 1)</td>\n",
              "      <td>(1, 1)</td>\n",
              "      <td>4</td>\n",
              "      <td>0</td>\n",
              "      <td>0.000000e+00</td>\n",
              "      <td>[[0.0]]</td>\n",
              "      <td>[[0.0]]</td>\n",
              "    </tr>\n",
              "    <tr>\n",
              "      <th>6</th>\n",
              "      <td>ERROR-&gt;=100000000000.0</td>\n",
              "      <td>abs-diff</td>\n",
              "      <td>NaN</td>\n",
              "      <td>kgpd_O02 -&gt; kgpd_O04</td>\n",
              "      <td>(127, 13)</td>\n",
              "      <td>(127, 379)</td>\n",
              "      <td>5</td>\n",
              "      <td>0</td>\n",
              "      <td>1.000000e+11</td>\n",
              "      <td>[[0.0376800000667572, 80.0, 1.5199999809265137...</td>\n",
              "      <td>[[285506.252193816, 286446.3127387128, 220675....</td>\n",
              "    </tr>\n",
              "    <tr>\n",
              "      <th>7</th>\n",
              "      <td>e&lt;0.01</td>\n",
              "      <td>abs-diff</td>\n",
              "      <td>NaN</td>\n",
              "      <td>kgpd_O01 -&gt; kgpd_O03</td>\n",
              "      <td>(127, 379)</td>\n",
              "      <td>(127, 379)</td>\n",
              "      <td>6</td>\n",
              "      <td>0</td>\n",
              "      <td>3.969042e-03</td>\n",
              "      <td>[[285506.26227946434, 286446.3228386466, 22067...</td>\n",
              "      <td>[[286579.79997455224, 287519.86051944905, 2217...</td>\n",
              "    </tr>\n",
              "    <tr>\n",
              "      <th>8</th>\n",
              "      <td>e&lt;0.01</td>\n",
              "      <td>abs-diff</td>\n",
              "      <td>NaN</td>\n",
              "      <td>kgpd_O0 -&gt; kgpd_O02</td>\n",
              "      <td>(127, 379)</td>\n",
              "      <td>(127, 379)</td>\n",
              "      <td>7</td>\n",
              "      <td>0</td>\n",
              "      <td>3.969088e-03</td>\n",
              "      <td>[[285506.25, 286446.3, 220675.9, 271909.88, 23...</td>\n",
              "      <td>[[286579.79997455224, 287519.86051944905, 2217...</td>\n",
              "    </tr>\n",
              "    <tr>\n",
              "      <th>9</th>\n",
              "      <td>ERROR-&gt;=100000000000.0</td>\n",
              "      <td>abs-diff</td>\n",
              "      <td>NaN</td>\n",
              "      <td>gpr_O0 -&gt; kgpd_O01</td>\n",
              "      <td>(127, 379)</td>\n",
              "      <td>(127,)</td>\n",
              "      <td>8</td>\n",
              "      <td>0</td>\n",
              "      <td>1.000000e+11</td>\n",
              "      <td>[[286579.8, 287519.88, 221749.45, 272983.44, 2...</td>\n",
              "      <td>[33.162191349547356, 6.8058363744057715, 23.80...</td>\n",
              "    </tr>\n",
              "    <tr>\n",
              "      <th>10</th>\n",
              "      <td>ERROR-&gt;=100000000000.0</td>\n",
              "      <td>abs-diff</td>\n",
              "      <td>NaN</td>\n",
              "      <td>GPmean -&gt; kgpd_O0</td>\n",
              "      <td>(127, 379)</td>\n",
              "      <td>(1, 127)</td>\n",
              "      <td>9</td>\n",
              "      <td>0</td>\n",
              "      <td>1.000000e+11</td>\n",
              "      <td>[[286579.8, 287519.88, 221749.45, 272983.44, 2...</td>\n",
              "      <td>[[33.162191349547356, 6.8058363744057715, 23.8...</td>\n",
              "    </tr>\n",
              "  </tbody>\n",
              "</table>\n",
              "</div>"
            ],
            "text/plain": [
              "                       cmp      metric            name                 names  \\\n",
              "0                       !=  nb_results             NaN                   NaN   \n",
              "1                       OK    abs-diff               X                   NaN   \n",
              "2                       OK    abs-diff  kgpd_MatMulcst                   NaN   \n",
              "3                       OK    abs-diff     kgpd_Addcst                   NaN   \n",
              "4                       OK    abs-diff   gpr_MatMulcst                   NaN   \n",
              "5                       OK    abs-diff      gpr_Addcst                   NaN   \n",
              "6   ERROR->=100000000000.0    abs-diff             NaN  kgpd_O02 -> kgpd_O04   \n",
              "7                   e<0.01    abs-diff             NaN  kgpd_O01 -> kgpd_O03   \n",
              "8                   e<0.01    abs-diff             NaN   kgpd_O0 -> kgpd_O02   \n",
              "9   ERROR->=100000000000.0    abs-diff             NaN    gpr_O0 -> kgpd_O01   \n",
              "10  ERROR->=100000000000.0    abs-diff             NaN     GPmean -> kgpd_O0   \n",
              "\n",
              "      shape[0]    shape[1]  step  v[0]          v[1]  \\\n",
              "0          NaN         NaN    -1    14  1.000000e+01   \n",
              "1    (127, 13)   (127, 13)     0     0  5.553783e-08   \n",
              "2    (13, 379)   (13, 379)     1     0  5.647917e-08   \n",
              "3         (1,)        (1,)     2     0  4.773335e-08   \n",
              "4       (379,)      (379,)     3     0  0.000000e+00   \n",
              "5       (1, 1)      (1, 1)     4     0  0.000000e+00   \n",
              "6    (127, 13)  (127, 379)     5     0  1.000000e+11   \n",
              "7   (127, 379)  (127, 379)     6     0  3.969042e-03   \n",
              "8   (127, 379)  (127, 379)     7     0  3.969088e-03   \n",
              "9   (127, 379)      (127,)     8     0  1.000000e+11   \n",
              "10  (127, 379)    (1, 127)     9     0  1.000000e+11   \n",
              "\n",
              "                                             value[0]  \\\n",
              "0                                                 NaN   \n",
              "1   [[0.03768, 80.0, 1.52, 0.0, 0.404, 7.274, 38.3...   \n",
              "2   [[0.1712000072002411, 0.07896000146865845, 0.0...   \n",
              "3                                         [1073.5477]   \n",
              "4   [0.2759209068378013, -0.018262720128066828, 0....   \n",
              "5                                             [[0.0]]   \n",
              "6   [[0.0376800000667572, 80.0, 1.5199999809265137...   \n",
              "7   [[285506.26227946434, 286446.3228386466, 22067...   \n",
              "8   [[285506.25, 286446.3, 220675.9, 271909.88, 23...   \n",
              "9   [[286579.8, 287519.88, 221749.45, 272983.44, 2...   \n",
              "10  [[286579.8, 287519.88, 221749.45, 272983.44, 2...   \n",
              "\n",
              "                                             value[1]  \n",
              "0                                                 NaN  \n",
              "1   [[0.03768, 80.0, 1.52, 0.0, 0.404, 7.274, 38.3...  \n",
              "2   [[0.1712, 0.07896, 0.08308, 0.04011, 0.21977, ...  \n",
              "3                                [1073.5477807362217]  \n",
              "4   [0.2759209068378013, -0.018262720128066828, 0....  \n",
              "5                                             [[0.0]]  \n",
              "6   [[285506.252193816, 286446.3127387128, 220675....  \n",
              "7   [[286579.79997455224, 287519.86051944905, 2217...  \n",
              "8   [[286579.79997455224, 287519.86051944905, 2217...  \n",
              "9   [33.162191349547356, 6.8058363744057715, 23.80...  \n",
              "10  [[33.162191349547356, 6.8058363744057715, 23.8...  "
            ]
          },
          "execution_count": 35,
          "metadata": {},
          "output_type": "execute_result"
        }
      ],
      "source": [
        "df"
      ]
    },
    {
      "cell_type": "code",
      "execution_count": 35,
      "metadata": {},
      "outputs": [],
      "source": []
    }
  ],
  "metadata": {
    "kernelspec": {
      "display_name": "Python 3",
      "language": "python",
      "name": "python3"
    },
    "language_info": {
      "codemirror_mode": {
        "name": "ipython",
        "version": 3
      },
      "file_extension": ".py",
      "mimetype": "text/x-python",
      "name": "python",
      "nbconvert_exporter": "python",
      "pygments_lexer": "ipython3",
      "version": "3.7.2"
    }
  },
  "nbformat": 4,
  "nbformat_minor": 2
}