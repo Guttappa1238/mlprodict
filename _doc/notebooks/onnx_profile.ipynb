{
  "cells": [
    {
      "cell_type": "markdown",
      "metadata": {},
      "source": [
        "# Memory usage\n",
        "\n",
        "The [first benchmark](http://www.xavierdupre.fr/app/_benchmarks/helpsphinx/sklbench_results/index.html) based on [scikti-learn's benchmark](https://github.com/jeremiedbb/scikit-learn_benchmarks) shows high peaks of memory usage for the python runtime on linear models. Let's see how to measure that."
      ]
    },
    {
      "cell_type": "code",
      "execution_count": 1,
      "metadata": {},
      "outputs": [
        {
          "data": {
            "text/html": [
              "<div id=\"my_id_menu_nb\">run previous cell, wait for 2 seconds</div>\n",
              "<script>\n",
              "function repeat_indent_string(n){\n",
              "    var a = \"\" ;\n",
              "    for ( ; n > 0 ; --n)\n",
              "        a += \"    \";\n",
              "    return a;\n",
              "}\n",
              "// look up into all sections and builds an automated menu //\n",
              "var update_menu_string = function(begin, lfirst, llast, sformat, send, keep_item, begin_format, end_format) {\n",
              "    var anchors = document.getElementsByClassName(\"section\");\n",
              "    if (anchors.length == 0) {\n",
              "        anchors = document.getElementsByClassName(\"text_cell_render rendered_html\");\n",
              "    }\n",
              "    var i,t;\n",
              "    var text_menu = begin;\n",
              "    var text_memo = \"<pre>\\nlength:\" + anchors.length + \"\\n\";\n",
              "    var ind = \"\";\n",
              "    var memo_level = 1;\n",
              "    var href;\n",
              "    var tags = [];\n",
              "    var main_item = 0;\n",
              "    var format_open = 0;\n",
              "    for (i = 0; i <= llast; i++)\n",
              "        tags.push(\"h\" + i);\n",
              "\n",
              "    for (i = 0; i < anchors.length; i++) {\n",
              "        text_memo += \"**\" + anchors[i].id + \"--\\n\";\n",
              "\n",
              "        var child = null;\n",
              "        for(t = 0; t < tags.length; t++) {\n",
              "            var r = anchors[i].getElementsByTagName(tags[t]);\n",
              "            if (r.length > 0) {\n",
              "child = r[0];\n",
              "break;\n",
              "            }\n",
              "        }\n",
              "        if (child == null) {\n",
              "            text_memo += \"null\\n\";\n",
              "            continue;\n",
              "        }\n",
              "        if (anchors[i].hasAttribute(\"id\")) {\n",
              "            // when converted in RST\n",
              "            href = anchors[i].id;\n",
              "            text_memo += \"#1-\" + href;\n",
              "            // passer \u00e0 child suivant (le chercher)\n",
              "        }\n",
              "        else if (child.hasAttribute(\"id\")) {\n",
              "            // in a notebook\n",
              "            href = child.id;\n",
              "            text_memo += \"#2-\" + href;\n",
              "        }\n",
              "        else {\n",
              "            text_memo += \"#3-\" + \"*\" + \"\\n\";\n",
              "            continue;\n",
              "        }\n",
              "        var title = child.textContent;\n",
              "        var level = parseInt(child.tagName.substring(1,2));\n",
              "\n",
              "        text_memo += \"--\" + level + \"?\" + lfirst + \"--\" + title + \"\\n\";\n",
              "\n",
              "        if ((level < lfirst) || (level > llast)) {\n",
              "            continue ;\n",
              "        }\n",
              "        if (title.endsWith('\u00b6')) {\n",
              "            title = title.substring(0,title.length-1).replace(\"<\", \"&lt;\")\n",
              "         .replace(\">\", \"&gt;\").replace(\"&\", \"&amp;\");\n",
              "        }\n",
              "        if (title.length == 0) {\n",
              "            continue;\n",
              "        }\n",
              "\n",
              "        while (level < memo_level) {\n",
              "            text_menu += end_format + \"</ul>\\n\";\n",
              "            format_open -= 1;\n",
              "            memo_level -= 1;\n",
              "        }\n",
              "        if (level == lfirst) {\n",
              "            main_item += 1;\n",
              "        }\n",
              "        if (keep_item != -1 && main_item != keep_item + 1) {\n",
              "            // alert(main_item + \" - \" + level + \" - \" + keep_item);\n",
              "            continue;\n",
              "        }\n",
              "        while (level > memo_level) {\n",
              "            text_menu += \"<ul>\\n\";\n",
              "            memo_level += 1;\n",
              "        }\n",
              "        text_menu += repeat_indent_string(level-2);\n",
              "        text_menu += begin_format + sformat.replace(\"__HREF__\", href).replace(\"__TITLE__\", title);\n",
              "        format_open += 1;\n",
              "    }\n",
              "    while (1 < memo_level) {\n",
              "        text_menu += end_format + \"</ul>\\n\";\n",
              "        memo_level -= 1;\n",
              "        format_open -= 1;\n",
              "    }\n",
              "    text_menu += send;\n",
              "    //text_menu += \"\\n\" + text_memo;\n",
              "\n",
              "    while (format_open > 0) {\n",
              "        text_menu += end_format;\n",
              "        format_open -= 1;\n",
              "    }\n",
              "    return text_menu;\n",
              "};\n",
              "var update_menu = function() {\n",
              "    var sbegin = \"\";\n",
              "    var sformat = '<a href=\"#__HREF__\">__TITLE__</a>';\n",
              "    var send = \"\";\n",
              "    var begin_format = '<li>';\n",
              "    var end_format = '</li>';\n",
              "    var keep_item = -1;\n",
              "    var text_menu = update_menu_string(sbegin, 2, 4, sformat, send, keep_item,\n",
              "       begin_format, end_format);\n",
              "    var menu = document.getElementById(\"my_id_menu_nb\");\n",
              "    menu.innerHTML=text_menu;\n",
              "};\n",
              "window.setTimeout(update_menu,2000);\n",
              "            </script>"
            ],
            "text/plain": [
              "<IPython.core.display.HTML object>"
            ]
          },
          "execution_count": 2,
          "metadata": {},
          "output_type": "execute_result"
        }
      ],
      "source": [
        "from jyquickhelper import add_notebook_menu\n",
        "add_notebook_menu()"
      ]
    },
    {
      "cell_type": "markdown",
      "metadata": {},
      "source": [
        "## Artificial huge data "
      ]
    },
    {
      "cell_type": "code",
      "execution_count": 2,
      "metadata": {},
      "outputs": [
        {
          "data": {
            "text/plain": [
              "0.48"
            ]
          },
          "execution_count": 3,
          "metadata": {},
          "output_type": "execute_result"
        }
      ],
      "source": [
        "import numpy\n",
        "N, nfeat = 300000, 200\n",
        "N * nfeat * 8 / 1e9"
      ]
    },
    {
      "cell_type": "code",
      "execution_count": 3,
      "metadata": {},
      "outputs": [
        {
          "data": {
            "text/plain": [
              "((300000, 200), (300000, 50))"
            ]
          },
          "execution_count": 4,
          "metadata": {},
          "output_type": "execute_result"
        }
      ],
      "source": [
        "X = numpy.random.random((N, nfeat))\n",
        "y = numpy.empty((N, 50))\n",
        "for i in range(y.shape[1]):\n",
        "    y[:, i] = X.sum(axis=1) + numpy.random.random(N)\n",
        "X.shape, y.shape"
      ]
    },
    {
      "cell_type": "code",
      "execution_count": 4,
      "metadata": {},
      "outputs": [],
      "source": [
        "from sklearn.model_selection import train_test_split\n",
        "X_train, X_test, y_train, y_test = train_test_split(X, y, train_size=0.1)"
      ]
    },
    {
      "cell_type": "code",
      "execution_count": 5,
      "metadata": {},
      "outputs": [
        {
          "data": {
            "text/plain": [
              "LinearRegression(copy_X=True, fit_intercept=True, n_jobs=None, normalize=False)"
            ]
          },
          "execution_count": 6,
          "metadata": {},
          "output_type": "execute_result"
        }
      ],
      "source": [
        "from sklearn.linear_model import LinearRegression\n",
        "clr = LinearRegression()\n",
        "clr.fit(X_train, y_train)"
      ]
    },
    {
      "cell_type": "code",
      "execution_count": 6,
      "metadata": {},
      "outputs": [],
      "source": [
        "from mlprodict.onnx_conv import to_onnx\n",
        "from mlprodict.onnxrt import OnnxInference\n",
        "clr_onnx = to_onnx(clr, X_train[:1])\n",
        "oinfpy = OnnxInference(clr_onnx, runtime='python')"
      ]
    },
    {
      "cell_type": "markdown",
      "metadata": {},
      "source": [
        "Let's minimize the cost of verifications on scikit-learn's side."
      ]
    },
    {
      "cell_type": "code",
      "execution_count": 7,
      "metadata": {},
      "outputs": [],
      "source": [
        "from sklearn import set_config\n",
        "set_config(assume_finite=True)"
      ]
    },
    {
      "cell_type": "markdown",
      "metadata": {},
      "source": [
        "## Profiling the prediction function"
      ]
    },
    {
      "cell_type": "code",
      "execution_count": 8,
      "metadata": {},
      "outputs": [
        {
          "name": "stdout",
          "output_type": "stream",
          "text": [
            "\n",
            "  _     ._   __/__   _ _  _  _ _/_   Recorded: 17:32:16  Samples:  3\n",
            " /_//_/// /_\\ / //_// / //_'/ //     Duration: 0.305     CPU time: 0.594\n",
            "/   _/                      v3.0.1\n",
            "\n",
            "Program: c:\\python372_x64\\lib\\site-packages\\ipykernel_launcher.py -f C:\\Users\\xavie\\AppData\\Roaming\\jupyter\\runtime\\kernel-5c4ae00c-a016-41c8-b772-549a92da3b1f.json\n",
            "\n",
            "0.306 profile  pyquickhelper\\pycode\\profiling.py:49\n",
            "|- 0.295 <lambda>  <ipython-input-8-1097e70fe6c7>:2\n",
            "|  `- 0.295 predict  sklearn\\linear_model\\_base.py:222\n",
            "|     `- 0.295 _decision_function  sklearn\\linear_model\\_base.py:215\n",
            "|        |- 0.201 safe_sparse_dot  sklearn\\utils\\extmath.py:118\n",
            "|        `- 0.094 [self]  \n",
            "`- 0.011 [self]  \n",
            "\n",
            "\n"
          ]
        }
      ],
      "source": [
        "from pyquickhelper.pycode.profiling import profile\n",
        "print(profile(lambda: clr.predict(X_test), \n",
        "              pyinst_format='text')[1])"
      ]
    },
    {
      "cell_type": "code",
      "execution_count": 9,
      "metadata": {
        "scrolled": false
      },
      "outputs": [
        {
          "name": "stdout",
          "output_type": "stream",
          "text": [
            "\n",
            "  _     ._   __/__   _ _  _  _ _/_   Recorded: 17:32:17  Samples:  5\n",
            " /_//_/// /_\\ / //_// / //_'/ //     Duration: 0.276     CPU time: 0.438\n",
            "/   _/                      v3.0.1\n",
            "\n",
            "Program: c:\\python372_x64\\lib\\site-packages\\ipykernel_launcher.py -f C:\\Users\\xavie\\AppData\\Roaming\\jupyter\\runtime\\kernel-5c4ae00c-a016-41c8-b772-549a92da3b1f.json\n",
            "\n",
            "0.277 profile  pyquickhelper\\pycode\\profiling.py:49\n",
            "|- 0.272 <lambda>  <ipython-input-9-da4aa05db7ed>:6\n",
            "|  |- 0.157 nastype32  <ipython-input-9-da4aa05db7ed>:3\n",
            "|  |- 0.096 run  mlprodict\\onnxrt\\onnx_inference.py:411\n",
            "|  |  `- 0.096 _run_sequence_runtime  mlprodict\\onnxrt\\onnx_inference.py:490\n",
            "|  |     `- 0.096 run  mlprodict\\onnxrt\\onnx_inference_node.py:136\n",
            "|  |        `- 0.096 run  mlprodict\\onnxrt\\ops_cpu\\_op.py:365\n",
            "|  |           `- 0.096 run  mlprodict\\onnxrt\\ops_cpu\\_op.py:285\n",
            "|  |              `- 0.096 _run  mlprodict\\onnxrt\\ops_cpu\\op_linear_regressor.py:27\n",
            "|  |                 |- 0.083 numpy_dot_inplace  mlprodict\\onnxrt\\ops_cpu\\_op_numpy_helper.py:8\n",
            "|  |                 |  `- 0.083 dot  <__array_function__ internals>:2\n",
            "|  |                 `- 0.013 [self]  \n",
            "|  `- 0.019 [self]  \n",
            "`- 0.005 [self]  \n",
            "\n",
            "\n"
          ]
        }
      ],
      "source": [
        "import numpy\n",
        "\n",
        "def nastype32(mat):\n",
        "    return mat.astype(numpy.float32)\n",
        "\n",
        "print(profile(lambda: oinfpy.run({'X': nastype32(X_test)}), \n",
        "              pyinst_format='text')[1])"
      ]
    },
    {
      "cell_type": "markdown",
      "metadata": {},
      "source": [
        "Most of the time is taken out into casting into float. Let's take it out."
      ]
    },
    {
      "cell_type": "code",
      "execution_count": 10,
      "metadata": {},
      "outputs": [
        {
          "name": "stdout",
          "output_type": "stream",
          "text": [
            "\n",
            "  _     ._   __/__   _ _  _  _ _/_   Recorded: 17:32:17  Samples:  3\n",
            " /_//_/// /_\\ / //_// / //_'/ //     Duration: 0.111     CPU time: 0.203\n",
            "/   _/                      v3.0.1\n",
            "\n",
            "Program: c:\\python372_x64\\lib\\site-packages\\ipykernel_launcher.py -f C:\\Users\\xavie\\AppData\\Roaming\\jupyter\\runtime\\kernel-5c4ae00c-a016-41c8-b772-549a92da3b1f.json\n",
            "\n",
            "0.110 profile  pyquickhelper\\pycode\\profiling.py:49\n",
            "|- 0.105 <lambda>  <ipython-input-10-fe055596e921>:3\n",
            "|  `- 0.105 run  mlprodict\\onnxrt\\onnx_inference.py:411\n",
            "|     `- 0.105 _run_sequence_runtime  mlprodict\\onnxrt\\onnx_inference.py:490\n",
            "|        `- 0.105 run  mlprodict\\onnxrt\\onnx_inference_node.py:136\n",
            "|           `- 0.105 run  mlprodict\\onnxrt\\ops_cpu\\_op.py:365\n",
            "|              `- 0.105 run  mlprodict\\onnxrt\\ops_cpu\\_op.py:285\n",
            "|                 `- 0.105 _run  mlprodict\\onnxrt\\ops_cpu\\op_linear_regressor.py:27\n",
            "|                    |- 0.094 numpy_dot_inplace  mlprodict\\onnxrt\\ops_cpu\\_op_numpy_helper.py:8\n",
            "|                    |  `- 0.094 dot  <__array_function__ internals>:2\n",
            "|                    `- 0.011 [self]  \n",
            "`- 0.005 [self]  \n",
            "\n",
            "\n"
          ]
        }
      ],
      "source": [
        "X_test32 = X_test.astype(numpy.float32)\n",
        "\n",
        "print(profile(lambda: oinfpy.run({'X': X_test32}), \n",
        "              pyinst_format='text')[1])"
      ]
    },
    {
      "cell_type": "markdown",
      "metadata": {},
      "source": [
        "Much better."
      ]
    },
    {
      "cell_type": "markdown",
      "metadata": {},
      "source": [
        "## SGDClasifier\n",
        "\n",
        "This models is implemented with many ONNX nodes. Let's how it behaves."
      ]
    },
    {
      "cell_type": "code",
      "execution_count": 11,
      "metadata": {},
      "outputs": [
        {
          "data": {
            "text/plain": [
              "SGDClassifier(alpha=0.0001, average=False, class_weight=None,\n",
              "              early_stopping=False, epsilon=0.1, eta0=0.0, fit_intercept=True,\n",
              "              l1_ratio=0.15, learning_rate='optimal', loss='hinge',\n",
              "              max_iter=1000, n_iter_no_change=5, n_jobs=None, penalty='l2',\n",
              "              power_t=0.5, random_state=None, shuffle=True, tol=0.001,\n",
              "              validation_fraction=0.1, verbose=0, warm_start=False)"
            ]
          },
          "execution_count": 12,
          "metadata": {},
          "output_type": "execute_result"
        }
      ],
      "source": [
        "from sklearn.linear_model import SGDClassifier\n",
        "from sklearn.datasets import load_iris\n",
        "data = load_iris()\n",
        "Xir, yir = data.data, data.target\n",
        "Xir_train, Xir_test, yir_train, yir_test = train_test_split(Xir, yir)\n",
        "sgcl = SGDClassifier()\n",
        "sgcl.fit(Xir_train, yir_train)"
      ]
    },
    {
      "cell_type": "code",
      "execution_count": 12,
      "metadata": {},
      "outputs": [],
      "source": [
        "sgd_onnx = to_onnx(sgcl, Xir_train.astype(numpy.float32))"
      ]
    },
    {
      "cell_type": "code",
      "execution_count": 13,
      "metadata": {},
      "outputs": [],
      "source": [
        "%load_ext mlprodict"
      ]
    },
    {
      "cell_type": "code",
      "execution_count": 14,
      "metadata": {},
      "outputs": [
        {
          "data": {
            "text/html": [
              "<div id=\"Mf1372f4a7a164130a8c3d3375720166c-cont\"><div id=\"Mf1372f4a7a164130a8c3d3375720166c\" style=\"width:100%;height:100%;\"></div></div>\n",
              "<script>\n",
              "\n",
              "require(['http://www.xavierdupre.fr/js/vizjs/viz.js'], function() { var svgGraph = Viz(\"digraph{\\n  ranksep=0.25;\\n  orientation=portrait;\\n  nodesep=0.05;\\n\\n  X [shape=box color=red label=\\\"X\\nfloat((0, 4))\\\" fontsize=10];\\n\\n  output_label [shape=box color=green label=\\\"output_label\\nint64((0,))\\\" fontsize=10];\\n  output_probability [shape=box color=green label=\\\"output_probability\\n[{int64, {'kind': 'tensor', 'elem': 'float', 'shape': }}]\\\" fontsize=10];\\n\\n  classes [shape=box label=\\\"classes\\nint32((3,))\\n[0 1 2]\\\" fontsize=10];\\n  coef [shape=box label=\\\"coef\\nfloat32((4, 3))\\n[[  17.947279   55.31749  -119.18705 ]\\n [  57.2069...\\\" fontsize=10];\\n  intercept [shape=box label=\\\"intercept\\nfloat32((3,))\\n[  19.371542   66.59275  -114.481766]\\\" fontsize=10];\\n  shape_tensor [shape=box label=\\\"shape_tensor\\nint64((1,))\\n[-1]\\\" fontsize=10];\\n\\n  matmul_result [shape=box label=\\\"matmul_result\\\" fontsize=10];\\n  MatMul [shape=box style=\\\"filled,rounded\\\" color=orange label=\\\"MatMul\\n(MatMul)\\\" fontsize=10];\\n  X -> MatMul;\\n  coef -> MatMul;\\n  MatMul -> matmul_result;\\n\\n  score [shape=box label=\\\"score\\\" fontsize=10];\\n  Add [shape=box style=\\\"filled,rounded\\\" color=orange label=\\\"Add\\n(Add)\\\" fontsize=10];\\n  matmul_result -> Add;\\n  intercept -> Add;\\n  Add -> score;\\n\\n  probabilities [shape=box label=\\\"probabilities\\\" fontsize=10];\\n  Identity [shape=box style=\\\"filled,rounded\\\" color=orange label=\\\"Identity\\n(Identity)\\\" fontsize=10];\\n  score -> Identity;\\n  Identity -> probabilities;\\n\\n  predicted_label [shape=box label=\\\"predicted_label\\\" fontsize=10];\\n  ArgMax [shape=box style=\\\"filled,rounded\\\" color=orange label=\\\"ArgMax\\n(ArgMax)\\naxis=1\\\" fontsize=10];\\n  probabilities -> ArgMax;\\n  ArgMax -> predicted_label;\\n\\n  final_label [shape=box label=\\\"final_label\\\" fontsize=10];\\n  ArrayFeatureExtractor [shape=box style=\\\"filled,rounded\\\" color=orange label=\\\"ArrayFeatureExtractor\\n(ArrayFeatureExtractor)\\\" fontsize=10];\\n  classes -> ArrayFeatureExtractor;\\n  predicted_label -> ArrayFeatureExtractor;\\n  ArrayFeatureExtractor -> final_label;\\n\\n  reshaped_final_label [shape=box label=\\\"reshaped_final_label\\\" fontsize=10];\\n  Reshape [shape=box style=\\\"filled,rounded\\\" color=orange label=\\\"Reshape\\n(Reshape)\\\" fontsize=10];\\n  final_label -> Reshape;\\n  shape_tensor -> Reshape;\\n  Reshape -> reshaped_final_label;\\n\\n  label [shape=box label=\\\"label\\\" fontsize=10];\\n  Cast [shape=box style=\\\"filled,rounded\\\" color=orange label=\\\"Cast\\n(Cast)\\nto=7\\\" fontsize=10];\\n  reshaped_final_label -> Cast;\\n  Cast -> label;\\n\\n  Cast1 [shape=box style=\\\"filled,rounded\\\" color=orange label=\\\"Cast\\n(Cast1)\\nto=7\\\" fontsize=10];\\n  label -> Cast1;\\n  Cast1 -> output_label;\\n\\n  ZipMap [shape=box style=\\\"filled,rounded\\\" color=orange label=\\\"ZipMap\\n(ZipMap)\\nclasslabels_int64s=[0 1 2]\\\" fontsize=10];\\n  probabilities -> ZipMap;\\n  ZipMap -> output_probability;\\n}\");\n",
              "document.getElementById('Mf1372f4a7a164130a8c3d3375720166c').innerHTML = svgGraph; });\n",
              "\n",
              "</script>"
            ],
            "text/plain": [
              "<jyquickhelper.jspy.render_nb_js_dot.RenderJsDot at 0x2bcfa20a048>"
            ]
          },
          "execution_count": 15,
          "metadata": {},
          "output_type": "execute_result"
        }
      ],
      "source": [
        "%onnxview sgd_onnx"
      ]
    },
    {
      "cell_type": "code",
      "execution_count": 15,
      "metadata": {},
      "outputs": [],
      "source": [
        "sgd_oinf = OnnxInference(sgd_onnx)"
      ]
    },
    {
      "cell_type": "code",
      "execution_count": 16,
      "metadata": {},
      "outputs": [
        {
          "data": {
            "text/plain": [
              "{'output_label': array([1], dtype=int64),\n",
              " 'output_probability': [{0: -105.19381, 1: -26.43415, 2: -174.7298}]}"
            ]
          },
          "execution_count": 17,
          "metadata": {},
          "output_type": "execute_result"
        }
      ],
      "source": [
        "def call_n_times_x1(n, X_test, sgd_oinf):\n",
        "    for i in range(n):\n",
        "        res = sgd_oinf.run({'X': X_test})\n",
        "    return res\n",
        "\n",
        "call_n_times_x1(20, Xir_test[:1].astype(numpy.float32), sgd_oinf)"
      ]
    },
    {
      "cell_type": "code",
      "execution_count": 17,
      "metadata": {},
      "outputs": [
        {
          "data": {
            "text/plain": [
              "array([[-105.19379786,  -26.43412984, -174.72978497]])"
            ]
          },
          "execution_count": 18,
          "metadata": {},
          "output_type": "execute_result"
        }
      ],
      "source": [
        "sgcl.decision_function(Xir_test[:1])"
      ]
    },
    {
      "cell_type": "code",
      "execution_count": 18,
      "metadata": {},
      "outputs": [
        {
          "name": "stdout",
          "output_type": "stream",
          "text": [
            "\n",
            "  _     ._   __/__   _ _  _  _ _/_   Recorded: 17:32:19  Samples:  1800\n",
            " /_//_/// /_\\ / //_// / //_'/ //     Duration: 2.908     CPU time: 2.469\n",
            "/   _/                      v3.0.1\n",
            "\n",
            "Program: c:\\python372_x64\\lib\\site-packages\\ipykernel_launcher.py -f C:\\Users\\xavie\\AppData\\Roaming\\jupyter\\runtime\\kernel-5c4ae00c-a016-41c8-b772-549a92da3b1f.json\n",
            "\n",
            "2.907 profile  pyquickhelper\\pycode\\profiling.py:49\n",
            "`- 2.907 <lambda>  <ipython-input-18-ec5a6181dc40>:3\n",
            "   `- 2.907 call_n_times_x1  <ipython-input-16-32f502ef162e>:1\n",
            "      |- 2.860 run  mlprodict\\onnxrt\\onnx_inference.py:411\n",
            "      |  |- 2.793 _run_sequence_runtime  mlprodict\\onnxrt\\onnx_inference.py:490\n",
            "      |  |  |- 2.547 run  mlprodict\\onnxrt\\onnx_inference_node.py:136\n",
            "      |  |  |  |- 0.850 [self]  \n",
            "      |  |  |  |- 0.668 run  mlprodict\\onnxrt\\ops_cpu\\_op.py:130\n",
            "      |  |  |  |  |- 0.415 _run  mlprodict\\onnxrt\\ops_cpu\\op_array_feature_extractor.py:59\n",
            "      |  |  |  |  |  |- 0.358 _array_feature_extrator  mlprodict\\onnxrt\\ops_cpu\\op_array_feature_extractor.py:17\n",
            "      |  |  |  |  |  `- 0.057 [self]  \n",
            "      |  |  |  |  |- 0.080 _run  mlprodict\\onnxrt\\ops_cpu\\op_cast.py:36\n",
            "      |  |  |  |  |  `- 0.064 _run_inplace  mlprodict\\onnxrt\\ops_cpu\\op_cast.py:41\n",
            "      |  |  |  |  |     |- 0.034 <lambda>  mlprodict\\onnxrt\\ops_cpu\\op_cast.py:34\n",
            "      |  |  |  |  |     `- 0.030 [self]  \n",
            "      |  |  |  |  |- 0.068 [self]  \n",
            "      |  |  |  |  |- 0.054 _run  mlprodict\\onnxrt\\ops_cpu\\op_zipmap.py:221\n",
            "      |  |  |  |  |  `- 0.040 __init__  mlprodict\\onnxrt\\ops_cpu\\op_zipmap.py:129\n",
            "      |  |  |  |  `- 0.052 _run  mlprodict\\onnxrt\\ops_cpu\\op_reshape.py:16\n",
            "      |  |  |  |- 0.542 run  mlprodict\\onnxrt\\ops_cpu\\_op.py:329\n",
            "      |  |  |  |  `- 0.525 run  mlprodict\\onnxrt\\ops_cpu\\_op.py:285\n",
            "      |  |  |  |     `- 0.520 _run  mlprodict\\onnxrt\\ops_cpu\\op_argmax.py:64\n",
            "      |  |  |  |        `- 0.508 _run  mlprodict\\onnxrt\\ops_cpu\\op_argmax.py:37\n",
            "      |  |  |  |           `- 0.491 _argmax  mlprodict\\onnxrt\\ops_cpu\\op_argmax.py:12\n",
            "      |  |  |  |              |- 0.288 expand_dims  <__array_function__ internals>:2\n",
            "      |  |  |  |              |  |- 0.252 expand_dims  numpy\\lib\\shape_base.py:512\n",
            "      |  |  |  |              |  |     [10 frames hidden]  numpy\n",
            "      |  |  |  |              |  `- 0.037 [self]  \n",
            "      |  |  |  |              |- 0.104 [self]  \n",
            "      |  |  |  |              `- 0.100 argmax  <__array_function__ internals>:2\n",
            "      |  |  |  |                 `- 0.076 argmax  numpy\\core\\fromnumeric.py:1112\n",
            "      |  |  |  |                       [4 frames hidden]  numpy\n",
            "      |  |  |  |- 0.376 run  mlprodict\\onnxrt\\ops_cpu\\_op.py:506\n",
            "      |  |  |  |  |- 0.342 run  mlprodict\\onnxrt\\ops_cpu\\_op.py:443\n",
            "      |  |  |  |  |  |- 0.188 _run  mlprodict\\onnxrt\\ops_cpu\\_op.py:539\n",
            "      |  |  |  |  |  |- 0.118 _run  mlprodict\\onnxrt\\ops_cpu\\op_matmul.py:16\n",
            "      |  |  |  |  |  |  `- 0.103 numpy_dot_inplace  mlprodict\\onnxrt\\ops_cpu\\_op_numpy_helper.py:8\n",
            "      |  |  |  |  |  |     `- 0.074 dot  <__array_function__ internals>:2\n",
            "      |  |  |  |  |  `- 0.035 [self]  \n",
            "      |  |  |  |  `- 0.034 [self]  \n",
            "      |  |  |  |- 0.073 <genexpr>  mlprodict\\onnxrt\\onnx_inference_node.py:148\n",
            "      |  |  |  `- 0.038 run  mlprodict\\onnxrt\\ops_cpu\\_op.py:365\n",
            "      |  |  |     `- 0.032 run  mlprodict\\onnxrt\\ops_cpu\\_op.py:285\n",
            "      |  |  `- 0.228 [self]  \n",
            "      |  `- 0.067 [self]  \n",
            "      `- 0.047 [self]  \n",
            "\n",
            "\n"
          ]
        }
      ],
      "source": [
        "xir_32 = Xir_test[:1].astype(numpy.float32)\n",
        "\n",
        "print(profile(lambda: call_n_times_x1(20000, xir_32, sgd_oinf), \n",
        "              pyinst_format='text')[1])"
      ]
    },
    {
      "cell_type": "markdown",
      "metadata": {},
      "source": [
        "The code in ``mlprodict/onnxrt/onnx_inference_node.py`` just calls an operator and updates the list containing all the results. The time in here is significant if the number of node is huge if the python runtime is used."
      ]
    },
    {
      "cell_type": "markdown",
      "metadata": {},
      "source": [
        "## Memory profiling"
      ]
    },
    {
      "cell_type": "code",
      "execution_count": 19,
      "metadata": {},
      "outputs": [],
      "source": [
        "%matplotlib inline"
      ]
    },
    {
      "cell_type": "code",
      "execution_count": 20,
      "metadata": {},
      "outputs": [],
      "source": [
        "from memory_profiler import memory_usage\n",
        "memprof_skl = memory_usage((clr.predict, (X_test, )), timestamps=True, interval=0.01)"
      ]
    },
    {
      "cell_type": "code",
      "execution_count": 21,
      "metadata": {},
      "outputs": [
        {
          "data": {
            "text/plain": [
              "[(1522.69921875, 1588779143.7355406),\n",
              " (1522.50390625, 1588779154.4229498),\n",
              " (1509.82421875, 1588779154.4339223),\n",
              " (1495.03515625, 1588779154.444888),\n",
              " (1479.4453125, 1588779154.4558592),\n",
              " (1464.78515625, 1588779154.4668288),\n",
              " (1452.02734375, 1588779154.4777994),\n",
              " (1441.28515625, 1588779154.4887717),\n",
              " (1427.66015625, 1588779154.4997416),\n",
              " (1414.4609375, 1588779154.5107129),\n",
              " (1396.76171875, 1588779154.521683),\n",
              " (1381.37109375, 1588779154.532653),\n",
              " (1377.53515625, 1588779154.5496078),\n",
              " (1374.83203125, 1588779154.5695539),\n",
              " (1364.3984375, 1588779154.5805242),\n",
              " (1349.95703125, 1588779154.5914948),\n",
              " (1334.51953125, 1588779154.602466),\n",
              " (1319.44921875, 1588779154.6164305),\n",
              " (1307.64453125, 1588779154.6283967),\n",
              " (1293.1640625, 1588779154.6393676),\n",
              " (1277.515625, 1588779154.650338),\n",
              " (1262.125, 1588779154.661309),\n",
              " (1248.11328125, 1588779154.6722806),\n",
              " (1231.4765625, 1588779154.6832507),\n",
              " (1218.5625, 1588779154.69422),\n",
              " (1199.4453125, 1588779154.7051919),\n",
              " (1181.4140625, 1588779154.716162),\n",
              " (1165.24609375, 1588779154.727132),\n",
              " (1150.58203125, 1588779154.7381039),\n",
              " (1144.5078125, 1588779154.7490735),\n",
              " (1132.50390625, 1588779154.7600443),\n",
              " (1119.7421875, 1588779154.771015),\n",
              " (1106.859375, 1588779154.7819853),\n",
              " (1095.01953125, 1588779154.7929559),\n",
              " (1084.4296875, 1588779154.8039267),\n",
              " (1071.76171875, 1588779154.8148968),\n",
              " (1078.8984375, 1588779154.8258686),\n",
              " (1090.0625, 1588779154.8368385),\n",
              " (1099.38671875, 1588779154.8478096),\n",
              " (1109.1171875, 1588779154.8587818),\n",
              " (1119.0546875, 1588779154.8697507),\n",
              " (1126.4453125, 1588779154.8817186),\n",
              " (1136.328125, 1588779154.89269),\n",
              " (1144.71875, 1588779154.9036596),\n",
              " (1045.9921875, 1588779154.914631),\n",
              " (1045.9921875, 1588779154.9256022),\n",
              " (1046.01953125, 1588779154.927596)]"
            ]
          },
          "execution_count": 22,
          "metadata": {},
          "output_type": "execute_result"
        }
      ],
      "source": [
        "memprof_skl"
      ]
    },
    {
      "cell_type": "code",
      "execution_count": 22,
      "metadata": {},
      "outputs": [
        {
          "data": {
            "image/png": "[encoded data removed]",
            "text/plain": [
              "<Figure size 288x288 with 1 Axes>"
            ]
          },
          "metadata": {
            "needs_background": "light"
          },
          "output_type": "display_data"
        }
      ],
      "source": [
        "import matplotlib.pyplot as plt\n",
        "from pandas import DataFrame, to_datetime\n",
        "\n",
        "def mem_profile_plot(mem, title):\n",
        "    fig, ax = plt.subplots(1, 1, figsize=(4, 4))\n",
        "    df = DataFrame(mem, columns=[\"memory\", \"timestamp\"])\n",
        "    df[\"timestamp\"] = to_datetime(df.timestamp)\n",
        "    df[\"timestamp\"] -= df.timestamp.min()\n",
        "    df.set_index(\"timestamp\").plot(ax=ax)\n",
        "    ax.set_title(title + \"\\nmemory usage\")\n",
        "    return ax\n",
        "\n",
        "mem_profile_plot(memprof_skl, \"clr.predict\");"
      ]
    },
    {
      "cell_type": "code",
      "execution_count": 23,
      "metadata": {},
      "outputs": [
        {
          "data": {
            "image/png": "[encoded data removed]",
            "text/plain": [
              "<Figure size 288x288 with 1 Axes>"
            ]
          },
          "metadata": {
            "needs_background": "light"
          },
          "output_type": "display_data"
        }
      ],
      "source": [
        "memprof_onx = memory_usage((oinfpy.run, ({'X': X_test32}, )), timestamps=True, interval=0.01)\n",
        "mem_profile_plot(memprof_onx, \"oinfpy.run\");"
      ]
    },
    {
      "cell_type": "code",
      "execution_count": 24,
      "metadata": {},
      "outputs": [
        {
          "data": {
            "image/png": "[encoded data removed]",
            "text/plain": [
              "<Figure size 288x288 with 1 Axes>"
            ]
          },
          "metadata": {
            "needs_background": "light"
          },
          "output_type": "display_data"
        }
      ],
      "source": [
        "memprof_onx2 = memory_usage((oinfpy.run, ({'X': X_test.astype(numpy.float32, copy=False)}, )),\n",
        "                           timestamps=True, interval=0.01)\n",
        "mem_profile_plot(memprof_onx2, \"oinfpy.run + astype(numpy.float32)\");"
      ]
    },
    {
      "cell_type": "markdown",
      "metadata": {},
      "source": [
        "This is not very informative."
      ]
    },
    {
      "cell_type": "markdown",
      "metadata": {},
      "source": [
        "## Memory profiling outside the notebook\n",
        "\n",
        "More precise."
      ]
    },
    {
      "cell_type": "code",
      "execution_count": 25,
      "metadata": {},
      "outputs": [
        {
          "name": "stdout",
          "output_type": "stream",
          "text": [
            "Overwriting mprof_clr_predict.py\n"
          ]
        }
      ],
      "source": [
        "%%writefile mprof_clr_predict.py\n",
        "\n",
        "import numpy\n",
        "N, nfeat = 300000, 200\n",
        "X = numpy.random.random((N, nfeat))\n",
        "y = numpy.empty((N, 50))\n",
        "for i in range(y.shape[1]):\n",
        "    y[:, i] = X.sum(axis=1) + numpy.random.random(N)\n",
        "    \n",
        "from sklearn.model_selection import train_test_split\n",
        "X_train, X_test, y_train, y_test = train_test_split(X, y, train_size=0.1)   \n",
        "\n",
        "from sklearn.linear_model import LinearRegression\n",
        "clr = LinearRegression()\n",
        "clr.fit(X_train, y_train)\n",
        "\n",
        "from sklearn import set_config\n",
        "set_config(assume_finite=True)    \n",
        "\n",
        "from memory_profiler import profile\n",
        "@profile\n",
        "def clr_predict():\n",
        "    clr.predict(X_test)\n",
        "    \n",
        "clr_predict()"
      ]
    },
    {
      "cell_type": "code",
      "execution_count": 26,
      "metadata": {},
      "outputs": [
        {
          "name": "stdout",
          "output_type": "stream",
          "text": [
            "Filename: mprof_clr_predict.py\n",
            "\n",
            "Line #    Mem usage    Increment   Line Contents\n",
            "================================================\n"
          ]
        }
      ],
      "source": [
        "!python -m memory_profiler mprof_clr_predict.py --timestamp"
      ]
    },
    {
      "cell_type": "markdown",
      "metadata": {},
      "source": [
        "The notebook seems to increase the memory usage."
      ]
    },
    {
      "cell_type": "code",
      "execution_count": 27,
      "metadata": {},
      "outputs": [
        {
          "name": "stdout",
          "output_type": "stream",
          "text": [
            "    20   1148.4 MiB   1148.4 MiB   @profile\n",
            "Overwriting mprof_onnx_run.py    21                             def clr_predict():\n",
            "    22   1140.4 MiB      0.0 MiB       clr.predict(X_test)\n",
            "\n",
            "\n",
            "\n"
          ]
        }
      ],
      "source": [
        "%%writefile mprof_onnx_run.py\n",
        "\n",
        "import numpy\n",
        "N, nfeat = 300000, 200\n",
        "X = numpy.random.random((N, nfeat))\n",
        "y = numpy.empty((N, 50))\n",
        "for i in range(y.shape[1]):\n",
        "    y[:, i] = X.sum(axis=1) + numpy.random.random(N)\n",
        "    \n",
        "from sklearn.model_selection import train_test_split\n",
        "X_train, X_test, y_train, y_test = train_test_split(X, y, train_size=0.1)   \n",
        "\n",
        "from sklearn.linear_model import LinearRegression\n",
        "clr = LinearRegression()\n",
        "clr.fit(X_train, y_train)\n",
        "\n",
        "from mlprodict.onnx_conv import to_onnx\n",
        "from mlprodict.onnxrt import OnnxInference\n",
        "clr_onnx = to_onnx(clr, X_train[:1])\n",
        "oinfpy = OnnxInference(clr_onnx, runtime='python')\n",
        "X_test32 = X_test.astype(numpy.float32)\n",
        "\n",
        "from sklearn import set_config\n",
        "set_config(assume_finite=True)    \n",
        "\n",
        "from memory_profiler import profile\n",
        "@profile\n",
        "def oinfpy_predict():\n",
        "    oinfpy.run({'X': X_test32})\n",
        "    \n",
        "oinfpy_predict()"
      ]
    },
    {
      "cell_type": "code",
      "execution_count": 28,
      "metadata": {},
      "outputs": [
        {
          "name": "stdout",
          "output_type": "stream",
          "text": [
            "Filename: mprof_onnx_run.py\n",
            "\n",
            "Line #    Mem usage    Increment   Line Contents\n",
            "================================================\n",
            "    26   1504.5 MiB   1504.5 MiB   @profile\n",
            "    27                             def oinfpy_predict():\n",
            "    28   1505.8 MiB      1.3 MiB       oinfpy.run({'X': X_test32})\n",
            "\n",
            "\n"
          ]
        }
      ],
      "source": [
        "!python -m memory_profiler mprof_onnx_run.py --timestamp"
      ]
    },
    {
      "cell_type": "code",
      "execution_count": 29,
      "metadata": {},
      "outputs": [
        {
          "name": "stdout",
          "output_type": "stream",
          "text": [
            "Overwriting mprof_onnx_run32.py\n"
          ]
        }
      ],
      "source": [
        "%%writefile mprof_onnx_run32.py\n",
        "\n",
        "import numpy\n",
        "N, nfeat = 300000, 200\n",
        "X = numpy.random.random((N, nfeat))\n",
        "y = numpy.empty((N, 50))\n",
        "for i in range(y.shape[1]):\n",
        "    y[:, i] = X.sum(axis=1) + numpy.random.random(N)\n",
        "    \n",
        "from sklearn.model_selection import train_test_split\n",
        "X_train, X_test, y_train, y_test = train_test_split(X, y, train_size=0.1)   \n",
        "\n",
        "from sklearn.linear_model import LinearRegression\n",
        "clr = LinearRegression()\n",
        "clr.fit(X_train, y_train)\n",
        "\n",
        "from mlprodict.onnx_conv import to_onnx\n",
        "from mlprodict.onnxrt import OnnxInference\n",
        "clr_onnx = to_onnx(clr, X_train[:1])\n",
        "oinfpy = OnnxInference(clr_onnx, runtime='python')\n",
        "\n",
        "from sklearn import set_config\n",
        "set_config(assume_finite=True)    \n",
        "\n",
        "from memory_profiler import profile\n",
        "@profile\n",
        "def oinfpy_predict32():\n",
        "    oinfpy.run({'X': X_test.astype(numpy.float32)})\n",
        "    \n",
        "oinfpy_predict32()"
      ]
    },
    {
      "cell_type": "code",
      "execution_count": 30,
      "metadata": {},
      "outputs": [
        {
          "name": "stdout",
          "output_type": "stream",
          "text": [
            "Filename: mprof_onnx_run32.py\n",
            "\n",
            "Line #    Mem usage    Increment   Line Contents\n",
            "================================================\n",
            "    25   1298.2 MiB   1298.2 MiB   @profile\n",
            "    26                             def oinfpy_predict32():\n",
            "    27   1299.5 MiB      1.3 MiB       oinfpy.run({'X': X_test.astype(numpy.float32)})\n",
            "\n",
            "\n"
          ]
        }
      ],
      "source": [
        "!python -m memory_profiler mprof_onnx_run32.py --timestamp"
      ]
    },
    {
      "cell_type": "code",
      "execution_count": 31,
      "metadata": {},
      "outputs": [],
      "source": []
    }
  ],
  "metadata": {
    "kernelspec": {
      "display_name": "Python 3",
      "language": "python",
      "name": "python3"
    },
    "language_info": {
      "codemirror_mode": {
        "name": "ipython",
        "version": 3
      },
      "file_extension": ".py",
      "mimetype": "text/x-python",
      "name": "python",
      "nbconvert_exporter": "python",
      "pygments_lexer": "ipython3",
      "version": "3.7.2"
    }
  },
  "nbformat": 4,
  "nbformat_minor": 2
}