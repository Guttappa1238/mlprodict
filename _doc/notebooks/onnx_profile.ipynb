{
  "cells": [
    {
      "cell_type": "markdown",
      "metadata": {},
      "source": [
        "# Memory usage\n",
        "\n",
        "The [first benchmark](http://www.xavierdupre.fr/app/_benchmarks/helpsphinx/sklbench_results/index.html) based on [scikti-learn's benchmark](https://github.com/jeremiedbb/scikit-learn_benchmarks) shows high peaks of memory usage for the python runtime on linear models. Let's see how to measure that."
      ]
    },
    {
      "cell_type": "code",
      "execution_count": 1,
      "metadata": {},
      "outputs": [
        {
          "data": {
            "text/html": [
              "<div id=\"my_id_menu_nb\">run previous cell, wait for 2 seconds</div>\n",
              "<script>\n",
              "function repeat_indent_string(n){\n",
              "    var a = \"\" ;\n",
              "    for ( ; n > 0 ; --n)\n",
              "        a += \"    \";\n",
              "    return a;\n",
              "}\n",
              "// look up into all sections and builds an automated menu //\n",
              "var update_menu_string = function(begin, lfirst, llast, sformat, send, keep_item, begin_format, end_format) {\n",
              "    var anchors = document.getElementsByClassName(\"section\");\n",
              "    if (anchors.length == 0) {\n",
              "        anchors = document.getElementsByClassName(\"text_cell_render rendered_html\");\n",
              "    }\n",
              "    var i,t;\n",
              "    var text_menu = begin;\n",
              "    var text_memo = \"<pre>\\nlength:\" + anchors.length + \"\\n\";\n",
              "    var ind = \"\";\n",
              "    var memo_level = 1;\n",
              "    var href;\n",
              "    var tags = [];\n",
              "    var main_item = 0;\n",
              "    var format_open = 0;\n",
              "    for (i = 0; i <= llast; i++)\n",
              "        tags.push(\"h\" + i);\n",
              "\n",
              "    for (i = 0; i < anchors.length; i++) {\n",
              "        text_memo += \"**\" + anchors[i].id + \"--\\n\";\n",
              "\n",
              "        var child = null;\n",
              "        for(t = 0; t < tags.length; t++) {\n",
              "            var r = anchors[i].getElementsByTagName(tags[t]);\n",
              "            if (r.length > 0) {\n",
              "child = r[0];\n",
              "break;\n",
              "            }\n",
              "        }\n",
              "        if (child == null) {\n",
              "            text_memo += \"null\\n\";\n",
              "            continue;\n",
              "        }\n",
              "        if (anchors[i].hasAttribute(\"id\")) {\n",
              "            // when converted in RST\n",
              "            href = anchors[i].id;\n",
              "            text_memo += \"#1-\" + href;\n",
              "            // passer \u00e0 child suivant (le chercher)\n",
              "        }\n",
              "        else if (child.hasAttribute(\"id\")) {\n",
              "            // in a notebook\n",
              "            href = child.id;\n",
              "            text_memo += \"#2-\" + href;\n",
              "        }\n",
              "        else {\n",
              "            text_memo += \"#3-\" + \"*\" + \"\\n\";\n",
              "            continue;\n",
              "        }\n",
              "        var title = child.textContent;\n",
              "        var level = parseInt(child.tagName.substring(1,2));\n",
              "\n",
              "        text_memo += \"--\" + level + \"?\" + lfirst + \"--\" + title + \"\\n\";\n",
              "\n",
              "        if ((level < lfirst) || (level > llast)) {\n",
              "            continue ;\n",
              "        }\n",
              "        if (title.endsWith('\u00b6')) {\n",
              "            title = title.substring(0,title.length-1).replace(\"<\", \"&lt;\")\n",
              "         .replace(\">\", \"&gt;\").replace(\"&\", \"&amp;\");\n",
              "        }\n",
              "        if (title.length == 0) {\n",
              "            continue;\n",
              "        }\n",
              "\n",
              "        while (level < memo_level) {\n",
              "            text_menu += end_format + \"</ul>\\n\";\n",
              "            format_open -= 1;\n",
              "            memo_level -= 1;\n",
              "        }\n",
              "        if (level == lfirst) {\n",
              "            main_item += 1;\n",
              "        }\n",
              "        if (keep_item != -1 && main_item != keep_item + 1) {\n",
              "            // alert(main_item + \" - \" + level + \" - \" + keep_item);\n",
              "            continue;\n",
              "        }\n",
              "        while (level > memo_level) {\n",
              "            text_menu += \"<ul>\\n\";\n",
              "            memo_level += 1;\n",
              "        }\n",
              "        text_menu += repeat_indent_string(level-2);\n",
              "        text_menu += begin_format + sformat.replace(\"__HREF__\", href).replace(\"__TITLE__\", title);\n",
              "        format_open += 1;\n",
              "    }\n",
              "    while (1 < memo_level) {\n",
              "        text_menu += end_format + \"</ul>\\n\";\n",
              "        memo_level -= 1;\n",
              "        format_open -= 1;\n",
              "    }\n",
              "    text_menu += send;\n",
              "    //text_menu += \"\\n\" + text_memo;\n",
              "\n",
              "    while (format_open > 0) {\n",
              "        text_menu += end_format;\n",
              "        format_open -= 1;\n",
              "    }\n",
              "    return text_menu;\n",
              "};\n",
              "var update_menu = function() {\n",
              "    var sbegin = \"\";\n",
              "    var sformat = '<a href=\"#__HREF__\">__TITLE__</a>';\n",
              "    var send = \"\";\n",
              "    var begin_format = '<li>';\n",
              "    var end_format = '</li>';\n",
              "    var keep_item = -1;\n",
              "    var text_menu = update_menu_string(sbegin, 2, 4, sformat, send, keep_item,\n",
              "       begin_format, end_format);\n",
              "    var menu = document.getElementById(\"my_id_menu_nb\");\n",
              "    menu.innerHTML=text_menu;\n",
              "};\n",
              "window.setTimeout(update_menu,2000);\n",
              "            </script>"
            ],
            "text/plain": [
              "<IPython.core.display.HTML object>"
            ]
          },
          "execution_count": 2,
          "metadata": {},
          "output_type": "execute_result"
        }
      ],
      "source": [
        "from jyquickhelper import add_notebook_menu\n",
        "add_notebook_menu()"
      ]
    },
    {
      "cell_type": "markdown",
      "metadata": {},
      "source": [
        "## Artificial huge data "
      ]
    },
    {
      "cell_type": "code",
      "execution_count": 2,
      "metadata": {},
      "outputs": [
        {
          "data": {
            "text/plain": [
              "0.48"
            ]
          },
          "execution_count": 3,
          "metadata": {},
          "output_type": "execute_result"
        }
      ],
      "source": [
        "import numpy\n",
        "N, nfeat = 300000, 200\n",
        "N * nfeat * 8 / 1e9"
      ]
    },
    {
      "cell_type": "code",
      "execution_count": 3,
      "metadata": {},
      "outputs": [
        {
          "data": {
            "text/plain": [
              "((300000, 200), (300000, 50))"
            ]
          },
          "execution_count": 4,
          "metadata": {},
          "output_type": "execute_result"
        }
      ],
      "source": [
        "X = numpy.random.random((N, nfeat))\n",
        "y = numpy.empty((N, 50))\n",
        "for i in range(y.shape[1]):\n",
        "    y[:, i] = X.sum(axis=1) + numpy.random.random(N)\n",
        "X.shape, y.shape"
      ]
    },
    {
      "cell_type": "code",
      "execution_count": 4,
      "metadata": {},
      "outputs": [],
      "source": [
        "from sklearn.model_selection import train_test_split\n",
        "X_train, X_test, y_train, y_test = train_test_split(X, y, train_size=0.1)"
      ]
    },
    {
      "cell_type": "code",
      "execution_count": 5,
      "metadata": {},
      "outputs": [
        {
          "data": {
            "text/plain": [
              "LinearRegression(copy_X=True, fit_intercept=True, n_jobs=None, normalize=False)"
            ]
          },
          "execution_count": 6,
          "metadata": {},
          "output_type": "execute_result"
        }
      ],
      "source": [
        "from sklearn.linear_model import LinearRegression\n",
        "clr = LinearRegression()\n",
        "clr.fit(X_train, y_train)"
      ]
    },
    {
      "cell_type": "code",
      "execution_count": 6,
      "metadata": {},
      "outputs": [
        {
          "name": "stderr",
          "output_type": "stream",
          "text": [
            "The maximum opset needed by this model is only 1.\n"
          ]
        }
      ],
      "source": [
        "from mlprodict.onnxrt import to_onnx, OnnxInference\n",
        "clr_onnx = to_onnx(clr, X_train[:1])\n",
        "oinfpy = OnnxInference(clr_onnx, runtime='python')"
      ]
    },
    {
      "cell_type": "markdown",
      "metadata": {},
      "source": [
        "Let's minimize the cost of verifications on scikit-learn's side."
      ]
    },
    {
      "cell_type": "code",
      "execution_count": 7,
      "metadata": {},
      "outputs": [],
      "source": [
        "from sklearn import set_config\n",
        "set_config(assume_finite=True)"
      ]
    },
    {
      "cell_type": "markdown",
      "metadata": {},
      "source": [
        "## Profiling the prediction function"
      ]
    },
    {
      "cell_type": "code",
      "execution_count": 8,
      "metadata": {},
      "outputs": [
        {
          "name": "stdout",
          "output_type": "stream",
          "text": [
            "\n",
            "  _     ._   __/__   _ _  _  _ _/_   Recorded: 16:07:23  Samples:  3\n",
            " /_//_/// /_\\ / //_// / //_'/ //     Duration: 0.325     CPU time: 0.547\n",
            "/   _/                      v3.0.1\n",
            "\n",
            "Program: c:\\python372_x64\\lib\\site-packages\\ipykernel_launcher.py -f C:\\Users\\xavie\\AppData\\Roaming\\jupyter\\runtime\\kernel-4cfebb20-7e0a-4652-8344-b7e9a58d0e5a.json\n",
            "\n",
            "0.325 profile  pyquickhelper\\pycode\\profiling.py:49\n",
            "|- 0.313 <lambda>  <ipython-input-8-1097e70fe6c7>:2\n",
            "|  `- 0.313 predict  sklearn\\linear_model\\base.py:208\n",
            "|     `- 0.313 _decision_function  sklearn\\linear_model\\base.py:201\n",
            "|        |- 0.219 safe_sparse_dot  sklearn\\utils\\extmath.py:117\n",
            "|        |  `- 0.219 dot  <__array_function__ internals>:2\n",
            "|        `- 0.094 [self]  \n",
            "`- 0.011 [self]  \n",
            "\n",
            "\n"
          ]
        }
      ],
      "source": [
        "from pyquickhelper.pycode.profiling import profile\n",
        "print(profile(lambda: clr.predict(X_test), \n",
        "              pyinst_format='text')[1])"
      ]
    },
    {
      "cell_type": "code",
      "execution_count": 9,
      "metadata": {
        "scrolled": false
      },
      "outputs": [
        {
          "name": "stdout",
          "output_type": "stream",
          "text": [
            "\n",
            "  _     ._   __/__   _ _  _  _ _/_   Recorded: 16:07:23  Samples:  5\n",
            " /_//_/// /_\\ / //_// / //_'/ //     Duration: 0.333     CPU time: 0.469\n",
            "/   _/                      v3.0.1\n",
            "\n",
            "Program: c:\\python372_x64\\lib\\site-packages\\ipykernel_launcher.py -f C:\\Users\\xavie\\AppData\\Roaming\\jupyter\\runtime\\kernel-4cfebb20-7e0a-4652-8344-b7e9a58d0e5a.json\n",
            "\n",
            "0.333 profile  pyquickhelper\\pycode\\profiling.py:49\n",
            "|- 0.327 <lambda>  <ipython-input-9-da4aa05db7ed>:6\n",
            "|  |- 0.184 nastype32  <ipython-input-9-da4aa05db7ed>:3\n",
            "|  |- 0.119 run  mlprodict\\onnxrt\\onnx_inference.py:313\n",
            "|  |  `- 0.119 _run_sequence_runtime  mlprodict\\onnxrt\\onnx_inference.py:371\n",
            "|  |     `- 0.119 run  mlprodict\\onnxrt\\onnx_inference_node.py:109\n",
            "|  |        `- 0.119 run  mlprodict\\onnxrt\\ops_cpu\\_op.py:249\n",
            "|  |           `- 0.119 run  mlprodict\\onnxrt\\ops_cpu\\_op.py:169\n",
            "|  |              `- 0.119 _run  mlprodict\\onnxrt\\ops_cpu\\op_linear_regressor.py:26\n",
            "|  |                 |- 0.107 dot  <__array_function__ internals>:2\n",
            "|  |                 `- 0.012 [self]  \n",
            "|  `- 0.024 [self]  \n",
            "`- 0.006 [self]  \n",
            "\n",
            "\n"
          ]
        }
      ],
      "source": [
        "import numpy\n",
        "\n",
        "def nastype32(mat):\n",
        "    return mat.astype(numpy.float32)\n",
        "\n",
        "print(profile(lambda: oinfpy.run({'X': nastype32(X_test)}), \n",
        "              pyinst_format='text')[1])"
      ]
    },
    {
      "cell_type": "markdown",
      "metadata": {},
      "source": [
        "Most of the time is taken out into casting into float. Let's take it out."
      ]
    },
    {
      "cell_type": "code",
      "execution_count": 10,
      "metadata": {},
      "outputs": [
        {
          "name": "stdout",
          "output_type": "stream",
          "text": [
            "\n",
            "  _     ._   __/__   _ _  _  _ _/_   Recorded: 16:07:23  Samples:  3\n",
            " /_//_/// /_\\ / //_// / //_'/ //     Duration: 0.145     CPU time: 0.219\n",
            "/   _/                      v3.0.1\n",
            "\n",
            "Program: c:\\python372_x64\\lib\\site-packages\\ipykernel_launcher.py -f C:\\Users\\xavie\\AppData\\Roaming\\jupyter\\runtime\\kernel-4cfebb20-7e0a-4652-8344-b7e9a58d0e5a.json\n",
            "\n",
            "0.145 profile  pyquickhelper\\pycode\\profiling.py:49\n",
            "|- 0.139 <lambda>  <ipython-input-10-fe055596e921>:3\n",
            "|  `- 0.139 run  mlprodict\\onnxrt\\onnx_inference.py:313\n",
            "|     `- 0.139 _run_sequence_runtime  mlprodict\\onnxrt\\onnx_inference.py:371\n",
            "|        `- 0.139 run  mlprodict\\onnxrt\\onnx_inference_node.py:109\n",
            "|           `- 0.139 run  mlprodict\\onnxrt\\ops_cpu\\_op.py:249\n",
            "|              `- 0.139 run  mlprodict\\onnxrt\\ops_cpu\\_op.py:169\n",
            "|                 `- 0.139 _run  mlprodict\\onnxrt\\ops_cpu\\op_linear_regressor.py:26\n",
            "|                    |- 0.126 dot  <__array_function__ internals>:2\n",
            "|                    `- 0.014 [self]  \n",
            "`- 0.006 [self]  \n",
            "\n",
            "\n"
          ]
        }
      ],
      "source": [
        "X_test32 = X_test.astype(numpy.float32)\n",
        "\n",
        "print(profile(lambda: oinfpy.run({'X': X_test32}), \n",
        "              pyinst_format='text')[1])"
      ]
    },
    {
      "cell_type": "markdown",
      "metadata": {},
      "source": [
        "Much better."
      ]
    },
    {
      "cell_type": "markdown",
      "metadata": {},
      "source": [
        "## Memory profiling"
      ]
    },
    {
      "cell_type": "code",
      "execution_count": 11,
      "metadata": {},
      "outputs": [],
      "source": [
        "%matplotlib inline"
      ]
    },
    {
      "cell_type": "code",
      "execution_count": 12,
      "metadata": {},
      "outputs": [],
      "source": [
        "from memory_profiler import memory_usage\n",
        "memprof_skl = memory_usage((clr.predict, (X_test, )), timestamps=True, interval=0.01)"
      ]
    },
    {
      "cell_type": "code",
      "execution_count": 13,
      "metadata": {},
      "outputs": [
        {
          "data": {
            "text/plain": [
              "[(1531.78125, 1565100444.609059),\n",
              " (1531.84765625, 1565100448.4829085),\n",
              " (1551.6484375, 1565100448.4958735),\n",
              " (1566.76953125, 1565100448.5068436),\n",
              " (1581.83203125, 1565100448.5178142),\n",
              " (1595.9609375, 1565100448.528785),\n",
              " (1612.06640625, 1565100448.5397565),\n",
              " (1626.8984375, 1565100448.550726),\n",
              " (1634.84765625, 1565100448.5616975),\n",
              " (1634.84765625, 1565100448.572668),\n",
              " (1634.84765625, 1565100448.5836377),\n",
              " (1634.84765625, 1565100448.5946088),\n",
              " (1634.84765625, 1565100448.6055799),\n",
              " (1634.84765625, 1565100448.616551),\n",
              " (1634.84765625, 1565100448.627521),\n",
              " (1634.84765625, 1565100448.638492),\n",
              " (1634.84765625, 1565100448.649462),\n",
              " (1634.84765625, 1565100448.6604326),\n",
              " (1637.2265625, 1565100448.671403),\n",
              " (1650.3828125, 1565100448.682374),\n",
              " (1655.5390625, 1565100448.693344),\n",
              " (1666.43359375, 1565100448.7043157),\n",
              " (1676.30078125, 1565100448.7152863),\n",
              " (1689.15234375, 1565100448.7262561),\n",
              " (1702.37109375, 1565100448.7372265),\n",
              " (1717.265625, 1565100448.748198),\n",
              " (1731.1015625, 1565100448.759169),\n",
              " (1690.15234375, 1565100448.770139),\n",
              " (1634.875, 1565100448.7761226)]"
            ]
          },
          "execution_count": 14,
          "metadata": {},
          "output_type": "execute_result"
        }
      ],
      "source": [
        "memprof_skl"
      ]
    },
    {
      "cell_type": "code",
      "execution_count": 14,
      "metadata": {},
      "outputs": [
        {
          "data": {
            "image/png": "[encoded data removed]",
            "text/plain": [
              "<Figure size 288x288 with 1 Axes>"
            ]
          },
          "metadata": {
            "needs_background": "light"
          },
          "output_type": "display_data"
        }
      ],
      "source": [
        "import matplotlib.pyplot as plt\n",
        "from pandas import DataFrame, to_datetime\n",
        "\n",
        "def mem_profile_plot(mem, title):\n",
        "    fig, ax = plt.subplots(1, 1, figsize=(4, 4))\n",
        "    df = DataFrame(mem, columns=[\"memory\", \"timestamp\"])\n",
        "    df[\"timestamp\"] = to_datetime(df.timestamp)\n",
        "    df[\"timestamp\"] -= df.timestamp.min()\n",
        "    df.set_index(\"timestamp\").plot(ax=ax)\n",
        "    ax.set_title(title + \"\\nmemory usage\")\n",
        "    return ax\n",
        "\n",
        "mem_profile_plot(memprof_skl, \"clr.predict\");"
      ]
    },
    {
      "cell_type": "code",
      "execution_count": 15,
      "metadata": {},
      "outputs": [
        {
          "data": {
            "image/png": "[encoded data removed]",
            "text/plain": [
              "<Figure size 288x288 with 1 Axes>"
            ]
          },
          "metadata": {
            "needs_background": "light"
          },
          "output_type": "display_data"
        }
      ],
      "source": [
        "memprof_onx = memory_usage((oinfpy.run, ({'X': X_test32}, )), timestamps=True, interval=0.01)\n",
        "mem_profile_plot(memprof_onx, \"oinfpy.run\");"
      ]
    },
    {
      "cell_type": "code",
      "execution_count": 16,
      "metadata": {},
      "outputs": [
        {
          "data": {
            "image/png": "[encoded data removed]",
            "text/plain": [
              "<Figure size 288x288 with 1 Axes>"
            ]
          },
          "metadata": {
            "needs_background": "light"
          },
          "output_type": "display_data"
        }
      ],
      "source": [
        "memprof_onx2 = memory_usage((oinfpy.run, ({'X': X_test.astype(numpy.float32, copy=False)}, )),\n",
        "                           timestamps=True, interval=0.01)\n",
        "mem_profile_plot(memprof_onx2, \"oinfpy.run + astype(numpy.float32)\");"
      ]
    },
    {
      "cell_type": "markdown",
      "metadata": {},
      "source": [
        "This is not very informative."
      ]
    },
    {
      "cell_type": "markdown",
      "metadata": {},
      "source": [
        "## Memory profiling outside the notebook\n",
        "\n",
        "More precise."
      ]
    },
    {
      "cell_type": "code",
      "execution_count": 17,
      "metadata": {},
      "outputs": [
        {
          "name": "stdout",
          "output_type": "stream",
          "text": [
            "Overwriting mprof_clr_predict.py\n"
          ]
        }
      ],
      "source": [
        "%%writefile mprof_clr_predict.py\n",
        "\n",
        "import numpy\n",
        "N, nfeat = 300000, 200\n",
        "X = numpy.random.random((N, nfeat))\n",
        "y = numpy.empty((N, 50))\n",
        "for i in range(y.shape[1]):\n",
        "    y[:, i] = X.sum(axis=1) + numpy.random.random(N)\n",
        "    \n",
        "from sklearn.model_selection import train_test_split\n",
        "X_train, X_test, y_train, y_test = train_test_split(X, y, train_size=0.1)   \n",
        "\n",
        "from sklearn.linear_model import LinearRegression\n",
        "clr = LinearRegression()\n",
        "clr.fit(X_train, y_train)\n",
        "\n",
        "from sklearn import set_config\n",
        "set_config(assume_finite=True)    \n",
        "\n",
        "from memory_profiler import profile\n",
        "@profile\n",
        "def clr_predict():\n",
        "    clr.predict(X_test)\n",
        "    \n",
        "clr_predict()"
      ]
    },
    {
      "cell_type": "code",
      "execution_count": 18,
      "metadata": {},
      "outputs": [
        {
          "name": "stdout",
          "output_type": "stream",
          "text": [
            "Filename: mprof_clr_predict.py\n",
            "\n",
            "Line #    Mem usage    Increment   Line Contents\n",
            "================================================\n",
            "    20   1253.1 MiB   1253.1 MiB   @profile\n",
            "    21                             def clr_predict():\n",
            "    22    842.2 MiB      0.0 MiB       clr.predict(X_test)\n",
            "\n",
            "\n"
          ]
        }
      ],
      "source": [
        "!python -m memory_profiler mprof_clr_predict.py --timestamp"
      ]
    },
    {
      "cell_type": "markdown",
      "metadata": {},
      "source": [
        "The notebook seems to increase the memory usage."
      ]
    },
    {
      "cell_type": "code",
      "execution_count": 19,
      "metadata": {},
      "outputs": [
        {
          "name": "stdout",
          "output_type": "stream",
          "text": [
            "Overwriting mprof_onnx_run.py\n"
          ]
        }
      ],
      "source": [
        "%%writefile mprof_onnx_run.py\n",
        "\n",
        "import numpy\n",
        "N, nfeat = 300000, 200\n",
        "X = numpy.random.random((N, nfeat))\n",
        "y = numpy.empty((N, 50))\n",
        "for i in range(y.shape[1]):\n",
        "    y[:, i] = X.sum(axis=1) + numpy.random.random(N)\n",
        "    \n",
        "from sklearn.model_selection import train_test_split\n",
        "X_train, X_test, y_train, y_test = train_test_split(X, y, train_size=0.1)   \n",
        "\n",
        "from sklearn.linear_model import LinearRegression\n",
        "clr = LinearRegression()\n",
        "clr.fit(X_train, y_train)\n",
        "\n",
        "from mlprodict.onnxrt import to_onnx, OnnxInference\n",
        "clr_onnx = to_onnx(clr, X_train[:1])\n",
        "oinfpy = OnnxInference(clr_onnx, runtime='python')\n",
        "X_test32 = X_test.astype(numpy.float32)\n",
        "\n",
        "from sklearn import set_config\n",
        "set_config(assume_finite=True)    \n",
        "\n",
        "from memory_profiler import profile\n",
        "@profile\n",
        "def oinfpy_predict():\n",
        "    oinfpy.run({'X': X_test32})\n",
        "    \n",
        "oinfpy_predict()"
      ]
    },
    {
      "cell_type": "code",
      "execution_count": 20,
      "metadata": {},
      "outputs": [
        {
          "name": "stdout",
          "output_type": "stream",
          "text": [
            "Filename: mprof_onnx_run.py\n",
            "\n",
            "Line #    Mem usage    Increment   Line Contents\n",
            "================================================\n",
            "    25   1487.8 MiB   1487.8 MiB   @profile\n",
            "    26                             def oinfpy_predict():\n",
            "    27   1486.9 MiB      0.0 MiB       oinfpy.run({'X': X_test32})\n",
            "\n",
            "\n"
          ]
        },
        {
          "name": "stderr",
          "output_type": "stream",
          "text": [
            "The maximum opset needed by this model is only 1.\n"
          ]
        }
      ],
      "source": [
        "!python -m memory_profiler mprof_onnx_run.py --timestamp"
      ]
    },
    {
      "cell_type": "code",
      "execution_count": 21,
      "metadata": {},
      "outputs": [
        {
          "name": "stdout",
          "output_type": "stream",
          "text": [
            "Overwriting mprof_onnx_run32.py\n"
          ]
        }
      ],
      "source": [
        "%%writefile mprof_onnx_run32.py\n",
        "\n",
        "import numpy\n",
        "N, nfeat = 300000, 200\n",
        "X = numpy.random.random((N, nfeat))\n",
        "y = numpy.empty((N, 50))\n",
        "for i in range(y.shape[1]):\n",
        "    y[:, i] = X.sum(axis=1) + numpy.random.random(N)\n",
        "    \n",
        "from sklearn.model_selection import train_test_split\n",
        "X_train, X_test, y_train, y_test = train_test_split(X, y, train_size=0.1)   \n",
        "\n",
        "from sklearn.linear_model import LinearRegression\n",
        "clr = LinearRegression()\n",
        "clr.fit(X_train, y_train)\n",
        "\n",
        "from mlprodict.onnxrt import to_onnx, OnnxInference\n",
        "clr_onnx = to_onnx(clr, X_train[:1])\n",
        "oinfpy = OnnxInference(clr_onnx, runtime='python')\n",
        "\n",
        "from sklearn import set_config\n",
        "set_config(assume_finite=True)    \n",
        "\n",
        "from memory_profiler import profile\n",
        "@profile\n",
        "def oinfpy_predict32():\n",
        "    oinfpy.run({'X': X_test.astype(numpy.float32)})\n",
        "    \n",
        "oinfpy_predict32()"
      ]
    },
    {
      "cell_type": "code",
      "execution_count": 22,
      "metadata": {},
      "outputs": [
        {
          "name": "stdout",
          "output_type": "stream",
          "text": [
            "Filename: mprof_onnx_run32.py\n",
            "\n",
            "Line #    Mem usage    Increment   Line Contents\n",
            "================================================\n",
            "    24   1298.6 MiB   1298.6 MiB   @profile\n",
            "    25                             def oinfpy_predict32():\n",
            "    26   1298.8 MiB      0.1 MiB       oinfpy.run({'X': X_test.astype(numpy.float32)})\n",
            "\n",
            "\n"
          ]
        },
        {
          "name": "stderr",
          "output_type": "stream",
          "text": [
            "The maximum opset needed by this model is only 1.\n"
          ]
        }
      ],
      "source": [
        "!python -m memory_profiler mprof_onnx_run32.py --timestamp"
      ]
    },
    {
      "cell_type": "code",
      "execution_count": 23,
      "metadata": {},
      "outputs": [],
      "source": []
    }
  ],
  "metadata": {
    "kernelspec": {
      "display_name": "Python 3",
      "language": "python",
      "name": "python3"
    },
    "language_info": {
      "codemirror_mode": {
        "name": "ipython",
        "version": 3
      },
      "file_extension": ".py",
      "mimetype": "text/x-python",
      "name": "python",
      "nbconvert_exporter": "python",
      "pygments_lexer": "ipython3",
      "version": "3.7.2"
    }
  },
  "nbformat": 4,
  "nbformat_minor": 2
}