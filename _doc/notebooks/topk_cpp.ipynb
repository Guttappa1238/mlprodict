{
  "cells": [
    {
      "cell_type": "markdown",
      "metadata": {},
      "source": [
        "# Fast TopK elements\n",
        "\n",
        "Looking for the top k elements is something needed to implement a simple k nearest neighbors. The implementation *scikit-learn* is using relies on *numpy*: [_kneighbors_reduce_func](https://github.com/scikit-learn/scikit-learn/blob/master/sklearn/neighbors/_base.py#L496). *mlprodict* also contains a C++ implementation of the same function. Let's compare them."
      ]
    },
    {
      "cell_type": "code",
      "execution_count": 1,
      "metadata": {},
      "outputs": [
        {
          "data": {
            "text/html": [
              "<div id=\"my_id_menu_nb\">run previous cell, wait for 2 seconds</div>\n",
              "<script>\n",
              "function repeat_indent_string(n){\n",
              "    var a = \"\" ;\n",
              "    for ( ; n > 0 ; --n)\n",
              "        a += \"    \";\n",
              "    return a;\n",
              "}\n",
              "// look up into all sections and builds an automated menu //\n",
              "var update_menu_string = function(begin, lfirst, llast, sformat, send, keep_item, begin_format, end_format) {\n",
              "    var anchors = document.getElementsByClassName(\"section\");\n",
              "    if (anchors.length == 0) {\n",
              "        anchors = document.getElementsByClassName(\"text_cell_render rendered_html\");\n",
              "    }\n",
              "    var i,t;\n",
              "    var text_menu = begin;\n",
              "    var text_memo = \"<pre>\\nlength:\" + anchors.length + \"\\n\";\n",
              "    var ind = \"\";\n",
              "    var memo_level = 1;\n",
              "    var href;\n",
              "    var tags = [];\n",
              "    var main_item = 0;\n",
              "    var format_open = 0;\n",
              "    for (i = 0; i <= llast; i++)\n",
              "        tags.push(\"h\" + i);\n",
              "\n",
              "    for (i = 0; i < anchors.length; i++) {\n",
              "        text_memo += \"**\" + anchors[i].id + \"--\\n\";\n",
              "\n",
              "        var child = null;\n",
              "        for(t = 0; t < tags.length; t++) {\n",
              "            var r = anchors[i].getElementsByTagName(tags[t]);\n",
              "            if (r.length > 0) {\n",
              "child = r[0];\n",
              "break;\n",
              "            }\n",
              "        }\n",
              "        if (child == null) {\n",
              "            text_memo += \"null\\n\";\n",
              "            continue;\n",
              "        }\n",
              "        if (anchors[i].hasAttribute(\"id\")) {\n",
              "            // when converted in RST\n",
              "            href = anchors[i].id;\n",
              "            text_memo += \"#1-\" + href;\n",
              "            // passer \u00e0 child suivant (le chercher)\n",
              "        }\n",
              "        else if (child.hasAttribute(\"id\")) {\n",
              "            // in a notebook\n",
              "            href = child.id;\n",
              "            text_memo += \"#2-\" + href;\n",
              "        }\n",
              "        else {\n",
              "            text_memo += \"#3-\" + \"*\" + \"\\n\";\n",
              "            continue;\n",
              "        }\n",
              "        var title = child.textContent;\n",
              "        var level = parseInt(child.tagName.substring(1,2));\n",
              "\n",
              "        text_memo += \"--\" + level + \"?\" + lfirst + \"--\" + title + \"\\n\";\n",
              "\n",
              "        if ((level < lfirst) || (level > llast)) {\n",
              "            continue ;\n",
              "        }\n",
              "        if (title.endsWith('\u00b6')) {\n",
              "            title = title.substring(0,title.length-1).replace(\"<\", \"&lt;\")\n",
              "         .replace(\">\", \"&gt;\").replace(\"&\", \"&amp;\");\n",
              "        }\n",
              "        if (title.length == 0) {\n",
              "            continue;\n",
              "        }\n",
              "\n",
              "        while (level < memo_level) {\n",
              "            text_menu += end_format + \"</ul>\\n\";\n",
              "            format_open -= 1;\n",
              "            memo_level -= 1;\n",
              "        }\n",
              "        if (level == lfirst) {\n",
              "            main_item += 1;\n",
              "        }\n",
              "        if (keep_item != -1 && main_item != keep_item + 1) {\n",
              "            // alert(main_item + \" - \" + level + \" - \" + keep_item);\n",
              "            continue;\n",
              "        }\n",
              "        while (level > memo_level) {\n",
              "            text_menu += \"<ul>\\n\";\n",
              "            memo_level += 1;\n",
              "        }\n",
              "        text_menu += repeat_indent_string(level-2);\n",
              "        text_menu += begin_format + sformat.replace(\"__HREF__\", href).replace(\"__TITLE__\", title);\n",
              "        format_open += 1;\n",
              "    }\n",
              "    while (1 < memo_level) {\n",
              "        text_menu += end_format + \"</ul>\\n\";\n",
              "        memo_level -= 1;\n",
              "        format_open -= 1;\n",
              "    }\n",
              "    text_menu += send;\n",
              "    //text_menu += \"\\n\" + text_memo;\n",
              "\n",
              "    while (format_open > 0) {\n",
              "        text_menu += end_format;\n",
              "        format_open -= 1;\n",
              "    }\n",
              "    return text_menu;\n",
              "};\n",
              "var update_menu = function() {\n",
              "    var sbegin = \"\";\n",
              "    var sformat = '<a href=\"#__HREF__\">__TITLE__</a>';\n",
              "    var send = \"\";\n",
              "    var begin_format = '<li>';\n",
              "    var end_format = '</li>';\n",
              "    var keep_item = -1;\n",
              "    var text_menu = update_menu_string(sbegin, 2, 4, sformat, send, keep_item,\n",
              "       begin_format, end_format);\n",
              "    var menu = document.getElementById(\"my_id_menu_nb\");\n",
              "    menu.innerHTML=text_menu;\n",
              "};\n",
              "window.setTimeout(update_menu,2000);\n",
              "            </script>"
            ],
            "text/plain": [
              "<IPython.core.display.HTML object>"
            ]
          },
          "execution_count": 2,
          "metadata": {},
          "output_type": "execute_result"
        }
      ],
      "source": [
        "from jyquickhelper import add_notebook_menu\n",
        "add_notebook_menu()"
      ]
    },
    {
      "cell_type": "code",
      "execution_count": 2,
      "metadata": {},
      "outputs": [],
      "source": [
        "%matplotlib inline"
      ]
    },
    {
      "cell_type": "markdown",
      "metadata": {},
      "source": [
        "## Two implementations\n",
        "\n",
        "We assume we are looking for the `k` nearest elements of every row of matrix `X` which is a dense matrix of doubles."
      ]
    },
    {
      "cell_type": "code",
      "execution_count": 3,
      "metadata": {},
      "outputs": [],
      "source": [
        "import numpy.random as rnd\n",
        "from sklearn.neighbors._base import KNeighborsMixin\n",
        "\n",
        "mixin = KNeighborsMixin()"
      ]
    },
    {
      "cell_type": "code",
      "execution_count": 4,
      "metadata": {},
      "outputs": [
        {
          "data": {
            "text/plain": [
              "array([[5, 1, 6],\n",
              "       [5, 1, 8],\n",
              "       [9, 2, 0],\n",
              "       [0, 1, 3],\n",
              "       [4, 2, 5]], dtype=int64)"
            ]
          },
          "execution_count": 5,
          "metadata": {},
          "output_type": "execute_result"
        }
      ],
      "source": [
        "def topk_sklearn(X, k):\n",
        "    return mixin._kneighbors_reduce_func(X, 0, k, False)\n",
        "    \n",
        "X = rnd.randn(5, 10)\n",
        "ind = topk_sklearn(X, 3)\n",
        "ind"
      ]
    },
    {
      "cell_type": "markdown",
      "metadata": {},
      "source": [
        "Now the implementation with *mlprodict* (C++) available at [topk_element_min](https://github.com/sdpython/mlprodict/blob/master/mlprodict/onnxrt/ops_cpu/_op_onnx_numpy.cpp#L201). It uses [heap](https://en.wikipedia.org/wiki/Heap_(data_structure))."
      ]
    },
    {
      "cell_type": "code",
      "execution_count": 5,
      "metadata": {},
      "outputs": [],
      "source": [
        "from mlprodict.onnxrt.ops_cpu._op_onnx_numpy import topk_element_min_double"
      ]
    },
    {
      "cell_type": "code",
      "execution_count": 6,
      "metadata": {},
      "outputs": [
        {
          "data": {
            "text/plain": [
              "array([[5, 1, 6],\n",
              "       [5, 1, 8],\n",
              "       [9, 2, 0],\n",
              "       [0, 1, 3],\n",
              "       [4, 2, 5]], dtype=int64)"
            ]
          },
          "execution_count": 7,
          "metadata": {},
          "output_type": "execute_result"
        }
      ],
      "source": [
        "def topk_cpp(X, k):\n",
        "    return topk_element_min_double(X, k, True, 50)\n",
        "    \n",
        "ind = topk_cpp(X, 3)\n",
        "ind"
      ]
    },
    {
      "cell_type": "markdown",
      "metadata": {},
      "source": [
        "## Speed comparison by size"
      ]
    },
    {
      "cell_type": "code",
      "execution_count": 7,
      "metadata": {},
      "outputs": [
        {
          "name": "stdout",
          "output_type": "stream",
          "text": [
            "15.3 \u00b5s \u00b1 201 ns per loop (mean \u00b1 std. dev. of 7 runs, 100000 loops each)\n"
          ]
        }
      ],
      "source": [
        "%timeit topk_sklearn(X, 3)"
      ]
    },
    {
      "cell_type": "code",
      "execution_count": 8,
      "metadata": {},
      "outputs": [
        {
          "name": "stdout",
          "output_type": "stream",
          "text": [
            "2.93 \u00b5s \u00b1 289 ns per loop (mean \u00b1 std. dev. of 7 runs, 100000 loops each)\n"
          ]
        }
      ],
      "source": [
        "%timeit topk_cpp(X, 3)"
      ]
    },
    {
      "cell_type": "markdown",
      "metadata": {},
      "source": [
        "Quite a lot faster on this simple example. Let's look for bigger matrices."
      ]
    },
    {
      "cell_type": "code",
      "execution_count": 9,
      "metadata": {},
      "outputs": [],
      "source": [
        "X = rnd.randn(1000, 100)"
      ]
    },
    {
      "cell_type": "code",
      "execution_count": 10,
      "metadata": {},
      "outputs": [
        {
          "name": "stdout",
          "output_type": "stream",
          "text": [
            "1.55 ms \u00b1 72.8 \u00b5s per loop (mean \u00b1 std. dev. of 7 runs, 1000 loops each)\n"
          ]
        }
      ],
      "source": [
        "%timeit topk_sklearn(X, 10)"
      ]
    },
    {
      "cell_type": "code",
      "execution_count": 11,
      "metadata": {},
      "outputs": [
        {
          "name": "stdout",
          "output_type": "stream",
          "text": [
            "528 \u00b5s \u00b1 146 \u00b5s per loop (mean \u00b1 std. dev. of 7 runs, 1000 loops each)\n"
          ]
        }
      ],
      "source": [
        "%timeit topk_cpp(X, 10)"
      ]
    },
    {
      "cell_type": "code",
      "execution_count": 12,
      "metadata": {},
      "outputs": [
        {
          "name": "stderr",
          "output_type": "stream",
          "text": [
            "100%|\u2588\u2588\u2588\u2588\u2588\u2588\u2588\u2588\u2588\u2588| 10/10 [00:08<00:00,  1.09s/it]\n"
          ]
        },
        {
          "data": {
            "text/html": [
              "<div>\n",
              "<style scoped>\n",
              "    .dataframe tbody tr th:only-of-type {\n",
              "        vertical-align: middle;\n",
              "    }\n",
              "\n",
              "    .dataframe tbody tr th {\n",
              "        vertical-align: top;\n",
              "    }\n",
              "\n",
              "    .dataframe thead th {\n",
              "        text-align: right;\n",
              "    }\n",
              "</style>\n",
              "<table border=\"1\" class=\"dataframe\">\n",
              "  <thead>\n",
              "    <tr style=\"text-align: right;\">\n",
              "      <th></th>\n",
              "      <th>average</th>\n",
              "      <th>deviation</th>\n",
              "      <th>min_exec</th>\n",
              "      <th>max_exec</th>\n",
              "      <th>repeat</th>\n",
              "      <th>number</th>\n",
              "      <th>context_size</th>\n",
              "      <th>N</th>\n",
              "      <th>name</th>\n",
              "    </tr>\n",
              "  </thead>\n",
              "  <tbody>\n",
              "    <tr>\n",
              "      <th>0</th>\n",
              "      <td>0.023426</td>\n",
              "      <td>0.000566</td>\n",
              "      <td>0.022860</td>\n",
              "      <td>0.023993</td>\n",
              "      <td>2</td>\n",
              "      <td>2</td>\n",
              "      <td>240</td>\n",
              "      <td>1000</td>\n",
              "      <td>topk_sklearn</td>\n",
              "    </tr>\n",
              "    <tr>\n",
              "      <th>1</th>\n",
              "      <td>0.003808</td>\n",
              "      <td>0.000213</td>\n",
              "      <td>0.003564</td>\n",
              "      <td>0.004147</td>\n",
              "      <td>4</td>\n",
              "      <td>4</td>\n",
              "      <td>240</td>\n",
              "      <td>1000</td>\n",
              "      <td>topk_cpp</td>\n",
              "    </tr>\n",
              "    <tr>\n",
              "      <th>2</th>\n",
              "      <td>0.044766</td>\n",
              "      <td>0.001806</td>\n",
              "      <td>0.042959</td>\n",
              "      <td>0.046572</td>\n",
              "      <td>2</td>\n",
              "      <td>2</td>\n",
              "      <td>240</td>\n",
              "      <td>2000</td>\n",
              "      <td>topk_sklearn</td>\n",
              "    </tr>\n",
              "    <tr>\n",
              "      <th>3</th>\n",
              "      <td>0.007427</td>\n",
              "      <td>0.000786</td>\n",
              "      <td>0.006781</td>\n",
              "      <td>0.008771</td>\n",
              "      <td>4</td>\n",
              "      <td>4</td>\n",
              "      <td>240</td>\n",
              "      <td>2000</td>\n",
              "      <td>topk_cpp</td>\n",
              "    </tr>\n",
              "    <tr>\n",
              "      <th>4</th>\n",
              "      <td>0.062720</td>\n",
              "      <td>0.001769</td>\n",
              "      <td>0.060951</td>\n",
              "      <td>0.064489</td>\n",
              "      <td>2</td>\n",
              "      <td>2</td>\n",
              "      <td>240</td>\n",
              "      <td>3000</td>\n",
              "      <td>topk_sklearn</td>\n",
              "    </tr>\n",
              "  </tbody>\n",
              "</table>\n",
              "</div>"
            ],
            "text/plain": [
              "    average  deviation  min_exec  max_exec  repeat  number  context_size  \\\n",
              "0  0.023426   0.000566  0.022860  0.023993       2       2           240   \n",
              "1  0.003808   0.000213  0.003564  0.004147       4       4           240   \n",
              "2  0.044766   0.001806  0.042959  0.046572       2       2           240   \n",
              "3  0.007427   0.000786  0.006781  0.008771       4       4           240   \n",
              "4  0.062720   0.001769  0.060951  0.064489       2       2           240   \n",
              "\n",
              "      N          name  \n",
              "0  1000  topk_sklearn  \n",
              "1  1000      topk_cpp  \n",
              "2  2000  topk_sklearn  \n",
              "3  2000      topk_cpp  \n",
              "4  3000  topk_sklearn  "
            ]
          },
          "execution_count": 13,
          "metadata": {},
          "output_type": "execute_result"
        }
      ],
      "source": [
        "from cpyquickhelper.numbers import measure_time\n",
        "from tqdm import tqdm\n",
        "from pandas import DataFrame\n",
        "\n",
        "rows = []\n",
        "for n in tqdm(range(1000, 10001, 1000)):\n",
        "    X = rnd.randn(n, 1000)\n",
        "    res = measure_time('topk_sklearn(X, 20)',\n",
        "                       {'X': X, 'topk_sklearn': topk_sklearn},\n",
        "                       div_by_number=True,\n",
        "                       number=2, repeat=2)\n",
        "    res[\"N\"] = n\n",
        "    res[\"name\"] = 'topk_sklearn'\n",
        "    rows.append(res)\n",
        "    res = measure_time('topk_cpp(X, 20)',\n",
        "                       {'X': X, 'topk_cpp': topk_cpp},\n",
        "                       div_by_number=True,\n",
        "                       number=4, repeat=4)\n",
        "    res[\"N\"] = n\n",
        "    res[\"name\"] = 'topk_cpp'\n",
        "    rows.append(res)\n",
        "\n",
        "df = DataFrame(rows)\n",
        "df.head()"
      ]
    },
    {
      "cell_type": "code",
      "execution_count": 13,
      "metadata": {},
      "outputs": [
        {
          "data": {
            "image/png": "[encoded data removed]",
            "text/plain": [
              "<Figure size 720x288 with 2 Axes>"
            ]
          },
          "metadata": {
            "needs_background": "light"
          },
          "output_type": "display_data"
        }
      ],
      "source": [
        "import matplotlib.pyplot as plt\n",
        "\n",
        "fig, ax = plt.subplots(1, 2, figsize=(10, 4))\n",
        "piv = df.pivot(\"N\", \"name\", \"average\")\n",
        "piv.plot(ax=ax[0], logy=True, logx=True)\n",
        "ax[0].set_title(\"top 20\")\n",
        "piv[\"ratio\"] = piv[\"topk_cpp\"] / piv[\"topk_sklearn\"]\n",
        "piv[[\"ratio\"]].plot(ax=ax[1])\n",
        "ax[1].set_title(\"ratio\");"
      ]
    },
    {
      "cell_type": "markdown",
      "metadata": {},
      "source": [
        "## Speed comparison by k"
      ]
    },
    {
      "cell_type": "code",
      "execution_count": 14,
      "metadata": {},
      "outputs": [
        {
          "name": "stderr",
          "output_type": "stream",
          "text": [
            "100%|\u2588\u2588\u2588\u2588\u2588\u2588\u2588\u2588\u2588\u2588| 68/68 [00:32<00:00,  1.10it/s]\n"
          ]
        },
        {
          "data": {
            "text/html": [
              "<div>\n",
              "<style scoped>\n",
              "    .dataframe tbody tr th:only-of-type {\n",
              "        vertical-align: middle;\n",
              "    }\n",
              "\n",
              "    .dataframe tbody tr th {\n",
              "        vertical-align: top;\n",
              "    }\n",
              "\n",
              "    .dataframe thead th {\n",
              "        text-align: right;\n",
              "    }\n",
              "</style>\n",
              "<table border=\"1\" class=\"dataframe\">\n",
              "  <thead>\n",
              "    <tr style=\"text-align: right;\">\n",
              "      <th></th>\n",
              "      <th>average</th>\n",
              "      <th>deviation</th>\n",
              "      <th>min_exec</th>\n",
              "      <th>max_exec</th>\n",
              "      <th>repeat</th>\n",
              "      <th>number</th>\n",
              "      <th>context_size</th>\n",
              "      <th>k</th>\n",
              "      <th>name</th>\n",
              "    </tr>\n",
              "  </thead>\n",
              "  <tbody>\n",
              "    <tr>\n",
              "      <th>0</th>\n",
              "      <td>0.014433</td>\n",
              "      <td>0.001867</td>\n",
              "      <td>0.012567</td>\n",
              "      <td>0.016300</td>\n",
              "      <td>2</td>\n",
              "      <td>2</td>\n",
              "      <td>240</td>\n",
              "      <td>1</td>\n",
              "      <td>topk_sklearn</td>\n",
              "    </tr>\n",
              "    <tr>\n",
              "      <th>1</th>\n",
              "      <td>0.001821</td>\n",
              "      <td>0.000024</td>\n",
              "      <td>0.001798</td>\n",
              "      <td>0.001845</td>\n",
              "      <td>2</td>\n",
              "      <td>2</td>\n",
              "      <td>240</td>\n",
              "      <td>1</td>\n",
              "      <td>topk_cpp</td>\n",
              "    </tr>\n",
              "    <tr>\n",
              "      <th>2</th>\n",
              "      <td>0.024335</td>\n",
              "      <td>0.000173</td>\n",
              "      <td>0.024162</td>\n",
              "      <td>0.024509</td>\n",
              "      <td>2</td>\n",
              "      <td>2</td>\n",
              "      <td>240</td>\n",
              "      <td>2</td>\n",
              "      <td>topk_sklearn</td>\n",
              "    </tr>\n",
              "    <tr>\n",
              "      <th>3</th>\n",
              "      <td>0.001788</td>\n",
              "      <td>0.000013</td>\n",
              "      <td>0.001775</td>\n",
              "      <td>0.001800</td>\n",
              "      <td>2</td>\n",
              "      <td>2</td>\n",
              "      <td>240</td>\n",
              "      <td>2</td>\n",
              "      <td>topk_cpp</td>\n",
              "    </tr>\n",
              "    <tr>\n",
              "      <th>4</th>\n",
              "      <td>0.028267</td>\n",
              "      <td>0.001580</td>\n",
              "      <td>0.026686</td>\n",
              "      <td>0.029847</td>\n",
              "      <td>2</td>\n",
              "      <td>2</td>\n",
              "      <td>240</td>\n",
              "      <td>3</td>\n",
              "      <td>topk_sklearn</td>\n",
              "    </tr>\n",
              "  </tbody>\n",
              "</table>\n",
              "</div>"
            ],
            "text/plain": [
              "    average  deviation  min_exec  max_exec  repeat  number  context_size  k  \\\n",
              "0  0.014433   0.001867  0.012567  0.016300       2       2           240  1   \n",
              "1  0.001821   0.000024  0.001798  0.001845       2       2           240  1   \n",
              "2  0.024335   0.000173  0.024162  0.024509       2       2           240  2   \n",
              "3  0.001788   0.000013  0.001775  0.001800       2       2           240  2   \n",
              "4  0.028267   0.001580  0.026686  0.029847       2       2           240  3   \n",
              "\n",
              "           name  \n",
              "0  topk_sklearn  \n",
              "1      topk_cpp  \n",
              "2  topk_sklearn  \n",
              "3      topk_cpp  \n",
              "4  topk_sklearn  "
            ]
          },
          "execution_count": 15,
          "metadata": {},
          "output_type": "execute_result"
        }
      ],
      "source": [
        "rows = []\n",
        "X = rnd.randn(2000, 1000)\n",
        "for k in tqdm(list(range(1, 20)) + list(range(20, 1000, 20))):\n",
        "    res = measure_time('topk_sklearn(X, k)',\n",
        "                       {'X': X, 'topk_sklearn': topk_sklearn, 'k': k},\n",
        "                       div_by_number=True,\n",
        "                       number=2, repeat=2)\n",
        "    res[\"k\"] = k\n",
        "    res[\"name\"] = 'topk_sklearn'\n",
        "    rows.append(res)\n",
        "    res = measure_time('topk_cpp(X, k)',\n",
        "                       {'X': X, 'topk_cpp': topk_cpp, 'k': k},\n",
        "                       div_by_number=True,\n",
        "                       number=2, repeat=2)\n",
        "    res[\"k\"] = k\n",
        "    res[\"name\"] = 'topk_cpp'\n",
        "    rows.append(res)\n",
        "\n",
        "df = DataFrame(rows)\n",
        "df.head()"
      ]
    },
    {
      "cell_type": "code",
      "execution_count": 15,
      "metadata": {},
      "outputs": [
        {
          "data": {
            "image/png": "[encoded data removed]",
            "text/plain": [
              "<Figure size 720x288 with 2 Axes>"
            ]
          },
          "metadata": {
            "needs_background": "light"
          },
          "output_type": "display_data"
        }
      ],
      "source": [
        "fig, ax = plt.subplots(1, 2, figsize=(10, 4))\n",
        "piv = df.pivot(\"k\", \"name\", \"average\")\n",
        "piv.plot(ax=ax[0], logy=True, logx=True)\n",
        "ax[0].set_title(\"top k for 2000 rows\")\n",
        "piv[\"ratio\"] = piv[\"topk_cpp\"] / piv[\"topk_sklearn\"]\n",
        "piv[[\"ratio\"]].plot(ax=ax[1])\n",
        "ax[1].set_title(\"ratio\")\n",
        "ax[0].set_xlabel(\"k\")\n",
        "ax[1].set_xlabel(\"k\");"
      ]
    },
    {
      "cell_type": "markdown",
      "metadata": {},
      "source": [
        "The implementation is half faster in all cases and much more efficient for small values which is usually the case for the nearest neighbors. This implementation is using *openmp*, maybe that's why it gets 50% faster on this two cores machine."
      ]
    },
    {
      "cell_type": "code",
      "execution_count": 16,
      "metadata": {},
      "outputs": [],
      "source": []
    }
  ],
  "metadata": {
    "kernelspec": {
      "display_name": "Python 3",
      "language": "python",
      "name": "python3"
    },
    "language_info": {
      "codemirror_mode": {
        "name": "ipython",
        "version": 3
      },
      "file_extension": ".py",
      "mimetype": "text/x-python",
      "name": "python",
      "nbconvert_exporter": "python",
      "pygments_lexer": "ipython3",
      "version": "3.7.2"
    }
  },
  "nbformat": 4,
  "nbformat_minor": 2
}