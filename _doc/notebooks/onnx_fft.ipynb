{
 "cells": [
  {
   "cell_type": "markdown",
   "id": "51bc89fc",
   "metadata": {},
   "source": [
    "# ONNX and FFT\n",
    "\n",
    "ONNX does not fully support complex yet. It does not have any FFT operators either. What if we need them anyway?"
   ]
  },
  {
   "cell_type": "code",
   "execution_count": 1,
   "id": "7b2add97",
   "metadata": {},
   "outputs": [
    {
     "data": {
      "text/html": [
       "<div id=\"my_id_menu_nb\">run previous cell, wait for 2 seconds</div>\n",
       "<script>\n",
       "function repeat_indent_string(n){\n",
       "    var a = \"\" ;\n",
       "    for ( ; n > 0 ; --n)\n",
       "        a += \"    \";\n",
       "    return a;\n",
       "}\n",
       "// look up into all sections and builds an automated menu //\n",
       "var update_menu_string = function(begin, lfirst, llast, sformat, send, keep_item, begin_format, end_format) {\n",
       "    var anchors = document.getElementsByClassName(\"section\");\n",
       "    if (anchors.length == 0) {\n",
       "        anchors = document.getElementsByClassName(\"text_cell_render rendered_html\");\n",
       "    }\n",
       "    var i,t;\n",
       "    var text_menu = begin;\n",
       "    var text_memo = \"<pre>\\nlength:\" + anchors.length + \"\\n\";\n",
       "    var ind = \"\";\n",
       "    var memo_level = 1;\n",
       "    var href;\n",
       "    var tags = [];\n",
       "    var main_item = 0;\n",
       "    var format_open = 0;\n",
       "    for (i = 0; i <= llast; i++)\n",
       "        tags.push(\"h\" + i);\n",
       "\n",
       "    for (i = 0; i < anchors.length; i++) {\n",
       "        text_memo += \"**\" + anchors[i].id + \"--\\n\";\n",
       "\n",
       "        var child = null;\n",
       "        for(t = 0; t < tags.length; t++) {\n",
       "            var r = anchors[i].getElementsByTagName(tags[t]);\n",
       "            if (r.length > 0) {\n",
       "child = r[0];\n",
       "break;\n",
       "            }\n",
       "        }\n",
       "        if (child == null) {\n",
       "            text_memo += \"null\\n\";\n",
       "            continue;\n",
       "        }\n",
       "        if (anchors[i].hasAttribute(\"id\")) {\n",
       "            // when converted in RST\n",
       "            href = anchors[i].id;\n",
       "            text_memo += \"#1-\" + href;\n",
       "            // passer à child suivant (le chercher)\n",
       "        }\n",
       "        else if (child.hasAttribute(\"id\")) {\n",
       "            // in a notebook\n",
       "            href = child.id;\n",
       "            text_memo += \"#2-\" + href;\n",
       "        }\n",
       "        else {\n",
       "            text_memo += \"#3-\" + \"*\" + \"\\n\";\n",
       "            continue;\n",
       "        }\n",
       "        var title = child.textContent;\n",
       "        var level = parseInt(child.tagName.substring(1,2));\n",
       "\n",
       "        text_memo += \"--\" + level + \"?\" + lfirst + \"--\" + title + \"\\n\";\n",
       "\n",
       "        if ((level < lfirst) || (level > llast)) {\n",
       "            continue ;\n",
       "        }\n",
       "        if (title.endsWith('¶')) {\n",
       "            title = title.substring(0,title.length-1).replace(\"<\", \"&lt;\")\n",
       "         .replace(\">\", \"&gt;\").replace(\"&\", \"&amp;\");\n",
       "        }\n",
       "        if (title.length == 0) {\n",
       "            continue;\n",
       "        }\n",
       "\n",
       "        while (level < memo_level) {\n",
       "            text_menu += end_format + \"</ul>\\n\";\n",
       "            format_open -= 1;\n",
       "            memo_level -= 1;\n",
       "        }\n",
       "        if (level == lfirst) {\n",
       "            main_item += 1;\n",
       "        }\n",
       "        if (keep_item != -1 && main_item != keep_item + 1) {\n",
       "            // alert(main_item + \" - \" + level + \" - \" + keep_item);\n",
       "            continue;\n",
       "        }\n",
       "        while (level > memo_level) {\n",
       "            text_menu += \"<ul>\\n\";\n",
       "            memo_level += 1;\n",
       "        }\n",
       "        text_menu += repeat_indent_string(level-2);\n",
       "        text_menu += begin_format + sformat.replace(\"__HREF__\", href).replace(\"__TITLE__\", title);\n",
       "        format_open += 1;\n",
       "    }\n",
       "    while (1 < memo_level) {\n",
       "        text_menu += end_format + \"</ul>\\n\";\n",
       "        memo_level -= 1;\n",
       "        format_open -= 1;\n",
       "    }\n",
       "    text_menu += send;\n",
       "    //text_menu += \"\\n\" + text_memo;\n",
       "\n",
       "    while (format_open > 0) {\n",
       "        text_menu += end_format;\n",
       "        format_open -= 1;\n",
       "    }\n",
       "    return text_menu;\n",
       "};\n",
       "var update_menu = function() {\n",
       "    var sbegin = \"\";\n",
       "    var sformat = '<a href=\"#__HREF__\">__TITLE__</a>';\n",
       "    var send = \"\";\n",
       "    var begin_format = '<li>';\n",
       "    var end_format = '</li>';\n",
       "    var keep_item = -1;\n",
       "    var text_menu = update_menu_string(sbegin, 2, 4, sformat, send, keep_item,\n",
       "       begin_format, end_format);\n",
       "    var menu = document.getElementById(\"my_id_menu_nb\");\n",
       "    menu.innerHTML=text_menu;\n",
       "};\n",
       "window.setTimeout(update_menu,2000);\n",
       "            </script>"
      ],
      "text/plain": [
       "<IPython.core.display.HTML object>"
      ]
     },
     "execution_count": 1,
     "metadata": {},
     "output_type": "execute_result"
    }
   ],
   "source": [
    "from jyquickhelper import add_notebook_menu\n",
    "add_notebook_menu()"
   ]
  },
  {
   "cell_type": "code",
   "execution_count": 2,
   "id": "acfdc3b0",
   "metadata": {},
   "outputs": [],
   "source": [
    "%load_ext mlprodict"
   ]
  },
  {
   "cell_type": "code",
   "execution_count": 3,
   "id": "abb5fa88",
   "metadata": {},
   "outputs": [
    {
     "data": {
      "text/plain": [
       "'1.21.0'"
      ]
     },
     "execution_count": 3,
     "metadata": {},
     "output_type": "execute_result"
    }
   ],
   "source": [
    "import numpy\n",
    "numpy.__version__"
   ]
  },
  {
   "cell_type": "markdown",
   "id": "2e4f68e4",
   "metadata": {},
   "source": [
    "## Python implementation of RFFT\n",
    "\n",
    "We try to replicate [numpy.rfft](https://numpy.org/doc/stable/reference/generated/numpy.fft.rfft.html)."
   ]
  },
  {
   "cell_type": "code",
   "execution_count": 4,
   "id": "cb1cc910",
   "metadata": {},
   "outputs": [
    {
     "data": {
      "text/plain": [
       "array([[-1.36418152+0.j        ,  2.3512614 -1.47772773j,\n",
       "        -3.4774066 +3.40257902j, -1.73059963+1.64505308j],\n",
       "       [ 0.6441313 +0.j        , -0.87221646-1.87952026j,\n",
       "         1.0705215 -1.186307j  ,  1.31619296+5.60515407j],\n",
       "       [ 1.38915221+0.j        , -1.11980049+2.87742877j,\n",
       "        -0.25900143+0.17339344j, -1.45116622+1.24798734j],\n",
       "       [-1.86380783+0.j        ,  2.37798625+1.72008612j,\n",
       "         1.42540207+1.57713781j,  0.18057206+1.32039835j],\n",
       "       [ 4.1150526 +0.j        , -3.35634771-0.41940018j,\n",
       "        -0.38524887-1.39453991j, -0.31538136+1.7538376j ]])"
      ]
     },
     "execution_count": 4,
     "metadata": {},
     "output_type": "execute_result"
    }
   ],
   "source": [
    "import numpy\n",
    "\n",
    "\n",
    "def almost_equal(a, b, error=1e-5):\n",
    "    \"\"\"\n",
    "    The function compares two matrices, one may be complex. In that case,\n",
    "    this matrix is changed into a new matrix with a new first dimension,\n",
    "    [0,::] means real part, [1,::] means imaginary part.\n",
    "    \"\"\"\n",
    "    if a.dtype in (numpy.complex64, numpy.complex128):\n",
    "        dtype = numpy.float64 if a.dtype == numpy.complex128 else numpy.float32\n",
    "        new_a = numpy.empty((2,) + a.shape).astype(dtype)\n",
    "        new_a[0] = numpy.real(a)\n",
    "        new_a[1] = numpy.imag(a)\n",
    "        return almost_equal(new_a, b, error)\n",
    "    if b.dtype in (numpy.complex64, numpy.complex128):\n",
    "        return almost_equal(b, a, error)\n",
    "    if a.shape != b.shape:\n",
    "        raise AssertionError(\"Shape mismatch %r != %r.\" % (a.shape, b.shape))\n",
    "    diff = numpy.abs(a.ravel() - b.ravel()).max()\n",
    "    if diff > error:\n",
    "        raise AssertionError(\"Mismatch max diff=%r > %r.\" % (diff, error))\n",
    "\n",
    "\n",
    "def dft_real_cst(N, fft_length):\n",
    "    n = numpy.arange(N)\n",
    "    k = n.reshape((N, 1)).astype(numpy.float64)\n",
    "    M = numpy.exp(-2j * numpy.pi * k * n / fft_length)\n",
    "    both = numpy.empty((2,) + M.shape)\n",
    "    both[0, :, :] = numpy.real(M)\n",
    "    both[1, :, :] = numpy.imag(M)\n",
    "    return both\n",
    "\n",
    "\n",
    "def dft_real(x, fft_length=None, transpose=True):\n",
    "    if len(x.shape) == 1:\n",
    "        x = x.reshape((1, -1))\n",
    "        N = 1\n",
    "    else:\n",
    "        N = x.shape[0]        \n",
    "    C = x.shape[-1] if transpose else x.shape[-2]\n",
    "    if fft_length is None:\n",
    "        fft_length = x.shape[-1]\n",
    "    size = fft_length // 2 + 1\n",
    "\n",
    "    cst = dft_real_cst(C, fft_length)\n",
    "    if transpose:\n",
    "        x = numpy.transpose(x, (1, 0))\n",
    "        a = cst[:, :, :fft_length]\n",
    "        b = x[:fft_length]\n",
    "        res = numpy.matmul(a, b)\n",
    "        res = res[:, :size, :]\n",
    "        return numpy.transpose(res, (0, 2, 1))\n",
    "    else:\n",
    "        a = cst[:, :, :fft_length]\n",
    "        b = x[:fft_length]\n",
    "        return numpy.matmul(a, b)\n",
    "\n",
    "\n",
    "rnd = numpy.random.randn(5, 7).astype(numpy.float32)\n",
    "fft_np = numpy.fft.rfft(rnd)\n",
    "fft_cus = dft_real(rnd)\n",
    "fft_np"
   ]
  },
  {
   "cell_type": "markdown",
   "id": "0c052ea1",
   "metadata": {},
   "source": [
    "Function `almost_equal` verifies both functions return the same results."
   ]
  },
  {
   "cell_type": "code",
   "execution_count": 5,
   "id": "3ca040cb",
   "metadata": {},
   "outputs": [],
   "source": [
    "almost_equal(fft_np, fft_cus)"
   ]
  },
  {
   "cell_type": "markdown",
   "id": "7fe77440",
   "metadata": {},
   "source": [
    "Let's do the same with `fft_length < shape[1]`."
   ]
  },
  {
   "cell_type": "code",
   "execution_count": 6,
   "id": "3a747a4a",
   "metadata": {},
   "outputs": [
    {
     "data": {
      "text/plain": [
       "array([[ 0.50121731+0.j        , -1.76725248+1.19033269j],\n",
       "       [ 1.84486783+0.j        , -0.13533521+1.86170961j],\n",
       "       [-1.49032012+0.j        , -0.17000796+0.02887427j],\n",
       "       [-0.8358376 +0.j        ,  1.725943  +0.19581766j],\n",
       "       [ 0.9690519 +0.j        , -1.34143379+0.70979425j]])"
      ]
     },
     "execution_count": 6,
     "metadata": {},
     "output_type": "execute_result"
    }
   ],
   "source": [
    "fft_np3 = numpy.fft.rfft(rnd, n=3)\n",
    "fft_cus3 = dft_real(rnd, fft_length=3)\n",
    "fft_np3"
   ]
  },
  {
   "cell_type": "code",
   "execution_count": 7,
   "id": "0db6247b",
   "metadata": {},
   "outputs": [],
   "source": [
    "almost_equal(fft_np3, fft_cus3)"
   ]
  },
  {
   "cell_type": "markdown",
   "id": "31a6ac9c",
   "metadata": {},
   "source": [
    "## RFFT in ONNX\n",
    "\n",
    "Let's assume first the number of column of the input matrix is fixed. The result of function `dft_real_cst` can be considered as constant."
   ]
  },
  {
   "cell_type": "code",
   "execution_count": 8,
   "id": "efb67b9b",
   "metadata": {
    "scrolled": false
   },
   "outputs": [
    {
     "data": {
      "text/plain": [
       "array([[[-1.3641814 ,  2.3512614 , -3.4774065 , -1.7305996 ],\n",
       "        [ 0.6441313 , -0.87221646,  1.0705215 ,  1.3161929 ],\n",
       "        [ 1.3891523 , -1.1198004 , -0.25900146, -1.4511662 ],\n",
       "        [-1.8638077 ,  2.3779864 ,  1.425402  ,  0.18057205],\n",
       "        [ 4.1150527 , -3.3563478 , -0.38524887, -0.31538135]],\n",
       "\n",
       "       [[ 0.        , -1.4777277 ,  3.402579  ,  1.6450533 ],\n",
       "        [ 0.        , -1.8795203 , -1.1863071 ,  5.605154  ],\n",
       "        [ 0.        ,  2.8774288 ,  0.17339343,  1.2479873 ],\n",
       "        [ 0.        ,  1.7200862 ,  1.5771378 ,  1.3203983 ],\n",
       "        [ 0.        , -0.41940016, -1.39454   ,  1.7538376 ]]],\n",
       "      dtype=float32)"
      ]
     },
     "execution_count": 8,
     "metadata": {},
     "output_type": "execute_result"
    }
   ],
   "source": [
    "from typing import Any\n",
    "import mlprodict.npy.numpy_onnx_impl as npnx\n",
    "from mlprodict.npy import onnxnumpy_np\n",
    "from mlprodict.npy.onnx_numpy_annotation import NDArrayType\n",
    "# from mlprodict.onnxrt import OnnxInference\n",
    "\n",
    "@onnxnumpy_np(signature=NDArrayType((\"T:all\", ), dtypes_out=('T',)))\n",
    "def onnx_rfft(x, fft_length=None):\n",
    "    if fft_length is None:\n",
    "        raise RuntimeError(\"fft_length must be specified.\")\n",
    "    \n",
    "    size = fft_length // 2 + 1\n",
    "    cst = dft_real_cst(fft_length, fft_length).astype(numpy.float32)\n",
    "    xt = npnx.transpose(x, (1, 0))\n",
    "    res = npnx.matmul(cst[:, :, :fft_length], xt[:fft_length])[:, :size, :]\n",
    "    return npnx.transpose(res, (0, 2, 1))\n",
    "\n",
    "fft_onx = onnx_rfft(rnd, fft_length=rnd.shape[1])\n",
    "fft_onx"
   ]
  },
  {
   "cell_type": "code",
   "execution_count": 9,
   "id": "c4b6b1a5",
   "metadata": {},
   "outputs": [],
   "source": [
    "almost_equal(fft_cus, fft_onx)"
   ]
  },
  {
   "cell_type": "markdown",
   "id": "a8c35327",
   "metadata": {},
   "source": [
    "The corresponding ONNX graph is the following:"
   ]
  },
  {
   "cell_type": "code",
   "execution_count": 10,
   "id": "4d1a85b0",
   "metadata": {},
   "outputs": [
    {
     "data": {
      "text/html": [
       "<div id=\"M32ca519460de4069bd6800896d152f95-cont\"><div id=\"M32ca519460de4069bd6800896d152f95\" style=\"width:100%;height:100%;\"></div></div>\n",
       "<script>\n",
       "\n",
       "require(['http://www.xavierdupre.fr/js/vizjs/viz.js'], function() { var svgGraph = Viz(\"digraph{\\n  orientation=portrait;\\n  size=None;\\n  ranksep=0.25;\\n  nodesep=0.05;\\n\\n  x [shape=box color=red label=\\\"x\\nfloat(('?',))\\\" fontsize=10];\\n\\n  y [shape=box color=green label=\\\"y\\nfloat(('?',))\\\" fontsize=10];\\n\\n  Ma_MatMulcst [shape=box label=\\\"Ma_MatMulcst\\nfloat32((2, 7, 7))\\n[[[ 1.          1.          1.          1.        ...\\\" fontsize=10];\\n  Sl_Slicecst [shape=box label=\\\"Sl_Slicecst\\nint64((1,))\\n[0]\\\" fontsize=10];\\n  Sl_Slicecst1 [shape=box label=\\\"Sl_Slicecst1\\nint64((1,))\\n[7]\\\" fontsize=10];\\n  Sl_Slicecst4 [shape=box label=\\\"Sl_Slicecst4\\nint64((1,))\\n[4]\\\" fontsize=10];\\n  Sl_Slicecst5 [shape=box label=\\\"Sl_Slicecst5\\nint64((1,))\\n[1]\\\" fontsize=10];\\n\\n  Tr_transposed0 [shape=box label=\\\"Tr_transposed0\\\" fontsize=10];\\n  Tr_Transpose [shape=box style=\\\"filled,rounded\\\" color=orange label=\\\"Transpose\\n(Tr_Transpose)\\nperm=[1 0]\\\" fontsize=10];\\n  x -> Tr_Transpose;\\n  Tr_Transpose -> Tr_transposed0;\\n\\n  Sl_output01 [shape=box label=\\\"Sl_output01\\\" fontsize=10];\\n  Sl_Slice [shape=box style=\\\"filled,rounded\\\" color=orange label=\\\"Slice\\n(Sl_Slice)\\\" fontsize=10];\\n  Tr_transposed0 -> Sl_Slice;\\n  Sl_Slicecst -> Sl_Slice;\\n  Sl_Slicecst1 -> Sl_Slice;\\n  Sl_Slicecst -> Sl_Slice;\\n  Sl_Slice -> Sl_output01;\\n\\n  Ma_Y0 [shape=box label=\\\"Ma_Y0\\\" fontsize=10];\\n  Ma_MatMul [shape=box style=\\\"filled,rounded\\\" color=orange label=\\\"MatMul\\n(Ma_MatMul)\\\" fontsize=10];\\n  Ma_MatMulcst -> Ma_MatMul;\\n  Sl_output01 -> Ma_MatMul;\\n  Ma_MatMul -> Ma_Y0;\\n\\n  Sl_output0 [shape=box label=\\\"Sl_output0\\\" fontsize=10];\\n  Sl_Slice1 [shape=box style=\\\"filled,rounded\\\" color=orange label=\\\"Slice\\n(Sl_Slice1)\\\" fontsize=10];\\n  Ma_Y0 -> Sl_Slice1;\\n  Sl_Slicecst -> Sl_Slice1;\\n  Sl_Slicecst4 -> Sl_Slice1;\\n  Sl_Slicecst5 -> Sl_Slice1;\\n  Sl_Slice1 -> Sl_output0;\\n\\n  Tr_Transpose1 [shape=box style=\\\"filled,rounded\\\" color=orange label=\\\"Transpose\\n(Tr_Transpose1)\\nperm=[0 2 1]\\\" fontsize=10];\\n  Sl_output0 -> Tr_Transpose1;\\n  Tr_Transpose1 -> y;\\n}\");\n",
       "document.getElementById('M32ca519460de4069bd6800896d152f95').innerHTML = svgGraph; });\n",
       "\n",
       "</script>"
      ],
      "text/plain": [
       "<jyquickhelper.jspy.render_nb_js_dot.RenderJsDot at 0x24c38fbf250>"
      ]
     },
     "execution_count": 10,
     "metadata": {},
     "output_type": "execute_result"
    }
   ],
   "source": [
    "key = list(onnx_rfft.signed_compiled)[0]\n",
    "%onnxview onnx_rfft.signed_compiled[key].compiled.onnx_"
   ]
  },
  {
   "cell_type": "code",
   "execution_count": 11,
   "id": "6cf18aca",
   "metadata": {},
   "outputs": [],
   "source": [
    "fft_onx3 = onnx_rfft(rnd, fft_length=3)\n",
    "almost_equal(fft_cus3, fft_onx3)"
   ]
  },
  {
   "cell_type": "markdown",
   "id": "6b466fd4",
   "metadata": {},
   "source": [
    "## FFT 2D\n",
    "\n",
    "Below the code for complex features."
   ]
  },
  {
   "cell_type": "code",
   "execution_count": 12,
   "id": "e0020084",
   "metadata": {},
   "outputs": [
    {
     "data": {
      "text/plain": [
       "array([[ 5.56511808+0.j        ,  2.40434541-6.58876113j,\n",
       "        -2.99787318+6.09018702j,  2.95547828-4.78324036j],\n",
       "       [-1.46413093-9.60314657j, -1.66675694+0.60494258j,\n",
       "        -2.49781725+0.06244585j, -4.22491665-2.62906297j],\n",
       "       [-1.06488187-4.9975721j , -7.53624925+2.11727626j,\n",
       "        -2.93212515+2.35814643j, -1.32906648-6.29456206j],\n",
       "       [-1.06488187+4.9975721j ,  1.28429404-3.79395468j,\n",
       "        -4.70865157+7.14245256j,  4.69409373-0.6235566j ],\n",
       "       [-1.46413093+9.60314657j, -3.6701756 -3.08301071j,\n",
       "        -0.67943963-5.20582724j,  5.05462128+3.35367375j]])"
      ]
     },
     "execution_count": 12,
     "metadata": {},
     "output_type": "execute_result"
    }
   ],
   "source": [
    "def _DFT_cst(N, fft_length, trunc=True):\n",
    "    n = numpy.arange(N)\n",
    "    k = n.reshape((N, 1)).astype(numpy.float64)\n",
    "    M = numpy.exp(-2j * numpy.pi * k * n / fft_length)\n",
    "    return M[:fft_length // 2 + 1] if trunc else M\n",
    "\n",
    "def DFT(x, fft_length=None, axis=1):\n",
    "    if axis == 1:\n",
    "        x = x.T\n",
    "    if fft_length is None:\n",
    "        fft_length = x.shape[0]\n",
    "    cst = _DFT_cst(x.shape[0], fft_length, trunc=axis==1)\n",
    "    if axis == 1:\n",
    "        return numpy.matmul(cst, x).T\n",
    "    return numpy.matmul(cst, x)\n",
    "\n",
    "def fft2d_(mat, fft_length):\n",
    "    mat = mat[:fft_length[0], :fft_length[1]]\n",
    "    res = mat.copy()\n",
    "    res = DFT(res, fft_length[1], axis=1)\n",
    "    res = DFT(res, fft_length[0], axis=0)\n",
    "    return res[:fft_length[0], :fft_length[1]//2 + 1]\n",
    "\n",
    "\n",
    "rnd = numpy.random.randn(5, 7).astype(numpy.float32)\n",
    "fft2d_np_ = fft2d_(rnd, rnd.shape)\n",
    "fft2d_np = numpy.fft.rfft2(rnd)\n",
    "fft2d_np_"
   ]
  },
  {
   "cell_type": "code",
   "execution_count": 13,
   "id": "777d2775",
   "metadata": {},
   "outputs": [],
   "source": [
    "almost_equal(fft2d_np_, fft2d_np)"
   ]
  },
  {
   "cell_type": "markdown",
   "id": "cfbbe2fd",
   "metadata": {},
   "source": [
    "It implies the computation of two FFT 1D along both axes. However, as ONNX does not support complex, it needs to be rewritten with only real numbers. The algorithm can be summarized into this formula $FFT(FFT(x, axis=1), axis=0)$. If *x* is real, $FFT(x, .)$ is complex. We still assume *x* is real, it then becomes (FFT is a linear operator, so $FFT(ix)=i FFT(x)$):\n",
    "\n",
    "* $y = FFT(x, axis=1)$\n",
    "* $z_r = FFT(Real(y), axis=0)$, $z_i = FFT(Imag(y), axis=0)$\n",
    "* $z = z_r + i z_i$\n",
    "\n",
    "*z* is the desired output. The following implementation is probably not the most efficient one. It avoids inplace computation as ONNX does like that."
   ]
  },
  {
   "cell_type": "code",
   "execution_count": 14,
   "id": "dd4fc711",
   "metadata": {},
   "outputs": [],
   "source": [
    "def fft2d(mat, fft_length):\n",
    "    mat = mat[:fft_length[0], :fft_length[1]]\n",
    "    res = mat.copy()\n",
    "    \n",
    "    # first FFT\n",
    "    res = dft_real(res, fft_length=fft_length[1], transpose=True)\n",
    "    \n",
    "    # second FFT decomposed on FFT on real part and imaginary part\n",
    "    res2_real = dft_real(res[0], fft_length=fft_length[0], transpose=False)\n",
    "    res2_imag = dft_real(res[1], fft_length=fft_length[0], transpose=False)    \n",
    "    res2_imag2 = numpy.vstack([-res2_imag[1:2], res2_imag[:1]])\n",
    "    res = res2_real + res2_imag2\n",
    "    size = fft_length[1]//2 + 1\n",
    "    return res[:, :fft_length[0], :size]\n",
    "\n",
    "\n",
    "fft2d_np = numpy.fft.rfft2(rnd)\n",
    "fft2d_cus = fft2d(rnd, rnd.shape)\n",
    "almost_equal(fft2d_np, fft2d_cus)"
   ]
  },
  {
   "cell_type": "code",
   "execution_count": 15,
   "id": "bb8667e6",
   "metadata": {},
   "outputs": [
    {
     "data": {
      "text/plain": [
       "array([[ 5.56511808+0.j        ,  2.40434541-6.58876113j,\n",
       "        -2.99787318+6.09018702j,  2.95547828-4.78324036j],\n",
       "       [-1.46413093-9.60314657j, -1.66675694+0.60494258j,\n",
       "        -2.49781725+0.06244585j, -4.22491665-2.62906297j],\n",
       "       [-1.06488187-4.9975721j , -7.53624925+2.11727626j,\n",
       "        -2.93212515+2.35814643j, -1.32906648-6.29456206j],\n",
       "       [-1.06488187+4.9975721j ,  1.28429404-3.79395468j,\n",
       "        -4.70865157+7.14245256j,  4.69409373-0.6235566j ],\n",
       "       [-1.46413093+9.60314657j, -3.6701756 -3.08301071j,\n",
       "        -0.67943963-5.20582724j,  5.05462128+3.35367375j]])"
      ]
     },
     "execution_count": 15,
     "metadata": {},
     "output_type": "execute_result"
    }
   ],
   "source": [
    "fft2d_np"
   ]
  },
  {
   "cell_type": "code",
   "execution_count": 16,
   "id": "56a94d97",
   "metadata": {},
   "outputs": [
    {
     "data": {
      "text/plain": [
       "array([[[ 5.56511808,  2.40434541, -2.99787318,  2.95547828],\n",
       "        [-1.46413093, -1.66675694, -2.49781725, -4.22491665],\n",
       "        [-1.06488187, -7.53624925, -2.93212515, -1.32906648],\n",
       "        [-1.06488187,  1.28429404, -4.70865157,  4.69409373],\n",
       "        [-1.46413093, -3.6701756 , -0.67943963,  5.05462128]],\n",
       "\n",
       "       [[ 0.        , -6.58876113,  6.09018702, -4.78324036],\n",
       "        [-9.60314657,  0.60494258,  0.06244585, -2.62906297],\n",
       "        [-4.9975721 ,  2.11727626,  2.35814643, -6.29456206],\n",
       "        [ 4.9975721 , -3.79395468,  7.14245256, -0.6235566 ],\n",
       "        [ 9.60314657, -3.08301071, -5.20582724,  3.35367375]]])"
      ]
     },
     "execution_count": 16,
     "metadata": {},
     "output_type": "execute_result"
    }
   ],
   "source": [
    "fft2d_cus"
   ]
  },
  {
   "cell_type": "markdown",
   "id": "faa21909",
   "metadata": {},
   "source": [
    "And with a different `fft_length`."
   ]
  },
  {
   "cell_type": "code",
   "execution_count": 17,
   "id": "bf98995f",
   "metadata": {},
   "outputs": [],
   "source": [
    "fft2d_np = numpy.fft.rfft2(rnd, (4, 6))\n",
    "fft2d_cus = fft2d(rnd, (4, 6))\n",
    "almost_equal(fft2d_np[:4, :], fft2d_cus)"
   ]
  },
  {
   "cell_type": "markdown",
   "id": "caee1f84",
   "metadata": {},
   "source": [
    "## FFT 2D in ONNX\n",
    "\n",
    "We use again the numpy API for ONNX."
   ]
  },
  {
   "cell_type": "code",
   "execution_count": 18,
   "id": "ca641274",
   "metadata": {},
   "outputs": [],
   "source": [
    "def onnx_rfft_1d(x, fft_length=None, transpose=True):\n",
    "    if fft_length is None:\n",
    "        raise RuntimeError(\"fft_length must be specified.\")\n",
    "    \n",
    "    size = fft_length // 2 + 1\n",
    "    cst = dft_real_cst(fft_length, fft_length).astype(numpy.float32)\n",
    "    if transpose:\n",
    "        xt = npnx.transpose(x, (1, 0))\n",
    "        res = npnx.matmul(cst[:, :, :fft_length], xt[:fft_length])[:, :size, :]\n",
    "        return npnx.transpose(res, (0, 2, 1))\n",
    "    else:\n",
    "        return npnx.matmul(cst[:, :, :fft_length], x[:fft_length])\n",
    "\n",
    "\n",
    "@onnxnumpy_np(signature=NDArrayType((\"T:all\", ), dtypes_out=('T',)))\n",
    "def onnx_rfft_2d(x, fft_length=None):\n",
    "    mat = x[:fft_length[0], :fft_length[1]]\n",
    "    \n",
    "    # first FFT\n",
    "    res = onnx_rfft_1d(mat, fft_length=fft_length[1], transpose=True)\n",
    "    \n",
    "    # second FFT decomposed on FFT on real part and imaginary part\n",
    "    res2_real = onnx_rfft_1d(res[0], fft_length=fft_length[0], transpose=False)\n",
    "    res2_imag = onnx_rfft_1d(res[1], fft_length=fft_length[0], transpose=False)    \n",
    "    res2_imag2 = npnx.vstack(-res2_imag[1:2], res2_imag[:1])\n",
    "    res = res2_real + res2_imag2\n",
    "    size = fft_length[1]//2 + 1\n",
    "    return res[:, :fft_length[0], :size]\n",
    "\n",
    "\n",
    "fft2d_cus = fft2d(rnd, rnd.shape)\n",
    "fft2d_onx = onnx_rfft_2d(rnd, fft_length=rnd.shape)\n",
    "almost_equal(fft2d_cus, fft2d_onx)"
   ]
  },
  {
   "cell_type": "markdown",
   "id": "20fcd8a9",
   "metadata": {},
   "source": [
    "The corresponding ONNX graph."
   ]
  },
  {
   "cell_type": "code",
   "execution_count": 19,
   "id": "b1379b06",
   "metadata": {
    "scrolled": false
   },
   "outputs": [
    {
     "data": {
      "text/html": [
       "<div id=\"Mb550574519cb4083aeeaf6e3b262a505-cont\"><div id=\"Mb550574519cb4083aeeaf6e3b262a505\" style=\"width:100%;height:100%;\"></div></div>\n",
       "<script>\n",
       "\n",
       "require(['http://www.xavierdupre.fr/js/vizjs/viz.js'], function() { var svgGraph = Viz(\"digraph{\\n  orientation=portrait;\\n  size=None;\\n  ranksep=0.25;\\n  nodesep=0.05;\\n\\n  x [shape=box color=red label=\\\"x\\nfloat(('?',))\\\" fontsize=10];\\n\\n  y [shape=box color=green label=\\\"y\\nfloat(('?',))\\\" fontsize=10];\\n\\n  Ma_MatMulcst [shape=box label=\\\"Ma_MatMulcst\\nfloat32((2, 5, 5))\\n[[[ 1.          1.          1.          1.        ...\\\" fontsize=10];\\n  Ma_MatMulcst1 [shape=box label=\\\"Ma_MatMulcst1\\nfloat32((2, 7, 7))\\n[[[ 1.          1.          1.          1.        ...\\\" fontsize=10];\\n  Sl_Slicecst [shape=box label=\\\"Sl_Slicecst\\nint64((2,))\\n[0 0]\\\" fontsize=10];\\n  Sl_Slicecst1 [shape=box label=\\\"Sl_Slicecst1\\nint64((2,))\\n[5 7]\\\" fontsize=10];\\n  Sl_Slicecst2 [shape=box label=\\\"Sl_Slicecst2\\nint64((2,))\\n[0 1]\\\" fontsize=10];\\n  Sl_Slicecst3 [shape=box label=\\\"Sl_Slicecst3\\nint64((1,))\\n[0]\\\" fontsize=10];\\n  Sl_Slicecst4 [shape=box label=\\\"Sl_Slicecst4\\nint64((1,))\\n[7]\\\" fontsize=10];\\n  Sl_Slicecst7 [shape=box label=\\\"Sl_Slicecst7\\nint64((1,))\\n[4]\\\" fontsize=10];\\n  Sl_Slicecst8 [shape=box label=\\\"Sl_Slicecst8\\nint64((1,))\\n[1]\\\" fontsize=10];\\n  Ga_Gathercst [shape=box label=\\\"Ga_Gathercst\\nint64(())\\n0\\\" fontsize=10];\\n  Sl_Slicecst10 [shape=box label=\\\"Sl_Slicecst10\\nint64((1,))\\n[5]\\\" fontsize=10];\\n  Ga_Gathercst1 [shape=box label=\\\"Ga_Gathercst1\\nint64(())\\n1\\\" fontsize=10];\\n  Sl_Slicecst16 [shape=box label=\\\"Sl_Slicecst16\\nint64((1,))\\n[2]\\\" fontsize=10];\\n  Sl_Slicecst22 [shape=box label=\\\"Sl_Slicecst22\\nint64((2,))\\n[5 4]\\\" fontsize=10];\\n  Sl_Slicecst23 [shape=box label=\\\"Sl_Slicecst23\\nint64((2,))\\n[1 2]\\\" fontsize=10];\\n\\n  Sl_output03 [shape=box label=\\\"Sl_output03\\\" fontsize=10];\\n  Sl_Slice [shape=box style=\\\"filled,rounded\\\" color=orange label=\\\"Slice\\n(Sl_Slice)\\\" fontsize=10];\\n  x -> Sl_Slice;\\n  Sl_Slicecst -> Sl_Slice;\\n  Sl_Slicecst1 -> Sl_Slice;\\n  Sl_Slicecst2 -> Sl_Slice;\\n  Sl_Slice -> Sl_output03;\\n\\n  Tr_transposed01 [shape=box label=\\\"Tr_transposed01\\\" fontsize=10];\\n  Tr_Transpose [shape=box style=\\\"filled,rounded\\\" color=orange label=\\\"Transpose\\n(Tr_Transpose)\\nperm=[1 0]\\\" fontsize=10];\\n  Sl_output03 -> Tr_Transpose;\\n  Tr_Transpose -> Tr_transposed01;\\n\\n  Sl_output02 [shape=box label=\\\"Sl_output02\\\" fontsize=10];\\n  Sl_Slice1 [shape=box style=\\\"filled,rounded\\\" color=orange label=\\\"Slice\\n(Sl_Slice1)\\\" fontsize=10];\\n  Tr_transposed01 -> Sl_Slice1;\\n  Sl_Slicecst3 -> Sl_Slice1;\\n  Sl_Slicecst4 -> Sl_Slice1;\\n  Sl_Slicecst3 -> Sl_Slice1;\\n  Sl_Slice1 -> Sl_output02;\\n\\n  Ma_Y01 [shape=box label=\\\"Ma_Y01\\\" fontsize=10];\\n  Ma_MatMul [shape=box style=\\\"filled,rounded\\\" color=orange label=\\\"MatMul\\n(Ma_MatMul)\\\" fontsize=10];\\n  Ma_MatMulcst1 -> Ma_MatMul;\\n  Sl_output02 -> Ma_MatMul;\\n  Ma_MatMul -> Ma_Y01;\\n\\n  Sl_output01 [shape=box label=\\\"Sl_output01\\\" fontsize=10];\\n  Sl_Slice2 [shape=box style=\\\"filled,rounded\\\" color=orange label=\\\"Slice\\n(Sl_Slice2)\\\" fontsize=10];\\n  Ma_Y01 -> Sl_Slice2;\\n  Sl_Slicecst3 -> Sl_Slice2;\\n  Sl_Slicecst7 -> Sl_Slice2;\\n  Sl_Slicecst8 -> Sl_Slice2;\\n  Sl_Slice2 -> Sl_output01;\\n\\n  Tr_transposed0 [shape=box label=\\\"Tr_transposed0\\\" fontsize=10];\\n  Tr_Transpose1 [shape=box style=\\\"filled,rounded\\\" color=orange label=\\\"Transpose\\n(Tr_Transpose1)\\nperm=[0 2 1]\\\" fontsize=10];\\n  Sl_output01 -> Tr_Transpose1;\\n  Tr_Transpose1 -> Tr_transposed0;\\n\\n  Ga_output0 [shape=box label=\\\"Ga_output0\\\" fontsize=10];\\n  Ga_Gather [shape=box style=\\\"filled,rounded\\\" color=orange label=\\\"Gather\\n(Ga_Gather)\\naxis=0\\\" fontsize=10];\\n  Tr_transposed0 -> Ga_Gather;\\n  Ga_Gathercst -> Ga_Gather;\\n  Ga_Gather -> Ga_output0;\\n\\n  Sl_output0 [shape=box label=\\\"Sl_output0\\\" fontsize=10];\\n  Sl_Slice3 [shape=box style=\\\"filled,rounded\\\" color=orange label=\\\"Slice\\n(Sl_Slice3)\\\" fontsize=10];\\n  Ga_output0 -> Sl_Slice3;\\n  Sl_Slicecst3 -> Sl_Slice3;\\n  Sl_Slicecst10 -> Sl_Slice3;\\n  Sl_Slicecst3 -> Sl_Slice3;\\n  Sl_Slice3 -> Sl_output0;\\n\\n  Ma_Y0 [shape=box label=\\\"Ma_Y0\\\" fontsize=10];\\n  Ma_MatMul1 [shape=box style=\\\"filled,rounded\\\" color=orange label=\\\"MatMul\\n(Ma_MatMul1)\\\" fontsize=10];\\n  Ma_MatMulcst -> Ma_MatMul1;\\n  Sl_output0 -> Ma_MatMul1;\\n  Ma_MatMul1 -> Ma_Y0;\\n\\n  Ga_output02 [shape=box label=\\\"Ga_output02\\\" fontsize=10];\\n  Ga_Gather1 [shape=box style=\\\"filled,rounded\\\" color=orange label=\\\"Gather\\n(Ga_Gather1)\\naxis=0\\\" fontsize=10];\\n  Tr_transposed0 -> Ga_Gather1;\\n  Ga_Gathercst1 -> Ga_Gather1;\\n  Ga_Gather1 -> Ga_output02;\\n\\n  Sl_output06 [shape=box label=\\\"Sl_output06\\\" fontsize=10];\\n  Sl_Slice4 [shape=box style=\\\"filled,rounded\\\" color=orange label=\\\"Slice\\n(Sl_Slice4)\\\" fontsize=10];\\n  Ga_output02 -> Sl_Slice4;\\n  Sl_Slicecst3 -> Sl_Slice4;\\n  Sl_Slicecst10 -> Sl_Slice4;\\n  Sl_Slicecst3 -> Sl_Slice4;\\n  Sl_Slice4 -> Sl_output06;\\n\\n  Ma_Y03 [shape=box label=\\\"Ma_Y03\\\" fontsize=10];\\n  Ma_MatMul2 [shape=box style=\\\"filled,rounded\\\" color=orange label=\\\"MatMul\\n(Ma_MatMul2)\\\" fontsize=10];\\n  Ma_MatMulcst -> Ma_MatMul2;\\n  Sl_output06 -> Ma_MatMul2;\\n  Ma_MatMul2 -> Ma_Y03;\\n\\n  Sl_output05 [shape=box label=\\\"Sl_output05\\\" fontsize=10];\\n  Sl_Slice5 [shape=box style=\\\"filled,rounded\\\" color=orange label=\\\"Slice\\n(Sl_Slice5)\\\" fontsize=10];\\n  Ma_Y03 -> Sl_Slice5;\\n  Sl_Slicecst8 -> Sl_Slice5;\\n  Sl_Slicecst16 -> Sl_Slice5;\\n  Sl_Slicecst3 -> Sl_Slice5;\\n  Sl_Slice5 -> Sl_output05;\\n\\n  Ne_Y0 [shape=box label=\\\"Ne_Y0\\\" fontsize=10];\\n  Ne_Neg [shape=box style=\\\"filled,rounded\\\" color=orange label=\\\"Neg\\n(Ne_Neg)\\\" fontsize=10];\\n  Sl_output05 -> Ne_Neg;\\n  Ne_Neg -> Ne_Y0;\\n\\n  Sl_output07 [shape=box label=\\\"Sl_output07\\\" fontsize=10];\\n  Sl_Slice6 [shape=box style=\\\"filled,rounded\\\" color=orange label=\\\"Slice\\n(Sl_Slice6)\\\" fontsize=10];\\n  Ma_Y03 -> Sl_Slice6;\\n  Sl_Slicecst3 -> Sl_Slice6;\\n  Sl_Slicecst8 -> Sl_Slice6;\\n  Sl_Slicecst3 -> Sl_Slice6;\\n  Sl_Slice6 -> Sl_output07;\\n\\n  Co_concat_result0 [shape=box label=\\\"Co_concat_result0\\\" fontsize=10];\\n  Co_Concat [shape=box style=\\\"filled,rounded\\\" color=orange label=\\\"Concat\\n(Co_Concat)\\naxis=0\\\" fontsize=10];\\n  Ne_Y0 -> Co_Concat;\\n  Sl_output07 -> Co_Concat;\\n  Co_Concat -> Co_concat_result0;\\n\\n  Ad_C0 [shape=box label=\\\"Ad_C0\\\" fontsize=10];\\n  Ad_Add [shape=box style=\\\"filled,rounded\\\" color=orange label=\\\"Add\\n(Ad_Add)\\\" fontsize=10];\\n  Ma_Y0 -> Ad_Add;\\n  Co_concat_result0 -> Ad_Add;\\n  Ad_Add -> Ad_C0;\\n\\n  Sl_Slice7 [shape=box style=\\\"filled,rounded\\\" color=orange label=\\\"Slice\\n(Sl_Slice7)\\\" fontsize=10];\\n  Ad_C0 -> Sl_Slice7;\\n  Sl_Slicecst -> Sl_Slice7;\\n  Sl_Slicecst22 -> Sl_Slice7;\\n  Sl_Slicecst23 -> Sl_Slice7;\\n  Sl_Slice7 -> y;\\n}\");\n",
       "document.getElementById('Mb550574519cb4083aeeaf6e3b262a505').innerHTML = svgGraph; });\n",
       "\n",
       "</script>"
      ],
      "text/plain": [
       "<jyquickhelper.jspy.render_nb_js_dot.RenderJsDot at 0x24c44482d30>"
      ]
     },
     "execution_count": 19,
     "metadata": {},
     "output_type": "execute_result"
    }
   ],
   "source": [
    "key = list(onnx_rfft_2d.signed_compiled)[0]\n",
    "%onnxview onnx_rfft_2d.signed_compiled[key].compiled.onnx_"
   ]
  },
  {
   "cell_type": "code",
   "execution_count": 20,
   "id": "3034da60",
   "metadata": {},
   "outputs": [],
   "source": [
    "with open(\"fft2d.onnx\", \"wb\") as f:\n",
    "    key = list(onnx_rfft_2d.signed_compiled)[0]\n",
    "    f.write(onnx_rfft_2d.signed_compiled[key].compiled.onnx_.SerializeToString())"
   ]
  },
  {
   "cell_type": "markdown",
   "id": "3a747f0c",
   "metadata": {},
   "source": [
    "With a different `fft_length`."
   ]
  },
  {
   "cell_type": "code",
   "execution_count": 21,
   "id": "16732cbb",
   "metadata": {},
   "outputs": [],
   "source": [
    "fft2d_cus = fft2d(rnd, (4, 5))\n",
    "fft2d_onx = onnx_rfft_2d(rnd, fft_length=(4, 5))\n",
    "almost_equal(fft2d_cus, fft2d_onx)"
   ]
  },
  {
   "cell_type": "markdown",
   "id": "04924e7d",
   "metadata": {},
   "source": [
    "This implementation of FFT in ONNX assumes shapes and fft lengths are constant. Otherwise, the matrix returned by function `dft_real_cst` must be converted as well. That's left as an exercise."
   ]
  },
  {
   "cell_type": "markdown",
   "id": "c9da88a0",
   "metadata": {},
   "source": [
    "## FFT2D with shape (3,1,4)\n",
    "\n",
    "Previous implementation expects the input matrix to have two dimensions. It fails with 3."
   ]
  },
  {
   "cell_type": "code",
   "execution_count": 22,
   "id": "66ba70ee",
   "metadata": {},
   "outputs": [
    {
     "data": {
      "text/plain": [
       "(3, 1, 4)"
      ]
     },
     "execution_count": 22,
     "metadata": {},
     "output_type": "execute_result"
    }
   ],
   "source": [
    "shape = (3, 1, 4)\n",
    "fft_length = (1, 4)\n",
    "rnd = numpy.random.randn(*list(shape)).astype(numpy.float32)\n",
    "fft2d_numpy = numpy.fft.fft2(rnd, fft_length)\n",
    "fft2d_numpy.shape"
   ]
  },
  {
   "cell_type": "code",
   "execution_count": 23,
   "id": "a4d123e1",
   "metadata": {},
   "outputs": [
    {
     "data": {
      "text/plain": [
       "array([[[ 1.62552961+0.j        , -2.33151346-0.26713149j,\n",
       "          1.52621416+0.j        , -2.33151346+0.26713149j]],\n",
       "\n",
       "       [[ 1.56267625+0.j        , -2.11182106+0.97715026j,\n",
       "         -1.59615904+0.j        , -2.11182106-0.97715026j]],\n",
       "\n",
       "       [[-2.11940277+0.j        ,  2.92459655+2.19828379j,\n",
       "         -1.98709261+0.j        ,  2.92459655-2.19828379j]]])"
      ]
     },
     "execution_count": 23,
     "metadata": {},
     "output_type": "execute_result"
    }
   ],
   "source": [
    "fft2d_numpy"
   ]
  },
  {
   "cell_type": "code",
   "execution_count": 24,
   "id": "4b1bd05b",
   "metadata": {},
   "outputs": [
    {
     "name": "stdout",
     "output_type": "stream",
     "text": [
      "axes don't match array\n"
     ]
    }
   ],
   "source": [
    "try:\n",
    "    fft2d_cus = fft2d(rnd, fft_length)\n",
    "except Exception as e:\n",
    "    print(e)\n",
    "# fft2d_onx = onnx_rfft_2d(rnd, fft_length=fft_length)"
   ]
  },
  {
   "cell_type": "markdown",
   "id": "7bd79a00",
   "metadata": {},
   "source": [
    "### numpy version\n",
    "\n",
    "Let's do it again with numpy first. [fft2](https://numpy.org/doc/stable/reference/generated/numpy.fft.fft2.html) performs `fft2` on the last two axis as many times as the first axis. The goal is still to have an implementation which works for any dimension."
   ]
  },
  {
   "cell_type": "code",
   "execution_count": 25,
   "id": "3b618335",
   "metadata": {},
   "outputs": [],
   "source": [
    "conc = []\n",
    "for i in range(rnd.shape[0]):\n",
    "    f2 = fft2d(rnd[i], fft_length)\n",
    "    conc.append(numpy.expand_dims(f2, 0))\n",
    "res = numpy.vstack(conc).transpose(1, 0, 2, 3)\n",
    "almost_equal(fft2d_numpy[:, :, :3], res)"
   ]
  },
  {
   "cell_type": "markdown",
   "id": "7c837e7a",
   "metadata": {},
   "source": [
    "It works. And now a more efficient implementation. It is better to read [matmul](https://numpy.org/doc/stable/reference/generated/numpy.matmul.html) description before. To summarize, a third axis is equivalent to many matrix multiplications over the last two axes, as many as the dimension of the first axis: ``matmul(A[I,J,K], B[I,K,L]) --> C[I,J,L]``. Broadcasting also works... ``matmul(A[1,J,K], B[I,K,L]) --> C[I,J,L]``."
   ]
  },
  {
   "cell_type": "code",
   "execution_count": 26,
   "id": "29055cb2",
   "metadata": {},
   "outputs": [],
   "source": [
    "def dft_real_d3(x, fft_length=None, transpose=True):\n",
    "    if len(x.shape) != 3:\n",
    "        raise RuntimeError(\"Not implemented for shape=%r.\" % x.shape)\n",
    "    N = x.shape[1]\n",
    "    C = x.shape[-1] if transpose else x.shape[-2]\n",
    "    if fft_length is None:\n",
    "        fft_length = x.shape[-1]\n",
    "    size = fft_length // 2 + 1\n",
    "\n",
    "    cst = dft_real_cst(C, fft_length)\n",
    "    if transpose:\n",
    "        x = numpy.transpose(x, (0, 2, 1))\n",
    "        a = cst[:, :, :fft_length]\n",
    "        b = x[:, :fft_length, :]\n",
    "        a = numpy.expand_dims(a, 0)\n",
    "        b = numpy.expand_dims(b, 1)\n",
    "        res = numpy.matmul(a, b)\n",
    "        res = res[:, :, :size, :]\n",
    "        return numpy.transpose(res, (1, 0, 3, 2))\n",
    "    else:\n",
    "        a = cst[:, :, :fft_length]\n",
    "        b = x[:, :fft_length, :]\n",
    "        a = numpy.expand_dims(a, 0)\n",
    "        b = numpy.expand_dims(b, 1)\n",
    "        res = numpy.matmul(a, b)\n",
    "        return numpy.transpose(res, (1, 0, 2, 3))\n",
    "\n",
    "\n",
    "def fft2d_d3(mat, fft_length):\n",
    "    mat = mat[:, :fft_length[-2], :fft_length[-1]]\n",
    "    res = mat.copy()\n",
    "    \n",
    "    # first FFT\n",
    "    res = dft_real_d3(res, fft_length=fft_length[-1], transpose=True)\n",
    "    \n",
    "    # second FFT decomposed on FFT on real part and imaginary part\n",
    "    res2_real = dft_real_d3(res[0], fft_length=fft_length[-2], transpose=False)\n",
    "    res2_imag = dft_real_d3(res[1], fft_length=fft_length[-2], transpose=False)\n",
    "    res2_imag2 = numpy.vstack([-res2_imag[1:2], res2_imag[:1]])\n",
    "    res = res2_real + res2_imag2\n",
    "    size = fft_length[-1]//2 + 1\n",
    "    return res[:, :, :fft_length[-2], :size]\n",
    "\n",
    "\n",
    "def fft2d_any(mat, fft_length):\n",
    "    new_shape = (-1, ) + mat.shape[-2:]\n",
    "    mat2 = mat.reshape(new_shape)\n",
    "    f2 = fft2d_d3(mat2, fft_length)\n",
    "    new_shape = (2, ) + mat.shape[:-2] + f2.shape[-2:]\n",
    "    return f2.reshape(new_shape)\n",
    "\n",
    "\n",
    "shape = (3, 1, 4)\n",
    "fft_length = (1, 4)\n",
    "rnd = numpy.random.randn(*list(shape)).astype(numpy.float32)\n",
    "fft2d_numpy = numpy.fft.fft2(rnd, fft_length)\n",
    "fft2d_cus = fft2d_any(rnd, fft_length)\n",
    "almost_equal(fft2d_numpy[..., :3], fft2d_cus)"
   ]
  },
  {
   "cell_type": "markdown",
   "id": "0128b3f2",
   "metadata": {},
   "source": [
    "We check with more shapes to see if the implementation works for all of them."
   ]
  },
  {
   "cell_type": "code",
   "execution_count": 27,
   "id": "82f5fc78",
   "metadata": {},
   "outputs": [
    {
     "name": "stdout",
     "output_type": "stream",
     "text": [
      "OK  x.shape=(3, 1, 4) length=(1, 4) output shape=(3, 1, 4) or (2, 3, 1, 3)\n",
      "OK  x.shape=(3, 1, 4) length=(1, 4) output shape=(3, 1, 4) or (2, 3, 1, 3)\n",
      "OK  x.shape=(3, 1, 4) length=(1, 4) output shape=(3, 1, 4) or (2, 3, 1, 3)\n",
      "OK  x.shape=(3, 1, 4) length=(1, 2) output shape=(3, 1, 2) or (2, 3, 1, 2)\n",
      "OK  x.shape=(3, 1, 4) length=(1, 1) output shape=(3, 1, 1) or (2, 3, 1, 1)\n",
      "OK  x.shape=(5, 7) length=(5, 7) output shape=(5, 7) or (2, 5, 4)\n",
      "OK  x.shape=(5, 7) length=(1, 7) output shape=(1, 7) or (2, 1, 4)\n",
      "OK  x.shape=(5, 7) length=(2, 7) output shape=(2, 7) or (2, 2, 4)\n",
      "OK  x.shape=(5, 7) length=(5, 2) output shape=(5, 2) or (2, 5, 2)\n",
      "OK  x.shape=(5, 7) length=(3, 4) output shape=(3, 4) or (2, 3, 3)\n",
      "OK  x.shape=(3, 5, 7) length=(5, 7) output shape=(3, 5, 7) or (2, 3, 5, 4)\n",
      "OK  x.shape=(3, 5, 7) length=(1, 7) output shape=(3, 1, 7) or (2, 3, 1, 4)\n",
      "OK  x.shape=(3, 5, 7) length=(2, 7) output shape=(3, 2, 7) or (2, 3, 2, 4)\n",
      "OK  x.shape=(3, 5, 7) length=(5, 2) output shape=(3, 5, 2) or (2, 3, 5, 2)\n",
      "OK  x.shape=(3, 5, 7) length=(3, 4) output shape=(3, 3, 4) or (2, 3, 3, 3)\n",
      "OK  x.shape=(7, 5) length=(7, 5) output shape=(7, 5) or (2, 7, 3)\n",
      "OK  x.shape=(7, 5) length=(1, 5) output shape=(1, 5) or (2, 1, 3)\n",
      "OK  x.shape=(7, 5) length=(2, 5) output shape=(2, 5) or (2, 2, 3)\n",
      "OK  x.shape=(7, 5) length=(7, 2) output shape=(7, 2) or (2, 7, 2)\n",
      "OK  x.shape=(7, 5) length=(3, 4) output shape=(3, 4) or (2, 3, 3)\n"
     ]
    }
   ],
   "source": [
    "for shape in [(3, 1, 4), (5, 7), (3, 5, 7), (7, 5)]:\n",
    "    for fft_length in [shape[-2:], (1, shape[-1]),\n",
    "                       (min(2, shape[-2]), shape[-1]),\n",
    "                       (shape[-2], 2),\n",
    "                       (min(3, shape[-2]), min(4, shape[-2]))]:\n",
    "        x  = numpy.random.randn(*list(shape)).astype(numpy.float32)\n",
    "        fnp = numpy.fft.fft2(x, fft_length)\n",
    "        if len(fnp.shape) == 2:\n",
    "            fn= numpy.expand_dims(fnp, 0)\n",
    "        try:\n",
    "            cus = fft2d_any(x, fft_length)\n",
    "        except IndexError as e:\n",
    "            print(\"ERR x.shape=%r length=%r error=%r\" % (x.shape, fft_length, e))\n",
    "            continue\n",
    "        try:\n",
    "            almost_equal(fnp[..., :cus.shape[-1]], cus)\n",
    "        except (AssertionError, IndexError) as e:\n",
    "            print(\"DIS x.shape=%r length=%r error=%r  output shape=%r or %r\" % (\n",
    "                x.shape, fft_length, e, fnp.shape, cus.shape))\n",
    "            continue\n",
    "        print(\"OK  x.shape=%r length=%r output shape=%r or %r\" % (\n",
    "            x.shape, fft_length, fnp.shape, cus.shape))"
   ]
  },
  {
   "cell_type": "markdown",
   "id": "c5f5229a",
   "metadata": {},
   "source": [
    "### ONNX version\n",
    "\n",
    "Let's look into the differences first."
   ]
  },
  {
   "cell_type": "code",
   "execution_count": 28,
   "id": "025c2d88",
   "metadata": {},
   "outputs": [],
   "source": [
    "%load_ext pyquickhelper"
   ]
  },
  {
   "cell_type": "code",
   "execution_count": 29,
   "id": "8a9d153c",
   "metadata": {},
   "outputs": [
    {
     "data": {
      "text/html": [
       "<style>\n",
       "table td, table th, table tr {text-align:left !important; white-space: pre;}\n",
       "</style>\n"
      ],
      "text/plain": [
       "<IPython.core.display.HTML object>"
      ]
     },
     "metadata": {},
     "output_type": "display_data"
    }
   ],
   "source": [
    "%%html\n",
    "<style>\n",
    "table td, table th, table tr {text-align:left !important; white-space: pre;}\n",
    "</style>"
   ]
  },
  {
   "cell_type": "code",
   "execution_count": 39,
   "id": "82664bc5",
   "metadata": {},
   "outputs": [
    {
     "name": "stderr",
     "output_type": "stream",
     "text": [
      "100%|██████████| 24/24 [00:00<00:00, 776.23it/s]\n"
     ]
    },
    {
     "data": {
      "text/html": [
       "<table style=\"white-space: pre; 1px solid black; font-family:courier; text-align:left !important;\">\n",
       "<tr style=\"1px solid black;\"><td><code>0</code></td><td><code>0</code></td><td style=\"background-color:#E5E7E9;\"><code style=\"background-color:#E5E7E9;\">def dft_real(x, fft_length=None, transpose=True):</code></code></td><td style=\"background-color:#E5E7E9;\"><code style=\"background-color:#E5E7E9;\"><code>def dft_real<span style=\"color:#196F3D;\">_</span><span style=\"color:#196F3D;\">d</span><span style=\"color:#196F3D;\">3</span>(x, fft_length=None, transpose=True):</code></td></tr>\n",
       "<tr style=\"1px solid black;\"><td><code>1</code></td><td><code>1</code></td><td style=\"background-color:#E5E7E9;\"><code style=\"background-color:#E5E7E9;\">    if len(x.shape) =<span style=\"color:#BA4A00;\">=</span> <span style=\"color:#BA4A00;\">1</span>:</code></code></td><td style=\"background-color:#E5E7E9;\"><code style=\"background-color:#E5E7E9;\"><code>    if len(x.shape) <span style=\"color:#196F3D;\">!</span>= <span style=\"color:#196F3D;\">3</span>:</code></td></tr>\n",
       "<tr style=\"1px solid black;\"><td><code>2</code></td><td><code>2</code></td><td style=\"background-color:#E5E7E9;\"><code style=\"background-color:#E5E7E9;\">        <span style=\"color:#BA4A00;\">x</span> = x.<span style=\"color:#BA4A00;\">r</span><span style=\"color:#BA4A00;\">e</span>shape<span style=\"color:#BA4A00;\">(</span><span style=\"color:#BA4A00;\">(</span><span style=\"color:#BA4A00;\">1</span><span style=\"color:#BA4A00;\">,</span><span style=\"color:#BA4A00;\"> </span><span style=\"color:#BA4A00;\">-</span><span style=\"color:#BA4A00;\">1</span>)<span style=\"color:#BA4A00;\">)</span></code></code></td><td style=\"background-color:#E5E7E9;\"><code style=\"background-color:#E5E7E9;\"><code>        <span style=\"color:#196F3D;\">r</span><span style=\"color:#196F3D;\">a</span><span style=\"color:#196F3D;\">i</span><span style=\"color:#196F3D;\">s</span><span style=\"color:#196F3D;\">e</span> <span style=\"color:#196F3D;\">R</span><span style=\"color:#196F3D;\">u</span><span style=\"color:#196F3D;\">n</span><span style=\"color:#196F3D;\">t</span><span style=\"color:#196F3D;\">i</span><span style=\"color:#196F3D;\">m</span><span style=\"color:#196F3D;\">e</span><span style=\"color:#196F3D;\">E</span><span style=\"color:#196F3D;\">r</span><span style=\"color:#196F3D;\">r</span><span style=\"color:#196F3D;\">o</span><span style=\"color:#196F3D;\">r</span><span style=\"color:#196F3D;\">(</span><span style=\"color:#196F3D;\">\"</span><span style=\"color:#196F3D;\">N</span><span style=\"color:#196F3D;\">o</span><span style=\"color:#196F3D;\">t</span><span style=\"color:#196F3D;\"> </span><span style=\"color:#196F3D;\">i</span><span style=\"color:#196F3D;\">m</span><span style=\"color:#196F3D;\">p</span><span style=\"color:#196F3D;\">l</span><span style=\"color:#196F3D;\">e</span><span style=\"color:#196F3D;\">m</span><span style=\"color:#196F3D;\">e</span><span style=\"color:#196F3D;\">n</span><span style=\"color:#196F3D;\">t</span><span style=\"color:#196F3D;\">e</span><span style=\"color:#196F3D;\">d</span><span style=\"color:#196F3D;\"> </span><span style=\"color:#196F3D;\">f</span><span style=\"color:#196F3D;\">o</span><span style=\"color:#196F3D;\">r</span><span style=\"color:#196F3D;\"> </span><span style=\"color:#196F3D;\">s</span><span style=\"color:#196F3D;\">h</span><span style=\"color:#196F3D;\">a</span><span style=\"color:#196F3D;\">p</span><span style=\"color:#196F3D;\">e</span>=<span style=\"color:#196F3D;\">%</span><span style=\"color:#196F3D;\">r</span><span style=\"color:#196F3D;\">.</span><span style=\"color:#196F3D;\">\"</span> <span style=\"color:#196F3D;\">%</span><span style=\"color:#196F3D;\"> </span>x.shape)</code></td></tr>\n",
       "<tr style=\"1px solid black;\"><td style=\"background-color:#E59866;\"><code style=\"background-color:#E59866;\">3</code></td><td></td><td style=\"background-color:#E59866;\"><code style=\"background-color:#E59866;\">        N = 1</code></td><td></td></tr>\n",
       "<tr style=\"1px solid black;\"><td style=\"background-color:#E59866;\"><code style=\"background-color:#E59866;\">4</code></td><td></td><td style=\"background-color:#E59866;\"><code style=\"background-color:#E59866;\">    else:</code></td><td></td></tr>\n",
       "<tr style=\"1px solid black;\"><td><code>5</code></td><td><code>3</code></td><td style=\"background-color:#E5E7E9;\"><code style=\"background-color:#E5E7E9;\">    <span style=\"color:#BA4A00;\"> </span><span style=\"color:#BA4A00;\"> </span><span style=\"color:#BA4A00;\"> </span><span style=\"color:#BA4A00;\"> </span>N = x.shape[<span style=\"color:#BA4A00;\">0</span>]<span style=\"color:#BA4A00;\"> </span><span style=\"color:#BA4A00;\"> </span><span style=\"color:#BA4A00;\"> </span><span style=\"color:#BA4A00;\"> </span><span style=\"color:#BA4A00;\"> </span><span style=\"color:#BA4A00;\"> </span><span style=\"color:#BA4A00;\"> </span><span style=\"color:#BA4A00;\"> </span></code></code></td><td style=\"background-color:#E5E7E9;\"><code style=\"background-color:#E5E7E9;\"><code>    N = x.shape[<span style=\"color:#196F3D;\">1</span>]</code></td></tr>\n",
       "<tr style=\"1px solid black;\"><td style=\"background-color:#FFFFFF;\"><code style=\"background-color:#FFFFFF;\">6</code></td><td style=\"background-color:#FFFFFF;\"><code style=\"background-color:#FFFFFF;\">4</code></td><td style=\"background-color:#FFFFFF;\"><code style=\"background-color:#FFFFFF;\">    C = x.shape[-1] if transpose else x.shape[-2]</code></td><td style=\"background-color:#FFFFFF;\"><code style=\"background-color:#FFFFFF;\">    C = x.shape[-1] if transpose else x.shape[-2]</code></td></tr>\n",
       "<tr style=\"1px solid black;\"><td style=\"background-color:#FFFFFF;\"><code style=\"background-color:#FFFFFF;\">7</code></td><td style=\"background-color:#FFFFFF;\"><code style=\"background-color:#FFFFFF;\">5</code></td><td style=\"background-color:#FFFFFF;\"><code style=\"background-color:#FFFFFF;\">    if fft_length is None:</code></td><td style=\"background-color:#FFFFFF;\"><code style=\"background-color:#FFFFFF;\">    if fft_length is None:</code></td></tr>\n",
       "<tr style=\"1px solid black;\"><td style=\"background-color:#FFFFFF;\"><code style=\"background-color:#FFFFFF;\">8</code></td><td style=\"background-color:#FFFFFF;\"><code style=\"background-color:#FFFFFF;\">6</code></td><td style=\"background-color:#FFFFFF;\"><code style=\"background-color:#FFFFFF;\">        fft_length = x.shape[-1]</code></td><td style=\"background-color:#FFFFFF;\"><code style=\"background-color:#FFFFFF;\">        fft_length = x.shape[-1]</code></td></tr>\n",
       "<tr style=\"1px solid black;\"><td style=\"background-color:#FFFFFF;\"><code style=\"background-color:#FFFFFF;\">9</code></td><td style=\"background-color:#FFFFFF;\"><code style=\"background-color:#FFFFFF;\">7</code></td><td style=\"background-color:#FFFFFF;\"><code style=\"background-color:#FFFFFF;\">    size = fft_length // 2 + 1</code></td><td style=\"background-color:#FFFFFF;\"><code style=\"background-color:#FFFFFF;\">    size = fft_length // 2 + 1</code></td></tr>\n",
       "<tr style=\"1px solid black;\"><td style=\"background-color:#FFFFFF;\"><code style=\"background-color:#FFFFFF;\">10</code></td><td style=\"background-color:#FFFFFF;\"><code style=\"background-color:#FFFFFF;\">8</code></td><td style=\"background-color:#FFFFFF;\"><code style=\"background-color:#FFFFFF;\"></code></td><td style=\"background-color:#FFFFFF;\"><code style=\"background-color:#FFFFFF;\"></code></td></tr>\n",
       "<tr style=\"1px solid black;\"><td style=\"background-color:#FFFFFF;\"><code style=\"background-color:#FFFFFF;\">11</code></td><td style=\"background-color:#FFFFFF;\"><code style=\"background-color:#FFFFFF;\">9</code></td><td style=\"background-color:#FFFFFF;\"><code style=\"background-color:#FFFFFF;\">    cst = dft_real_cst(C, fft_length)</code></td><td style=\"background-color:#FFFFFF;\"><code style=\"background-color:#FFFFFF;\">    cst = dft_real_cst(C, fft_length)</code></td></tr>\n",
       "<tr style=\"1px solid black;\"><td style=\"background-color:#FFFFFF;\"><code style=\"background-color:#FFFFFF;\">12</code></td><td style=\"background-color:#FFFFFF;\"><code style=\"background-color:#FFFFFF;\">10</code></td><td style=\"background-color:#FFFFFF;\"><code style=\"background-color:#FFFFFF;\">    if transpose:</code></td><td style=\"background-color:#FFFFFF;\"><code style=\"background-color:#FFFFFF;\">    if transpose:</code></td></tr>\n",
       "<tr style=\"1px solid black;\"><td><code>13</code></td><td><code>11</code></td><td style=\"background-color:#E5E7E9;\"><code style=\"background-color:#E5E7E9;\">        x = numpy.transpose(x, (<span style=\"color:#BA4A00;\">1</span>, <span style=\"color:#BA4A00;\">0</span>))</code></code></td><td style=\"background-color:#E5E7E9;\"><code style=\"background-color:#E5E7E9;\"><code>        x = numpy.transpose(x, (<span style=\"color:#196F3D;\">0</span>, <span style=\"color:#196F3D;\">2</span><span style=\"color:#196F3D;\">,</span><span style=\"color:#196F3D;\"> </span><span style=\"color:#196F3D;\">1</span>))</code></td></tr>\n",
       "<tr style=\"1px solid black;\"><td style=\"background-color:#FFFFFF;\"><code style=\"background-color:#FFFFFF;\">14</code></td><td style=\"background-color:#FFFFFF;\"><code style=\"background-color:#FFFFFF;\">12</code></td><td style=\"background-color:#FFFFFF;\"><code style=\"background-color:#FFFFFF;\">        a = cst[:, :, :fft_length]</code></td><td style=\"background-color:#FFFFFF;\"><code style=\"background-color:#FFFFFF;\">        a = cst[:, :, :fft_length]</code></td></tr>\n",
       "<tr style=\"1px solid black;\"><td><code>15</code></td><td><code>13</code></td><td style=\"background-color:#E5E7E9;\"><code style=\"background-color:#E5E7E9;\">        b = x[:fft_length]</code></code></td><td style=\"background-color:#E5E7E9;\"><code style=\"background-color:#E5E7E9;\"><code>        b = x[:<span style=\"color:#196F3D;\">,</span><span style=\"color:#196F3D;\"> </span><span style=\"color:#196F3D;\">:</span>fft_length<span style=\"color:#196F3D;\">,</span><span style=\"color:#196F3D;\"> </span><span style=\"color:#196F3D;\">:</span>]</code></td></tr>\n",
       "<tr style=\"1px solid black;\"><td></td><td style=\"background-color:#ABEBC6;\"><code style=\"background-color:#ABEBC6;\">14</code></td><td></td><td style=\"background-color:#ABEBC6;\"><code style=\"background-color:#ABEBC6;\">        a = numpy.expand_dims(a, 0)</code></td></tr>\n",
       "<tr style=\"1px solid black;\"><td></td><td style=\"background-color:#ABEBC6;\"><code style=\"background-color:#ABEBC6;\">15</code></td><td></td><td style=\"background-color:#ABEBC6;\"><code style=\"background-color:#ABEBC6;\">        b = numpy.expand_dims(b, 1)</code></td></tr>\n",
       "<tr style=\"1px solid black;\"><td style=\"background-color:#FFFFFF;\"><code style=\"background-color:#FFFFFF;\">16</code></td><td style=\"background-color:#FFFFFF;\"><code style=\"background-color:#FFFFFF;\">16</code></td><td style=\"background-color:#FFFFFF;\"><code style=\"background-color:#FFFFFF;\">        res = numpy.matmul(a, b)</code></td><td style=\"background-color:#FFFFFF;\"><code style=\"background-color:#FFFFFF;\">        res = numpy.matmul(a, b)</code></td></tr>\n",
       "<tr style=\"1px solid black;\"><td><code>17</code></td><td><code>17</code></td><td style=\"background-color:#E5E7E9;\"><code style=\"background-color:#E5E7E9;\">        res = res[:, :size, :]</code></code></td><td style=\"background-color:#E5E7E9;\"><code style=\"background-color:#E5E7E9;\"><code>        res = res[:, :<span style=\"color:#196F3D;\">,</span><span style=\"color:#196F3D;\"> </span><span style=\"color:#196F3D;\">:</span>size, :]</code></td></tr>\n",
       "<tr style=\"1px solid black;\"><td><code>18</code></td><td><code>18</code></td><td style=\"background-color:#E5E7E9;\"><code style=\"background-color:#E5E7E9;\">        return numpy.transpose(res, (0, <span style=\"color:#BA4A00;\">2</span>, <span style=\"color:#BA4A00;\">1</span>))</code></code></td><td style=\"background-color:#E5E7E9;\"><code style=\"background-color:#E5E7E9;\"><code>        return numpy.transpose(res, (<span style=\"color:#196F3D;\">1</span><span style=\"color:#196F3D;\">,</span><span style=\"color:#196F3D;\"> </span>0, <span style=\"color:#196F3D;\">3</span>, <span style=\"color:#196F3D;\">2</span>))</code></td></tr>\n",
       "<tr style=\"1px solid black;\"><td style=\"background-color:#FFFFFF;\"><code style=\"background-color:#FFFFFF;\">19</code></td><td style=\"background-color:#FFFFFF;\"><code style=\"background-color:#FFFFFF;\">19</code></td><td style=\"background-color:#FFFFFF;\"><code style=\"background-color:#FFFFFF;\">    else:</code></td><td style=\"background-color:#FFFFFF;\"><code style=\"background-color:#FFFFFF;\">    else:</code></td></tr>\n",
       "<tr style=\"1px solid black;\"><td style=\"background-color:#FFFFFF;\"><code style=\"background-color:#FFFFFF;\">20</code></td><td style=\"background-color:#FFFFFF;\"><code style=\"background-color:#FFFFFF;\">20</code></td><td style=\"background-color:#FFFFFF;\"><code style=\"background-color:#FFFFFF;\">        a = cst[:, :, :fft_length]</code></td><td style=\"background-color:#FFFFFF;\"><code style=\"background-color:#FFFFFF;\">        a = cst[:, :, :fft_length]</code></td></tr>\n",
       "<tr style=\"1px solid black;\"><td><code>21</code></td><td><code>21</code></td><td style=\"background-color:#E5E7E9;\"><code style=\"background-color:#E5E7E9;\">        b = x[:fft_length]</code></code></td><td style=\"background-color:#E5E7E9;\"><code style=\"background-color:#E5E7E9;\"><code>        b = x[:<span style=\"color:#196F3D;\">,</span><span style=\"color:#196F3D;\"> </span><span style=\"color:#196F3D;\">:</span>fft_length<span style=\"color:#196F3D;\">,</span><span style=\"color:#196F3D;\"> </span><span style=\"color:#196F3D;\">:</span>]</code></td></tr>\n",
       "<tr style=\"1px solid black;\"><td></td><td style=\"background-color:#ABEBC6;\"><code style=\"background-color:#ABEBC6;\">22</code></td><td></td><td style=\"background-color:#ABEBC6;\"><code style=\"background-color:#ABEBC6;\">        a = numpy.expand_dims(a, 0)</code></td></tr>\n",
       "<tr style=\"1px solid black;\"><td></td><td style=\"background-color:#ABEBC6;\"><code style=\"background-color:#ABEBC6;\">23</code></td><td></td><td style=\"background-color:#ABEBC6;\"><code style=\"background-color:#ABEBC6;\">        b = numpy.expand_dims(b, 1)</code></td></tr>\n",
       "<tr style=\"1px solid black;\"><td><code>22</code></td><td><code>24</code></td><td style=\"background-color:#E5E7E9;\"><code style=\"background-color:#E5E7E9;\">        re<span style=\"color:#BA4A00;\">t</span><span style=\"color:#BA4A00;\">u</span><span style=\"color:#BA4A00;\">r</span><span style=\"color:#BA4A00;\">n</span> numpy.matmul(a, b)</code></code></td><td style=\"background-color:#E5E7E9;\"><code style=\"background-color:#E5E7E9;\"><code>        re<span style=\"color:#196F3D;\">s</span> <span style=\"color:#196F3D;\">=</span><span style=\"color:#196F3D;\"> </span>numpy.matmul(a, b)</code></td></tr>\n",
       "<tr style=\"1px solid black;\"><td></td><td style=\"background-color:#ABEBC6;\"><code style=\"background-color:#ABEBC6;\">25</code></td><td></td><td style=\"background-color:#ABEBC6;\"><code style=\"background-color:#ABEBC6;\">        return numpy.transpose(res, (1, 0, 2, 3))</code></td></tr>\n",
       "<tr style=\"1px solid black;\"><td style=\"background-color:#FFFFFF;\"><code style=\"background-color:#FFFFFF;\">23</code></td><td style=\"background-color:#FFFFFF;\"><code style=\"background-color:#FFFFFF;\">26</code></td><td style=\"background-color:#FFFFFF;\"><code style=\"background-color:#FFFFFF;\"></code></td><td style=\"background-color:#FFFFFF;\"><code style=\"background-color:#FFFFFF;\"></code></td></tr>\n",
       "</table>"
      ],
      "text/plain": [
       "<IPython.core.display.HTML object>"
      ]
     },
     "execution_count": 39,
     "metadata": {},
     "output_type": "execute_result"
    }
   ],
   "source": [
    "import inspect\n",
    "text1 = inspect.getsource(dft_real)\n",
    "text2 = inspect.getsource(dft_real_d3)\n",
    "%codediff text1 text2 --verbose 1 --two 1"
   ]
  },
  {
   "cell_type": "code",
   "execution_count": 40,
   "id": "cd7e14d4",
   "metadata": {},
   "outputs": [
    {
     "name": "stderr",
     "output_type": "stream",
     "text": [
      "100%|██████████| 15/15 [00:00<00:00, 1156.92it/s]\n"
     ]
    },
    {
     "data": {
      "text/html": [
       "<table style=\"white-space: pre; 1px solid black; font-family:courier; text-align:left !important;\">\n",
       "<tr style=\"1px solid black;\"><td><code>0</code></td><td><code>0</code></td><td style=\"background-color:#E5E7E9;\"><code style=\"background-color:#E5E7E9;\">def fft2d(mat, fft_length):</code></code></td><td style=\"background-color:#E5E7E9;\"><code style=\"background-color:#E5E7E9;\"><code>def fft2d<span style=\"color:#196F3D;\">_</span><span style=\"color:#196F3D;\">d</span><span style=\"color:#196F3D;\">3</span>(mat, fft_length):</code></td></tr>\n",
       "<tr style=\"1px solid black;\"><td><code>1</code></td><td><code>1</code></td><td style=\"background-color:#E5E7E9;\"><code style=\"background-color:#E5E7E9;\">    mat = mat[:fft_length[<span style=\"color:#BA4A00;\">0</span>], :fft_length[1]]</code></code></td><td style=\"background-color:#E5E7E9;\"><code style=\"background-color:#E5E7E9;\"><code>    mat = mat[:<span style=\"color:#196F3D;\">,</span><span style=\"color:#196F3D;\"> </span><span style=\"color:#196F3D;\">:</span>fft_length[<span style=\"color:#196F3D;\">-</span><span style=\"color:#196F3D;\">2</span>], :fft_length[<span style=\"color:#196F3D;\">-</span>1]]</code></td></tr>\n",
       "<tr style=\"1px solid black;\"><td style=\"background-color:#FFFFFF;\"><code style=\"background-color:#FFFFFF;\">2</code></td><td style=\"background-color:#FFFFFF;\"><code style=\"background-color:#FFFFFF;\">2</code></td><td style=\"background-color:#FFFFFF;\"><code style=\"background-color:#FFFFFF;\">    res = mat.copy()</code></td><td style=\"background-color:#FFFFFF;\"><code style=\"background-color:#FFFFFF;\">    res = mat.copy()</code></td></tr>\n",
       "<tr style=\"1px solid black;\"><td style=\"background-color:#FFFFFF;\"><code style=\"background-color:#FFFFFF;\">3</code></td><td style=\"background-color:#FFFFFF;\"><code style=\"background-color:#FFFFFF;\">3</code></td><td style=\"background-color:#FFFFFF;\"><code style=\"background-color:#FFFFFF;\">    </code></td><td style=\"background-color:#FFFFFF;\"><code style=\"background-color:#FFFFFF;\">    </code></td></tr>\n",
       "<tr style=\"1px solid black;\"><td style=\"background-color:#FFFFFF;\"><code style=\"background-color:#FFFFFF;\">4</code></td><td style=\"background-color:#FFFFFF;\"><code style=\"background-color:#FFFFFF;\">4</code></td><td style=\"background-color:#FFFFFF;\"><code style=\"background-color:#FFFFFF;\">    # first FFT</code></td><td style=\"background-color:#FFFFFF;\"><code style=\"background-color:#FFFFFF;\">    # first FFT</code></td></tr>\n",
       "<tr style=\"1px solid black;\"><td><code>5</code></td><td><code>5</code></td><td style=\"background-color:#E5E7E9;\"><code style=\"background-color:#E5E7E9;\">    res = dft_real(res, fft_length=fft_length[1], transpose=True)</code></code></td><td style=\"background-color:#E5E7E9;\"><code style=\"background-color:#E5E7E9;\"><code>    res = dft_real<span style=\"color:#196F3D;\">_</span><span style=\"color:#196F3D;\">d</span><span style=\"color:#196F3D;\">3</span>(res, fft_length=fft_length[<span style=\"color:#196F3D;\">-</span>1], transpose=True)</code></td></tr>\n",
       "<tr style=\"1px solid black;\"><td style=\"background-color:#FFFFFF;\"><code style=\"background-color:#FFFFFF;\">6</code></td><td style=\"background-color:#FFFFFF;\"><code style=\"background-color:#FFFFFF;\">6</code></td><td style=\"background-color:#FFFFFF;\"><code style=\"background-color:#FFFFFF;\">    </code></td><td style=\"background-color:#FFFFFF;\"><code style=\"background-color:#FFFFFF;\">    </code></td></tr>\n",
       "<tr style=\"1px solid black;\"><td style=\"background-color:#FFFFFF;\"><code style=\"background-color:#FFFFFF;\">7</code></td><td style=\"background-color:#FFFFFF;\"><code style=\"background-color:#FFFFFF;\">7</code></td><td style=\"background-color:#FFFFFF;\"><code style=\"background-color:#FFFFFF;\">    # second FFT decomposed on FFT on real part and imaginary part</code></td><td style=\"background-color:#FFFFFF;\"><code style=\"background-color:#FFFFFF;\">    # second FFT decomposed on FFT on real part and imaginary part</code></td></tr>\n",
       "<tr style=\"1px solid black;\"><td><code>8</code></td><td><code>8</code></td><td style=\"background-color:#E5E7E9;\"><code style=\"background-color:#E5E7E9;\">    res2_real = dft_real(res[0], fft_length=fft_length[<span style=\"color:#BA4A00;\">0</span>], transpose=False)</code></code></td><td style=\"background-color:#E5E7E9;\"><code style=\"background-color:#E5E7E9;\"><code>    res2_real = dft_real<span style=\"color:#196F3D;\">_</span><span style=\"color:#196F3D;\">d</span><span style=\"color:#196F3D;\">3</span>(res[0], fft_length=fft_length[<span style=\"color:#196F3D;\">-</span><span style=\"color:#196F3D;\">2</span>], transpose=False)</code></td></tr>\n",
       "<tr style=\"1px solid black;\"><td><code>9</code></td><td><code>9</code></td><td style=\"background-color:#E5E7E9;\"><code style=\"background-color:#E5E7E9;\">    res2_imag = dft_real(res[1], fft_length=fft_length[<span style=\"color:#BA4A00;\">0</span>], transpose=False)<span style=\"color:#BA4A00;\"> </span><span style=\"color:#BA4A00;\"> </span><span style=\"color:#BA4A00;\"> </span><span style=\"color:#BA4A00;\"> </span></code></code></td><td style=\"background-color:#E5E7E9;\"><code style=\"background-color:#E5E7E9;\"><code>    res2_imag = dft_real<span style=\"color:#196F3D;\">_</span><span style=\"color:#196F3D;\">d</span><span style=\"color:#196F3D;\">3</span>(res[1], fft_length=fft_length[<span style=\"color:#196F3D;\">-</span><span style=\"color:#196F3D;\">2</span>], transpose=False)</code></td></tr>\n",
       "<tr style=\"1px solid black;\"><td style=\"background-color:#FFFFFF;\"><code style=\"background-color:#FFFFFF;\">10</code></td><td style=\"background-color:#FFFFFF;\"><code style=\"background-color:#FFFFFF;\">10</code></td><td style=\"background-color:#FFFFFF;\"><code style=\"background-color:#FFFFFF;\">    res2_imag2 = numpy.vstack([-res2_imag[1:2], res2_imag[:1]])</code></td><td style=\"background-color:#FFFFFF;\"><code style=\"background-color:#FFFFFF;\">    res2_imag2 = numpy.vstack([-res2_imag[1:2], res2_imag[:1]])</code></td></tr>\n",
       "<tr style=\"1px solid black;\"><td style=\"background-color:#FFFFFF;\"><code style=\"background-color:#FFFFFF;\">11</code></td><td style=\"background-color:#FFFFFF;\"><code style=\"background-color:#FFFFFF;\">11</code></td><td style=\"background-color:#FFFFFF;\"><code style=\"background-color:#FFFFFF;\">    res = res2_real + res2_imag2</code></td><td style=\"background-color:#FFFFFF;\"><code style=\"background-color:#FFFFFF;\">    res = res2_real + res2_imag2</code></td></tr>\n",
       "<tr style=\"1px solid black;\"><td><code>12</code></td><td><code>12</code></td><td style=\"background-color:#E5E7E9;\"><code style=\"background-color:#E5E7E9;\">    size = fft_length[1]//2 + 1</code></code></td><td style=\"background-color:#E5E7E9;\"><code style=\"background-color:#E5E7E9;\"><code>    size = fft_length[<span style=\"color:#196F3D;\">-</span>1]//2 + 1</code></td></tr>\n",
       "<tr style=\"1px solid black;\"><td><code>13</code></td><td><code>13</code></td><td style=\"background-color:#E5E7E9;\"><code style=\"background-color:#E5E7E9;\">    return res[:, :fft_length[<span style=\"color:#BA4A00;\">0</span>], :size]</code></code></td><td style=\"background-color:#E5E7E9;\"><code style=\"background-color:#E5E7E9;\"><code>    return res[:, :<span style=\"color:#196F3D;\">,</span><span style=\"color:#196F3D;\"> </span><span style=\"color:#196F3D;\">:</span>fft_length[<span style=\"color:#196F3D;\">-</span><span style=\"color:#196F3D;\">2</span>], :size]</code></td></tr>\n",
       "<tr style=\"1px solid black;\"><td style=\"background-color:#FFFFFF;\"><code style=\"background-color:#FFFFFF;\">14</code></td><td style=\"background-color:#FFFFFF;\"><code style=\"background-color:#FFFFFF;\">14</code></td><td style=\"background-color:#FFFFFF;\"><code style=\"background-color:#FFFFFF;\"></code></td><td style=\"background-color:#FFFFFF;\"><code style=\"background-color:#FFFFFF;\"></code></td></tr>\n",
       "</table>"
      ],
      "text/plain": [
       "<IPython.core.display.HTML object>"
      ]
     },
     "execution_count": 40,
     "metadata": {},
     "output_type": "execute_result"
    }
   ],
   "source": [
    "text1 = inspect.getsource(fft2d)\n",
    "text2 = inspect.getsource(fft2d_d3)\n",
    "%codediff text1 text2 --verbose 1 --two 1"
   ]
  },
  {
   "cell_type": "code",
   "execution_count": 41,
   "id": "51e7a4f7",
   "metadata": {
    "scrolled": false
   },
   "outputs": [
    {
     "name": "stderr",
     "output_type": "stream",
     "text": [
      "C:\\xavierdupre\\__home_\\GitHub\\mlprodict\\mlprodict\\npy\\onnx_numpy_wrapper.py:27: RuntimeWarning: Class 'onnxnumpy_nb_onnx_rfft_2d_any_None_None' overwritten in\n",
      "'onnxnumpy_nb_onnx_rfft_2d_None_None, onnxnumpy_nb_onnx_rfft_2d_any_None_None, onnxnumpy_nb_onnx_rfft_None_None'\n",
      "---\n",
      "<class 'mlprodict.npy.onnx_numpy_wrapper.onnxnumpy_nb_onnx_rfft_2d_any_None_None'>\n",
      "  warnings.warn(  # pragma: no cover\n"
     ]
    }
   ],
   "source": [
    "def onnx_rfft_3d_1d(x, fft_length=None, transpose=True):\n",
    "    if fft_length is None:\n",
    "        raise RuntimeError(\"fft_length must be specified.\")\n",
    "    \n",
    "    size = fft_length // 2 + 1\n",
    "    cst = dft_real_cst(fft_length, fft_length).astype(numpy.float32)\n",
    "    if transpose:\n",
    "        xt = npnx.transpose(x, (0, 2, 1))\n",
    "        a = cst[:, :, :fft_length]\n",
    "        b = xt[:, :fft_length, :]\n",
    "        a = npnx.expand_dims(a, 0)\n",
    "        b = npnx.expand_dims(b, 1)\n",
    "        res = npnx.matmul(a, b)\n",
    "        res2 = res[:, :size, :]\n",
    "        return npnx.transpose(res2, (1, 0, 3, 2))\n",
    "    else:\n",
    "        a = cst[:, :, :fft_length]\n",
    "        b = x[:, :fft_length, :]\n",
    "        a = npnx.expand_dims(a, 0)\n",
    "        b = npnx.expand_dims(b, 1)\n",
    "        res = npnx.matmul(a, b)\n",
    "        return npnx.transpose(res, (1, 0, 2, 3))      \n",
    "    \n",
    "\n",
    "def onnx_rfft_3d_2d(x, fft_length=None):\n",
    "    mat = x[:, :fft_length[-2], :fft_length[-1]]\n",
    "    \n",
    "    # first FFT\n",
    "    res = onnx_rfft_3d_1d(mat, fft_length=fft_length[-1], transpose=True)\n",
    "    \n",
    "    # second FFT decomposed on FFT on real part and imaginary part\n",
    "    res2_real = onnx_rfft_3d_1d(res[0], fft_length=fft_length[0], transpose=False)\n",
    "    res2_imag = onnx_rfft_3d_1d(res[1], fft_length=fft_length[0], transpose=False)    \n",
    "    res2_imag2 = npnx.vstack(-res2_imag[1:2], res2_imag[:1])\n",
    "    res = res2_real + res2_imag2\n",
    "    size = fft_length[1]//2 + 1\n",
    "    return res[:, :, :fft_length[-2], :size]\n",
    "\n",
    "\n",
    "@onnxnumpy_np(signature=NDArrayType((\"T:all\", ), dtypes_out=('T',)))\n",
    "def onnx_rfft_2d_any(x, fft_length=None):\n",
    "    new_shape = npnx.concat(\n",
    "        numpy.array([-1], dtype=numpy.int64), x.shape[-2:], axis=0)\n",
    "    mat2 = x.reshape(new_shape)\n",
    "    f2 = onnx_rfft_3d_2d(mat2, fft_length)\n",
    "    new_shape = npnx.concat(\n",
    "        numpy.array([2], dtype=numpy.int64), x.shape[:-2], f2.shape[-2:])\n",
    "    return f2.reshape(new_shape)\n",
    "\n",
    "\n",
    "shape = (3, 1, 4)\n",
    "fft_length = (1, 4)\n",
    "rnd = numpy.random.randn(*list(shape)).astype(numpy.float32)\n",
    "fft2d_cus = fft2d_any(rnd, fft_length)\n",
    "fft2d_onx = onnx_rfft_2d_any(rnd, fft_length=fft_length)\n",
    "almost_equal(fft2d_cus, fft2d_onx)"
   ]
  },
  {
   "cell_type": "markdown",
   "id": "37c45ae7",
   "metadata": {},
   "source": [
    "Let's do the same comparison."
   ]
  },
  {
   "cell_type": "code",
   "execution_count": 42,
   "id": "11c1e596",
   "metadata": {},
   "outputs": [
    {
     "name": "stdout",
     "output_type": "stream",
     "text": [
      "OK  x.shape=(3, 1, 4) length=(1, 4) output shape=(3, 4) or (2, 3, 1, 3)\n",
      "OK  x.shape=(3, 1, 4) length=(1, 4) output shape=(3, 4) or (2, 3, 1, 3)\n",
      "OK  x.shape=(3, 1, 4) length=(1, 4) output shape=(3, 4) or (2, 3, 1, 3)\n",
      "OK  x.shape=(3, 1, 4) length=(1, 2) output shape=(3, 4) or (2, 3, 1, 2)\n",
      "DIS x.shape=(3, 1, 4) length=(1, 1) error=AssertionError('Mismatch max diff=2.9777344341736463e+35 > 1e-05.')  output shape=(3, 4) or (2, 3, 1, 1)\n",
      "OK  x.shape=(5, 7) length=(5, 7) output shape=(3, 4) or (2, 5, 4)\n",
      "OK  x.shape=(5, 7) length=(1, 7) output shape=(3, 4) or (2, 1, 4)\n",
      "OK  x.shape=(5, 7) length=(2, 7) output shape=(3, 4) or (2, 2, 4)\n",
      "OK  x.shape=(5, 7) length=(5, 2) output shape=(3, 4) or (2, 5, 2)\n",
      "OK  x.shape=(5, 7) length=(3, 4) output shape=(3, 4) or (2, 3, 3)\n",
      "OK  x.shape=(3, 5, 7) length=(5, 7) output shape=(3, 4) or (2, 3, 5, 4)\n",
      "OK  x.shape=(3, 5, 7) length=(1, 7) output shape=(3, 4) or (2, 3, 1, 4)\n",
      "OK  x.shape=(3, 5, 7) length=(2, 7) output shape=(3, 4) or (2, 3, 2, 4)\n",
      "OK  x.shape=(3, 5, 7) length=(5, 2) output shape=(3, 4) or (2, 3, 5, 2)\n",
      "OK  x.shape=(3, 5, 7) length=(3, 4) output shape=(3, 4) or (2, 3, 3, 3)\n",
      "OK  x.shape=(7, 5) length=(7, 5) output shape=(3, 4) or (2, 7, 3)\n",
      "OK  x.shape=(7, 5) length=(1, 5) output shape=(3, 4) or (2, 1, 3)\n",
      "OK  x.shape=(7, 5) length=(2, 5) output shape=(3, 4) or (2, 2, 3)\n",
      "OK  x.shape=(7, 5) length=(7, 2) output shape=(3, 4) or (2, 7, 2)\n",
      "OK  x.shape=(7, 5) length=(3, 4) output shape=(3, 4) or (2, 3, 3)\n"
     ]
    }
   ],
   "source": [
    "for shape in [(3, 1, 4), (5, 7), (3, 5, 7), (7, 5)]:\n",
    "    for fft_length in [shape[-2:], (1, shape[-1]),\n",
    "                       (min(2, shape[-2]), shape[-1]),\n",
    "                       (shape[-2], 2),\n",
    "                       (min(3, shape[-2]), min(4, shape[-2]))]:\n",
    "        x  = numpy.random.randn(*list(shape)).astype(numpy.float32)\n",
    "        if len(fnp.shape) == 2:\n",
    "            fn= numpy.expand_dims(fnp, 0)\n",
    "        try:\n",
    "            cus = fft2d_any(x, fft_length)\n",
    "        except IndexError as e:\n",
    "            print(\"ERR x.shape=%r length=%r error=%r\" % (x.shape, fft_length, e))\n",
    "            continue\n",
    "        try:\n",
    "            onx = onnx_rfft_2d_any(x, fft_length=fft_length)\n",
    "        except IndexError as e:\n",
    "            print(\"ERR x.shape=%r length=%r error=%r\" % (x.shape, fft_length, e))\n",
    "            continue\n",
    "        try:\n",
    "            almost_equal(onx, cus)\n",
    "        except (AssertionError, IndexError) as e:\n",
    "            print(\"DIS x.shape=%r length=%r error=%r  output shape=%r or %r\" % (\n",
    "                x.shape, fft_length, e, fnp.shape, cus.shape))\n",
    "            continue\n",
    "        print(\"OK  x.shape=%r length=%r output shape=%r or %r\" % (\n",
    "            x.shape, fft_length, fnp.shape, cus.shape))"
   ]
  },
  {
   "cell_type": "markdown",
   "id": "d197467f",
   "metadata": {},
   "source": [
    "There is one issue with ``fft_length=(1, 1)`` but that case is out of scope."
   ]
  },
  {
   "cell_type": "markdown",
   "id": "33b5897e",
   "metadata": {},
   "source": [
    "### ONNX graph"
   ]
  },
  {
   "cell_type": "code",
   "execution_count": 43,
   "id": "d45e9a99",
   "metadata": {},
   "outputs": [
    {
     "data": {
      "text/html": [
       "<div id=\"M28288971816c4e2bb98e2aae624917c5-cont\"><div id=\"M28288971816c4e2bb98e2aae624917c5\" style=\"width:100%;height:100%;\"></div></div>\n",
       "<script>\n",
       "\n",
       "require(['http://www.xavierdupre.fr/js/vizjs/viz.js'], function() { var svgGraph = Viz(\"digraph{\\n  orientation=portrait;\\n  size=None;\\n  ranksep=0.25;\\n  nodesep=0.05;\\n\\n  x [shape=box color=red label=\\\"x\\nfloat(('?',))\\\" fontsize=10];\\n\\n  y [shape=box color=green label=\\\"y\\nfloat(('?',))\\\" fontsize=10];\\n\\n  Un_Unsqueezecst [shape=box label=\\\"Un_Unsqueezecst\\nfloat32((2, 1, 1))\\n[[[1.]]\\n\\n [[0.]]]\\\" fontsize=10];\\n  Un_Unsqueezecst1 [shape=box label=\\\"Un_Unsqueezecst1\\nint64((1,))\\n[0]\\\" fontsize=10];\\n  Un_Unsqueezecst2 [shape=box label=\\\"Un_Unsqueezecst2\\nfloat32((2, 4, 4))\\n[[[ 1.0000000e+00  1.0000000e+00  1.0000000e+00  1...\\\" fontsize=10];\\n  Co_Concatcst [shape=box label=\\\"Co_Concatcst\\nint64((1,))\\n[-1]\\\" fontsize=10];\\n  Sl_Slicecst [shape=box label=\\\"Sl_Slicecst\\nint64((1,))\\n[-2]\\\" fontsize=10];\\n  Sl_Slicecst2 [shape=box label=\\\"Sl_Slicecst2\\nint64((2,))\\n[0 0]\\\" fontsize=10];\\n  Sl_Slicecst3 [shape=box label=\\\"Sl_Slicecst3\\nint64((2,))\\n[1 4]\\\" fontsize=10];\\n  Sl_Slicecst4 [shape=box label=\\\"Sl_Slicecst4\\nint64((2,))\\n[1 2]\\\" fontsize=10];\\n  Sl_Slicecst6 [shape=box label=\\\"Sl_Slicecst6\\nint64((1,))\\n[4]\\\" fontsize=10];\\n  Sl_Slicecst7 [shape=box label=\\\"Sl_Slicecst7\\nint64((1,))\\n[1]\\\" fontsize=10];\\n  Sl_Slicecst9 [shape=box label=\\\"Sl_Slicecst9\\nint64((1,))\\n[3]\\\" fontsize=10];\\n  Ga_Gathercst1 [shape=box label=\\\"Ga_Gathercst1\\nint64(())\\n0\\\" fontsize=10];\\n  Ga_Gathercst2 [shape=box label=\\\"Ga_Gathercst2\\nint64(())\\n1\\\" fontsize=10];\\n  Sl_Slicecst18 [shape=box label=\\\"Sl_Slicecst18\\nint64((1,))\\n[2]\\\" fontsize=10];\\n  Sl_Slicecst24 [shape=box label=\\\"Sl_Slicecst24\\nint64((2,))\\n[1 3]\\\" fontsize=10];\\n  Sl_Slicecst25 [shape=box label=\\\"Sl_Slicecst25\\nint64((2,))\\n[2 3]\\\" fontsize=10];\\n\\n  Un_expanded0 [shape=box label=\\\"Un_expanded0\\\" fontsize=10];\\n  Un_Unsqueeze [shape=box style=\\\"filled,rounded\\\" color=orange label=\\\"Unsqueeze\\n(Un_Unsqueeze)\\\" fontsize=10];\\n  Un_Unsqueezecst -> Un_Unsqueeze;\\n  Un_Unsqueezecst1 -> Un_Unsqueeze;\\n  Un_Unsqueeze -> Un_expanded0;\\n\\n  Un_expanded03 [shape=box label=\\\"Un_expanded03\\\" fontsize=10];\\n  Un_Unsqueeze1 [shape=box style=\\\"filled,rounded\\\" color=orange label=\\\"Unsqueeze\\n(Un_Unsqueeze1)\\\" fontsize=10];\\n  Un_Unsqueezecst2 -> Un_Unsqueeze1;\\n  Un_Unsqueezecst1 -> Un_Unsqueeze1;\\n  Un_Unsqueeze1 -> Un_expanded03;\\n\\n  Sh_shape0 [shape=box label=\\\"Sh_shape0\\\" fontsize=10];\\n  Sh_Shape [shape=box style=\\\"filled,rounded\\\" color=orange label=\\\"Shape\\n(Sh_Shape)\\\" fontsize=10];\\n  x -> Sh_Shape;\\n  Sh_Shape -> Sh_shape0;\\n\\n  Sh_shape01 [shape=box label=\\\"Sh_shape01\\\" fontsize=10];\\n  Sh_Shape1 [shape=box style=\\\"filled,rounded\\\" color=orange label=\\\"Shape\\n(Sh_Shape1)\\\" fontsize=10];\\n  Sh_shape0 -> Sh_Shape1;\\n  Sh_Shape1 -> Sh_shape01;\\n\\n  Ga_output01 [shape=box label=\\\"Ga_output01\\\" fontsize=10];\\n  Ga_Gather [shape=box style=\\\"filled,rounded\\\" color=orange label=\\\"Gather\\n(Ga_Gather)\\\" fontsize=10];\\n  Sh_shape01 -> Ga_Gather;\\n  Un_Unsqueezecst1 -> Ga_Gather;\\n  Ga_Gather -> Ga_output01;\\n\\n  Sl_output05 [shape=box label=\\\"Sl_output05\\\" fontsize=10];\\n  Sl_Slice [shape=box style=\\\"filled,rounded\\\" color=orange label=\\\"Slice\\n(Sl_Slice)\\\" fontsize=10];\\n  Sh_shape0 -> Sl_Slice;\\n  Sl_Slicecst -> Sl_Slice;\\n  Ga_output01 -> Sl_Slice;\\n  Un_Unsqueezecst1 -> Sl_Slice;\\n  Sl_Slice -> Sl_output05;\\n\\n  Co_concat_result0 [shape=box label=\\\"Co_concat_result0\\\" fontsize=10];\\n  Co_Concat [shape=box style=\\\"filled,rounded\\\" color=orange label=\\\"Concat\\n(Co_Concat)\\naxis=0\\\" fontsize=10];\\n  Co_Concatcst -> Co_Concat;\\n  Sl_output05 -> Co_Concat;\\n  Co_Concat -> Co_concat_result0;\\n\\n  Re_reshaped0 [shape=box label=\\\"Re_reshaped0\\\" fontsize=10];\\n  Re_Reshape [shape=box style=\\\"filled,rounded\\\" color=orange label=\\\"Reshape\\n(Re_Reshape)\\\" fontsize=10];\\n  x -> Re_Reshape;\\n  Co_concat_result0 -> Re_Reshape;\\n  Re_Reshape -> Re_reshaped0;\\n\\n  Sl_output04 [shape=box label=\\\"Sl_output04\\\" fontsize=10];\\n  Sl_Slice1 [shape=box style=\\\"filled,rounded\\\" color=orange label=\\\"Slice\\n(Sl_Slice1)\\\" fontsize=10];\\n  Re_reshaped0 -> Sl_Slice1;\\n  Sl_Slicecst2 -> Sl_Slice1;\\n  Sl_Slicecst3 -> Sl_Slice1;\\n  Sl_Slicecst4 -> Sl_Slice1;\\n  Sl_Slice1 -> Sl_output04;\\n\\n  Tr_transposed02 [shape=box label=\\\"Tr_transposed02\\\" fontsize=10];\\n  Tr_Transpose [shape=box style=\\\"filled,rounded\\\" color=orange label=\\\"Transpose\\n(Tr_Transpose)\\nperm=[0 2 1]\\\" fontsize=10];\\n  Sl_output04 -> Tr_Transpose;\\n  Tr_Transpose -> Tr_transposed02;\\n\\n  Sl_output03 [shape=box label=\\\"Sl_output03\\\" fontsize=10];\\n  Sl_Slice2 [shape=box style=\\\"filled,rounded\\\" color=orange label=\\\"Slice\\n(Sl_Slice2)\\\" fontsize=10];\\n  Tr_transposed02 -> Sl_Slice2;\\n  Un_Unsqueezecst1 -> Sl_Slice2;\\n  Sl_Slicecst6 -> Sl_Slice2;\\n  Sl_Slicecst7 -> Sl_Slice2;\\n  Sl_Slice2 -> Sl_output03;\\n\\n  Un_expanded04 [shape=box label=\\\"Un_expanded04\\\" fontsize=10];\\n  Un_Unsqueeze2 [shape=box style=\\\"filled,rounded\\\" color=orange label=\\\"Unsqueeze\\n(Un_Unsqueeze2)\\\" fontsize=10];\\n  Sl_output03 -> Un_Unsqueeze2;\\n  Sl_Slicecst7 -> Un_Unsqueeze2;\\n  Un_Unsqueeze2 -> Un_expanded04;\\n\\n  Ma_Y01 [shape=box label=\\\"Ma_Y01\\\" fontsize=10];\\n  Ma_MatMul [shape=box style=\\\"filled,rounded\\\" color=orange label=\\\"MatMul\\n(Ma_MatMul)\\\" fontsize=10];\\n  Un_expanded03 -> Ma_MatMul;\\n  Un_expanded04 -> Ma_MatMul;\\n  Ma_MatMul -> Ma_Y01;\\n\\n  Sl_output02 [shape=box label=\\\"Sl_output02\\\" fontsize=10];\\n  Sl_Slice3 [shape=box style=\\\"filled,rounded\\\" color=orange label=\\\"Slice\\n(Sl_Slice3)\\\" fontsize=10];\\n  Ma_Y01 -> Sl_Slice3;\\n  Un_Unsqueezecst1 -> Sl_Slice3;\\n  Sl_Slicecst9 -> Sl_Slice3;\\n  Sl_Slicecst7 -> Sl_Slice3;\\n  Sl_Slice3 -> Sl_output02;\\n\\n  Tr_transposed01 [shape=box label=\\\"Tr_transposed01\\\" fontsize=10];\\n  Tr_Transpose1 [shape=box style=\\\"filled,rounded\\\" color=orange label=\\\"Transpose\\n(Tr_Transpose1)\\nperm=[1 0 3 2]\\\" fontsize=10];\\n  Sl_output02 -> Tr_Transpose1;\\n  Tr_Transpose1 -> Tr_transposed01;\\n\\n  Ga_output0 [shape=box label=\\\"Ga_output0\\\" fontsize=10];\\n  Ga_Gather1 [shape=box style=\\\"filled,rounded\\\" color=orange label=\\\"Gather\\n(Ga_Gather1)\\naxis=0\\\" fontsize=10];\\n  Tr_transposed01 -> Ga_Gather1;\\n  Ga_Gathercst1 -> Ga_Gather1;\\n  Ga_Gather1 -> Ga_output0;\\n\\n  Sl_output01 [shape=box label=\\\"Sl_output01\\\" fontsize=10];\\n  Sl_Slice4 [shape=box style=\\\"filled,rounded\\\" color=orange label=\\\"Slice\\n(Sl_Slice4)\\\" fontsize=10];\\n  Ga_output0 -> Sl_Slice4;\\n  Un_Unsqueezecst1 -> Sl_Slice4;\\n  Sl_Slicecst7 -> Sl_Slice4;\\n  Sl_Slicecst7 -> Sl_Slice4;\\n  Sl_Slice4 -> Sl_output01;\\n\\n  Un_expanded02 [shape=box label=\\\"Un_expanded02\\\" fontsize=10];\\n  Un_Unsqueeze3 [shape=box style=\\\"filled,rounded\\\" color=orange label=\\\"Unsqueeze\\n(Un_Unsqueeze3)\\\" fontsize=10];\\n  Sl_output01 -> Un_Unsqueeze3;\\n  Sl_Slicecst7 -> Un_Unsqueeze3;\\n  Un_Unsqueeze3 -> Un_expanded02;\\n\\n  Ma_Y0 [shape=box label=\\\"Ma_Y0\\\" fontsize=10];\\n  Ma_MatMul1 [shape=box style=\\\"filled,rounded\\\" color=orange label=\\\"MatMul\\n(Ma_MatMul1)\\\" fontsize=10];\\n  Un_expanded0 -> Ma_MatMul1;\\n  Un_expanded02 -> Ma_MatMul1;\\n  Ma_MatMul1 -> Ma_Y0;\\n\\n  Tr_transposed0 [shape=box label=\\\"Tr_transposed0\\\" fontsize=10];\\n  Tr_Transpose2 [shape=box style=\\\"filled,rounded\\\" color=orange label=\\\"Transpose\\n(Tr_Transpose2)\\nperm=[1 0 2 3]\\\" fontsize=10];\\n  Ma_Y0 -> Tr_Transpose2;\\n  Tr_Transpose2 -> Tr_transposed0;\\n\\n  Ga_output03 [shape=box label=\\\"Ga_output03\\\" fontsize=10];\\n  Ga_Gather2 [shape=box style=\\\"filled,rounded\\\" color=orange label=\\\"Gather\\n(Ga_Gather2)\\naxis=0\\\" fontsize=10];\\n  Tr_transposed01 -> Ga_Gather2;\\n  Ga_Gathercst2 -> Ga_Gather2;\\n  Ga_Gather2 -> Ga_output03;\\n\\n  Sl_output07 [shape=box label=\\\"Sl_output07\\\" fontsize=10];\\n  Sl_Slice5 [shape=box style=\\\"filled,rounded\\\" color=orange label=\\\"Slice\\n(Sl_Slice5)\\\" fontsize=10];\\n  Ga_output03 -> Sl_Slice5;\\n  Un_Unsqueezecst1 -> Sl_Slice5;\\n  Sl_Slicecst7 -> Sl_Slice5;\\n  Sl_Slicecst7 -> Sl_Slice5;\\n  Sl_Slice5 -> Sl_output07;\\n\\n  Un_expanded06 [shape=box label=\\\"Un_expanded06\\\" fontsize=10];\\n  Un_Unsqueeze5 [shape=box style=\\\"filled,rounded\\\" color=orange label=\\\"Unsqueeze\\n(Un_Unsqueeze5)\\\" fontsize=10];\\n  Sl_output07 -> Un_Unsqueeze5;\\n  Sl_Slicecst7 -> Un_Unsqueeze5;\\n  Un_Unsqueeze5 -> Un_expanded06;\\n\\n  Ma_Y03 [shape=box label=\\\"Ma_Y03\\\" fontsize=10];\\n  Ma_MatMul2 [shape=box style=\\\"filled,rounded\\\" color=orange label=\\\"MatMul\\n(Ma_MatMul2)\\\" fontsize=10];\\n  Un_expanded0 -> Ma_MatMul2;\\n  Un_expanded06 -> Ma_MatMul2;\\n  Ma_MatMul2 -> Ma_Y03;\\n\\n  Tr_transposed04 [shape=box label=\\\"Tr_transposed04\\\" fontsize=10];\\n  Tr_Transpose3 [shape=box style=\\\"filled,rounded\\\" color=orange label=\\\"Transpose\\n(Tr_Transpose3)\\nperm=[1 0 2 3]\\\" fontsize=10];\\n  Ma_Y03 -> Tr_Transpose3;\\n  Tr_Transpose3 -> Tr_transposed04;\\n\\n  Sl_output06 [shape=box label=\\\"Sl_output06\\\" fontsize=10];\\n  Sl_Slice6 [shape=box style=\\\"filled,rounded\\\" color=orange label=\\\"Slice\\n(Sl_Slice6)\\\" fontsize=10];\\n  Tr_transposed04 -> Sl_Slice6;\\n  Sl_Slicecst7 -> Sl_Slice6;\\n  Sl_Slicecst18 -> Sl_Slice6;\\n  Un_Unsqueezecst1 -> Sl_Slice6;\\n  Sl_Slice6 -> Sl_output06;\\n\\n  Ne_Y0 [shape=box label=\\\"Ne_Y0\\\" fontsize=10];\\n  Ne_Neg [shape=box style=\\\"filled,rounded\\\" color=orange label=\\\"Neg\\n(Ne_Neg)\\\" fontsize=10];\\n  Sl_output06 -> Ne_Neg;\\n  Ne_Neg -> Ne_Y0;\\n\\n  Sl_output08 [shape=box label=\\\"Sl_output08\\\" fontsize=10];\\n  Sl_Slice7 [shape=box style=\\\"filled,rounded\\\" color=orange label=\\\"Slice\\n(Sl_Slice7)\\\" fontsize=10];\\n  Tr_transposed04 -> Sl_Slice7;\\n  Un_Unsqueezecst1 -> Sl_Slice7;\\n  Sl_Slicecst7 -> Sl_Slice7;\\n  Un_Unsqueezecst1 -> Sl_Slice7;\\n  Sl_Slice7 -> Sl_output08;\\n\\n  Co_concat_result02 [shape=box label=\\\"Co_concat_result02\\\" fontsize=10];\\n  Co_Concat1 [shape=box style=\\\"filled,rounded\\\" color=orange label=\\\"Concat\\n(Co_Concat1)\\naxis=0\\\" fontsize=10];\\n  Ne_Y0 -> Co_Concat1;\\n  Sl_output08 -> Co_Concat1;\\n  Co_Concat1 -> Co_concat_result02;\\n\\n  Ad_C0 [shape=box label=\\\"Ad_C0\\\" fontsize=10];\\n  Ad_Add [shape=box style=\\\"filled,rounded\\\" color=orange label=\\\"Add\\n(Ad_Add)\\\" fontsize=10];\\n  Tr_transposed0 -> Ad_Add;\\n  Co_concat_result02 -> Ad_Add;\\n  Ad_Add -> Ad_C0;\\n\\n  Sl_output0 [shape=box label=\\\"Sl_output0\\\" fontsize=10];\\n  Sl_Slice8 [shape=box style=\\\"filled,rounded\\\" color=orange label=\\\"Slice\\n(Sl_Slice8)\\\" fontsize=10];\\n  Ad_C0 -> Sl_Slice8;\\n  Sl_Slicecst2 -> Sl_Slice8;\\n  Sl_Slicecst24 -> Sl_Slice8;\\n  Sl_Slicecst25 -> Sl_Slice8;\\n  Sl_Slice8 -> Sl_output0;\\n\\n  Sl_output010 [shape=box label=\\\"Sl_output010\\\" fontsize=10];\\n  Sl_Slice9 [shape=box style=\\\"filled,rounded\\\" color=orange label=\\\"Slice\\n(Sl_Slice9)\\\" fontsize=10];\\n  Sh_shape0 -> Sl_Slice9;\\n  Un_Unsqueezecst1 -> Sl_Slice9;\\n  Sl_Slicecst -> Sl_Slice9;\\n  Un_Unsqueezecst1 -> Sl_Slice9;\\n  Sl_Slice9 -> Sl_output010;\\n\\n  Sh_shape03 [shape=box label=\\\"Sh_shape03\\\" fontsize=10];\\n  Sh_Shape3 [shape=box style=\\\"filled,rounded\\\" color=orange label=\\\"Shape\\n(Sh_Shape3)\\\" fontsize=10];\\n  Sl_output0 -> Sh_Shape3;\\n  Sh_Shape3 -> Sh_shape03;\\n\\n  Sh_shape04 [shape=box label=\\\"Sh_shape04\\\" fontsize=10];\\n  Sh_Shape4 [shape=box style=\\\"filled,rounded\\\" color=orange label=\\\"Shape\\n(Sh_Shape4)\\\" fontsize=10];\\n  Sh_shape03 -> Sh_Shape4;\\n  Sh_Shape4 -> Sh_shape04;\\n\\n  Ga_output04 [shape=box label=\\\"Ga_output04\\\" fontsize=10];\\n  Ga_Gather3 [shape=box style=\\\"filled,rounded\\\" color=orange label=\\\"Gather\\n(Ga_Gather3)\\\" fontsize=10];\\n  Sh_shape04 -> Ga_Gather3;\\n  Un_Unsqueezecst1 -> Ga_Gather3;\\n  Ga_Gather3 -> Ga_output04;\\n\\n  Sl_output012 [shape=box label=\\\"Sl_output012\\\" fontsize=10];\\n  Sl_Slice10 [shape=box style=\\\"filled,rounded\\\" color=orange label=\\\"Slice\\n(Sl_Slice10)\\\" fontsize=10];\\n  Sh_shape03 -> Sl_Slice10;\\n  Sl_Slicecst -> Sl_Slice10;\\n  Ga_output04 -> Sl_Slice10;\\n  Un_Unsqueezecst1 -> Sl_Slice10;\\n  Sl_Slice10 -> Sl_output012;\\n\\n  Co_concat_result03 [shape=box label=\\\"Co_concat_result03\\\" fontsize=10];\\n  Co_Concat2 [shape=box style=\\\"filled,rounded\\\" color=orange label=\\\"Concat\\n(Co_Concat2)\\naxis=0\\\" fontsize=10];\\n  Sl_Slicecst18 -> Co_Concat2;\\n  Sl_output010 -> Co_Concat2;\\n  Sl_output012 -> Co_Concat2;\\n  Co_Concat2 -> Co_concat_result03;\\n\\n  Re_Reshape1 [shape=box style=\\\"filled,rounded\\\" color=orange label=\\\"Reshape\\n(Re_Reshape1)\\\" fontsize=10];\\n  Sl_output0 -> Re_Reshape1;\\n  Co_concat_result03 -> Re_Reshape1;\\n  Re_Reshape1 -> y;\\n}\");\n",
       "document.getElementById('M28288971816c4e2bb98e2aae624917c5').innerHTML = svgGraph; });\n",
       "\n",
       "</script>"
      ],
      "text/plain": [
       "<jyquickhelper.jspy.render_nb_js_dot.RenderJsDot at 0x24c3900caf0>"
      ]
     },
     "execution_count": 43,
     "metadata": {},
     "output_type": "execute_result"
    }
   ],
   "source": [
    "key = list(onnx_rfft_2d_any.signed_compiled)[0]\n",
    "%onnxview onnx_rfft_2d_any.signed_compiled[key].compiled.onnx_"
   ]
  },
  {
   "cell_type": "code",
   "execution_count": 44,
   "id": "2ab7a3d0",
   "metadata": {},
   "outputs": [],
   "source": [
    "with open(\"fft2d_any.onnx\", \"wb\") as f:\n",
    "    key = list(onnx_rfft_2d_any.signed_compiled)[0]\n",
    "    f.write(onnx_rfft_2d_any.signed_compiled[key].compiled.onnx_.SerializeToString())"
   ]
  },
  {
   "cell_type": "markdown",
   "id": "3c17b577",
   "metadata": {},
   "source": [
    "Let's check the intermediate results."
   ]
  },
  {
   "cell_type": "code",
   "execution_count": 45,
   "id": "9e5507f7",
   "metadata": {},
   "outputs": [
    {
     "data": {
      "text/plain": [
       "FctVersion((numpy.float32,), ((1, 4),))"
      ]
     },
     "execution_count": 45,
     "metadata": {},
     "output_type": "execute_result"
    }
   ],
   "source": [
    "key = list(onnx_rfft_2d_any.signed_compiled)[0]\n",
    "key"
   ]
  },
  {
   "cell_type": "code",
   "execution_count": 46,
   "id": "376036f8",
   "metadata": {
    "scrolled": false
   },
   "outputs": [
    {
     "name": "stdout",
     "output_type": "stream",
     "text": [
      "+ki='Un_Unsqueezecst': (2, 1, 1) (dtype=float32 min=0.0 max=1.0)\n",
      "+ki='Un_Unsqueezecst1': (1,) (dtype=int64 min=0 max=0)\n",
      "+ki='Un_Unsqueezecst2': (2, 4, 4) (dtype=float32 min=-1.0 max=1.0)\n",
      "+ki='Co_Concatcst': (1,) (dtype=int64 min=-1 max=-1)\n",
      "+ki='Sl_Slicecst': (1,) (dtype=int64 min=-2 max=-2)\n",
      "+ki='Sl_Slicecst2': (2,) (dtype=int64 min=0 max=0)\n",
      "+ki='Sl_Slicecst3': (2,) (dtype=int64 min=1 max=4)\n",
      "+ki='Sl_Slicecst4': (2,) (dtype=int64 min=1 max=2)\n",
      "+ki='Sl_Slicecst6': (1,) (dtype=int64 min=4 max=4)\n",
      "+ki='Sl_Slicecst7': (1,) (dtype=int64 min=1 max=1)\n",
      "+ki='Sl_Slicecst9': (1,) (dtype=int64 min=3 max=3)\n",
      "+ki='Ga_Gathercst1': () (dtype=int64 min=0 max=0)\n",
      "+ki='Ga_Gathercst2': () (dtype=int64 min=1 max=1)\n",
      "+ki='Sl_Slicecst18': (1,) (dtype=int64 min=2 max=2)\n",
      "+ki='Sl_Slicecst24': (2,) (dtype=int64 min=1 max=3)\n",
      "+ki='Sl_Slicecst25': (2,) (dtype=int64 min=2 max=3)\n",
      "-- OnnxInference: run 38 nodes\n",
      "Onnx-Unsqueeze(Un_Unsqueezecst, Un_Unsqueezecst1) -> Un_expanded0    (name='Un_Unsqueeze')\n",
      "+kr='Un_expanded0': (1, 2, 1, 1) (dtype=float32 min=0.0 max=1.0)\n",
      "Onnx-Unsqueeze(Un_Unsqueezecst2, Un_Unsqueezecst1) -> Un_expanded03    (name='Un_Unsqueeze1')\n",
      "+kr='Un_expanded03': (1, 2, 4, 4) (dtype=float32 min=-1.0 max=1.0)\n",
      "Onnx-Shape(x) -> Sh_shape0    (name='Sh_Shape')\n",
      "+kr='Sh_shape0': (3,) (dtype=int64 min=1 max=4)\n",
      "Onnx-Shape(Sh_shape0) -> Sh_shape01    (name='Sh_Shape1')\n",
      "+kr='Sh_shape01': (1,) (dtype=int64 min=3 max=3)\n",
      "Onnx-Gather(Sh_shape01, Un_Unsqueezecst1) -> Ga_output01    (name='Ga_Gather')\n",
      "+kr='Ga_output01': (1,) (dtype=int64 min=3 max=3)\n",
      "Onnx-Slice(Sh_shape0, Sl_Slicecst, Ga_output01, Un_Unsqueezecst1) -> Sl_output05    (name='Sl_Slice')\n",
      "+kr='Sl_output05': (2,) (dtype=int64 min=1 max=4)\n",
      "Onnx-Concat(Co_Concatcst, Sl_output05) -> Co_concat_result0    (name='Co_Concat')\n",
      "+kr='Co_concat_result0': (3,) (dtype=int64 min=-1 max=4)\n",
      "Onnx-Reshape(x, Co_concat_result0) -> Re_reshaped0    (name='Re_Reshape')\n",
      "+kr='Re_reshaped0': (3, 1, 4) (dtype=float32 min=-1.5941405296325684 max=1.1006875038146973)\n",
      "Onnx-Slice(Re_reshaped0, Sl_Slicecst2, Sl_Slicecst3, Sl_Slicecst4) -> Sl_output04    (name='Sl_Slice1')\n",
      "+kr='Sl_output04': (3, 1, 4) (dtype=float32 min=-1.5941405296325684 max=1.1006875038146973)\n",
      "Onnx-Transpose(Sl_output04) -> Tr_transposed02    (name='Tr_Transpose')\n",
      "+kr='Tr_transposed02': (3, 4, 1) (dtype=float32 min=-1.5941405296325684 max=1.1006875038146973)\n",
      "Onnx-Slice(Tr_transposed02, Un_Unsqueezecst1, Sl_Slicecst6, Sl_Slicecst7) -> Sl_output03    (name='Sl_Slice2')\n",
      "+kr='Sl_output03': (3, 4, 1) (dtype=float32 min=-1.5941405296325684 max=1.1006875038146973)\n",
      "Onnx-Unsqueeze(Sl_output03, Sl_Slicecst7) -> Un_expanded04    (name='Un_Unsqueeze2')\n",
      "+kr='Un_expanded04': (3, 1, 4, 1) (dtype=float32 min=-1.5941405296325684 max=1.1006875038146973)\n",
      "Onnx-MatMul(Un_expanded03, Un_expanded04) -> Ma_Y01    (name='Ma_MatMul')\n",
      "+kr='Ma_Y01': (3, 2, 4, 1) (dtype=float32 min=-2.508474588394165 max=3.18086314201355)\n",
      "Onnx-Slice(Ma_Y01, Un_Unsqueezecst1, Sl_Slicecst9, Sl_Slicecst7) -> Sl_output02    (name='Sl_Slice3')\n",
      "+kr='Sl_output02': (3, 2, 4, 1) (dtype=float32 min=-2.508474588394165 max=3.18086314201355)\n",
      "Onnx-Transpose(Sl_output02) -> Tr_transposed01    (name='Tr_Transpose1')\n",
      "+kr='Tr_transposed01': (2, 3, 1, 4) (dtype=float32 min=-2.508474588394165 max=3.18086314201355)\n",
      "Onnx-Gather(Tr_transposed01, Ga_Gathercst1) -> Ga_output0    (name='Ga_Gather1')\n",
      "+kr='Ga_output0': (3, 1, 4) (dtype=float32 min=-2.508474588394165 max=3.18086314201355)\n",
      "Onnx-Slice(Ga_output0, Un_Unsqueezecst1, Sl_Slicecst7, Sl_Slicecst7) -> Sl_output01    (name='Sl_Slice4')\n",
      "+kr='Sl_output01': (3, 1, 4) (dtype=float32 min=-2.508474588394165 max=3.18086314201355)\n",
      "Onnx-Unsqueeze(Sl_output01, Sl_Slicecst7) -> Un_expanded02    (name='Un_Unsqueeze3')\n",
      "+kr='Un_expanded02': (3, 1, 1, 4) (dtype=float32 min=-2.508474588394165 max=3.18086314201355)\n",
      "Onnx-MatMul(Un_expanded0, Un_expanded02) -> Ma_Y0    (name='Ma_MatMul1')\n",
      "+kr='Ma_Y0': (3, 2, 1, 4) (dtype=float32 min=-2.508474588394165 max=3.18086314201355)\n",
      "Onnx-Transpose(Ma_Y0) -> Tr_transposed0    (name='Tr_Transpose2')\n",
      "+kr='Tr_transposed0': (2, 3, 1, 4) (dtype=float32 min=-2.508474588394165 max=3.18086314201355)\n",
      "Onnx-Gather(Tr_transposed01, Ga_Gathercst2) -> Ga_output03    (name='Ga_Gather2')\n",
      "+kr='Ga_output03': (3, 1, 4) (dtype=float32 min=-2.1299846172332764 max=2.1299846172332764)\n",
      "Onnx-Slice(Ga_output03, Un_Unsqueezecst1, Sl_Slicecst7, Sl_Slicecst7) -> Sl_output07    (name='Sl_Slice5')\n",
      "+kr='Sl_output07': (3, 1, 4) (dtype=float32 min=-2.1299846172332764 max=2.1299846172332764)\n",
      "Onnx-Unsqueeze(Sl_output07, Sl_Slicecst7) -> Un_expanded06    (name='Un_Unsqueeze5')\n",
      "+kr='Un_expanded06': (3, 1, 1, 4) (dtype=float32 min=-2.1299846172332764 max=2.1299846172332764)\n",
      "Onnx-MatMul(Un_expanded0, Un_expanded06) -> Ma_Y03    (name='Ma_MatMul2')\n",
      "+kr='Ma_Y03': (3, 2, 1, 4) (dtype=float32 min=-2.1299846172332764 max=2.1299846172332764)\n",
      "Onnx-Transpose(Ma_Y03) -> Tr_transposed04    (name='Tr_Transpose3')\n",
      "+kr='Tr_transposed04': (2, 3, 1, 4) (dtype=float32 min=-2.1299846172332764 max=2.1299846172332764)\n",
      "Onnx-Slice(Tr_transposed04, Sl_Slicecst7, Sl_Slicecst18, Un_Unsqueezecst1) -> Sl_output06    (name='Sl_Slice6')\n",
      "+kr='Sl_output06': (1, 3, 1, 4) (dtype=float32 min=0.0 max=0.0)\n",
      "Onnx-Neg(Sl_output06) -> Ne_Y0    (name='Ne_Neg')\n",
      "+kr='Ne_Y0': (1, 3, 1, 4) (dtype=float32 min=-0.0 max=-0.0)\n",
      "Onnx-Slice(Tr_transposed04, Un_Unsqueezecst1, Sl_Slicecst7, Un_Unsqueezecst1) -> Sl_output08    (name='Sl_Slice7')\n",
      "+kr='Sl_output08': (1, 3, 1, 4) (dtype=float32 min=-2.1299846172332764 max=2.1299846172332764)\n",
      "Onnx-Concat(Ne_Y0, Sl_output08) -> Co_concat_result02    (name='Co_Concat1')\n",
      "+kr='Co_concat_result02': (2, 3, 1, 4) (dtype=float32 min=-2.1299846172332764 max=2.1299846172332764)\n",
      "Onnx-Add(Tr_transposed0, Co_concat_result02) -> Ad_C0    (name='Ad_Add')\n",
      "+kr='Ad_C0': (2, 3, 1, 4) (dtype=float32 min=-2.508474588394165 max=3.18086314201355)\n",
      "Onnx-Slice(Ad_C0, Sl_Slicecst2, Sl_Slicecst24, Sl_Slicecst25) -> Sl_output0    (name='Sl_Slice8')\n",
      "+kr='Sl_output0': (2, 3, 1, 3) (dtype=float32 min=-2.508474588394165 max=3.18086314201355)\n",
      "Onnx-Slice(Sh_shape0, Un_Unsqueezecst1, Sl_Slicecst, Un_Unsqueezecst1) -> Sl_output010    (name='Sl_Slice9')\n",
      "+kr='Sl_output010': (1,) (dtype=int64 min=3 max=3)\n",
      "Onnx-Shape(Sl_output0) -> Sh_shape03    (name='Sh_Shape3')\n",
      "+kr='Sh_shape03': (4,) (dtype=int64 min=1 max=3)\n",
      "Onnx-Shape(Sh_shape03) -> Sh_shape04    (name='Sh_Shape4')\n",
      "+kr='Sh_shape04': (1,) (dtype=int64 min=4 max=4)\n",
      "Onnx-Gather(Sh_shape04, Un_Unsqueezecst1) -> Ga_output04    (name='Ga_Gather3')\n",
      "+kr='Ga_output04': (1,) (dtype=int64 min=4 max=4)\n",
      "Onnx-Slice(Sh_shape03, Sl_Slicecst, Ga_output04, Un_Unsqueezecst1) -> Sl_output012    (name='Sl_Slice10')\n",
      "+kr='Sl_output012': (2,) (dtype=int64 min=1 max=3)\n",
      "Onnx-Concat(Sl_Slicecst18, Sl_output010, Sl_output012) -> Co_concat_result03    (name='Co_Concat2')\n",
      "+kr='Co_concat_result03': (4,) (dtype=int64 min=1 max=3)\n",
      "Onnx-Reshape(Sl_output0, Co_concat_result03) -> y    (name='Re_Reshape1')\n",
      "+kr='y': (2, 3, 1, 3) (dtype=float32 min=-2.508474588394165 max=3.18086314201355)\n"
     ]
    },
    {
     "data": {
      "text/plain": [
       "{'y': array([[[[ 1.0642704e+00,  7.8808188e-02,  3.1808631e+00]],\n",
       " \n",
       "         [[-1.7878022e+00, -2.5084746e+00,  5.4854429e-01]],\n",
       " \n",
       "         [[-2.2876425e+00,  8.1763226e-01,  4.4160408e-01]]],\n",
       " \n",
       " \n",
       "        [[[ 0.0000000e+00, -2.1299846e+00,  7.7034396e-16]],\n",
       " \n",
       "         [[ 0.0000000e+00,  1.2344277e-01,  5.0231944e-16]],\n",
       " \n",
       "         [[ 0.0000000e+00,  1.0373981e+00, -5.9766380e-18]]]],\n",
       "       dtype=float32)}"
      ]
     },
     "execution_count": 46,
     "metadata": {},
     "output_type": "execute_result"
    }
   ],
   "source": [
    "from mlprodict.onnxrt import OnnxInference\n",
    "\n",
    "x = numpy.random.randn(3, 1, 4).astype(numpy.float32)\n",
    "onx = onnx_rfft_2d_any.signed_compiled[key].compiled.onnx_\n",
    "oinf = OnnxInference(onx)\n",
    "oinf.run({'x': x}, verbose=1, fLOG=print)"
   ]
  },
  {
   "cell_type": "code",
   "execution_count": null,
   "id": "3843308e",
   "metadata": {},
   "outputs": [],
   "source": []
  }
 ],
 "metadata": {
  "kernelspec": {
   "display_name": "Python 3",
   "language": "python",
   "name": "python3"
  },
  "language_info": {
   "codemirror_mode": {
    "name": "ipython",
    "version": 3
   },
   "file_extension": ".py",
   "mimetype": "text/x-python",
   "name": "python",
   "nbconvert_exporter": "python",
   "pygments_lexer": "ipython3",
   "version": "3.9.5"
  }
 },
 "nbformat": 4,
 "nbformat_minor": 5
}
